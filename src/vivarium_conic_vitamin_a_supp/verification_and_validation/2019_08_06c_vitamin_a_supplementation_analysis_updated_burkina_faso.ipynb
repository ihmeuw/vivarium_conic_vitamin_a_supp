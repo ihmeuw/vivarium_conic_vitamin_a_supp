{
 "cells": [
  {
   "cell_type": "code",
   "execution_count": 1,
   "metadata": {
    "scrolled": true
   },
   "outputs": [
    {
     "name": "stdout",
     "output_type": "stream",
     "text": [
      "Mon Aug 12 14:54:00 PDT 2019\n",
      "The autoreload extension is already loaded. To reload it, use:\n",
      "  %reload_ext autoreload\n"
     ]
    }
   ],
   "source": [
    "import numpy as np, pandas as pd, matplotlib.pyplot as plt\n",
    "pd.set_option('display.max_rows', 12)\n",
    "!date\n",
    "\n",
    "%reload_ext autoreload\n",
    "%load_ext autoreload\n",
    "%autoreload 2"
   ]
  },
  {
   "cell_type": "markdown",
   "metadata": {},
   "source": [
    "# Inspect results of Vitamin A distributed run\n",
    "### Burkina Faso: Baseline Coverage = 0.88, Intrevention Coverage = 0.94"
   ]
  },
  {
   "cell_type": "code",
   "execution_count": 2,
   "metadata": {
    "scrolled": true
   },
   "outputs": [
    {
     "name": "stdout",
     "output_type": "stream",
     "text": [
      "/share/costeffectiveness/results/burkina_faso/2019_08_07_10_03_03/output.hdf\n"
     ]
    }
   ],
   "source": [
    "# input_draw_count = 100 and population_size = 10_000\n",
    "proj = 'burkina_faso'\n",
    "time = '2019_08_07_10_03_03'\n",
    "\n",
    "fname = f'/share/costeffectiveness/results/{proj}/{time}/output.hdf'\n",
    "print(fname)"
   ]
  },
  {
   "cell_type": "code",
   "execution_count": 3,
   "metadata": {},
   "outputs": [],
   "source": [
    "cov_base = 0.88\n",
    "cov_tar = 0.94"
   ]
  },
  {
   "cell_type": "code",
   "execution_count": 4,
   "metadata": {
    "scrolled": false
   },
   "outputs": [
    {
     "data": {
      "text/plain": [
       "(200, 150)"
      ]
     },
     "execution_count": 4,
     "metadata": {},
     "output_type": "execute_result"
    }
   ],
   "source": [
    "df = pd.read_hdf(fname)\n",
    "# df = df.loc[df['vitamin_a_supplementation.target_coverage'] == cov_tar]\n",
    "df.shape"
   ]
  },
  {
   "cell_type": "code",
   "execution_count": 5,
   "metadata": {
    "scrolled": true
   },
   "outputs": [
    {
     "data": {
      "text/plain": [
       "array([0.88, 0.94])"
      ]
     },
     "execution_count": 5,
     "metadata": {},
     "output_type": "execute_result"
    }
   ],
   "source": [
    "df['vitamin_a_supplementation.target_coverage'].unique()"
   ]
  },
  {
   "cell_type": "code",
   "execution_count": 6,
   "metadata": {
    "scrolled": true
   },
   "outputs": [
    {
     "data": {
      "text/plain": [
       "['total_population_untracked',\n",
       " 'total_population_tracked',\n",
       " 'total_population',\n",
       " 'death_due_to_measles_in_2017',\n",
       " 'death_due_to_diarrheal_diseases_in_2017',\n",
       " 'death_due_to_lower_respiratory_infections_in_2017',\n",
       " 'death_due_to_other_causes_in_2017',\n",
       " 'death_due_to_measles_in_2018',\n",
       " 'death_due_to_diarrheal_diseases_in_2018',\n",
       " 'death_due_to_lower_respiratory_infections_in_2018',\n",
       " 'death_due_to_other_causes_in_2018',\n",
       " 'death_due_to_measles_in_2019',\n",
       " 'death_due_to_diarrheal_diseases_in_2019',\n",
       " 'death_due_to_lower_respiratory_infections_in_2019',\n",
       " 'death_due_to_other_causes_in_2019',\n",
       " 'death_due_to_measles_in_2020',\n",
       " 'death_due_to_diarrheal_diseases_in_2020',\n",
       " 'death_due_to_lower_respiratory_infections_in_2020',\n",
       " 'death_due_to_other_causes_in_2020',\n",
       " 'death_due_to_measles_in_2021',\n",
       " 'death_due_to_diarrheal_diseases_in_2021',\n",
       " 'death_due_to_lower_respiratory_infections_in_2021',\n",
       " 'death_due_to_other_causes_in_2021',\n",
       " 'death_due_to_measles_in_2022',\n",
       " 'death_due_to_diarrheal_diseases_in_2022',\n",
       " 'death_due_to_lower_respiratory_infections_in_2022',\n",
       " 'death_due_to_other_causes_in_2022',\n",
       " 'death_due_to_measles_in_2023',\n",
       " 'death_due_to_diarrheal_diseases_in_2023',\n",
       " 'death_due_to_lower_respiratory_infections_in_2023',\n",
       " 'death_due_to_other_causes_in_2023',\n",
       " 'ylls_due_to_measles_in_2018',\n",
       " 'ylls_due_to_measles_in_2019',\n",
       " 'ylls_due_to_measles_in_2021',\n",
       " 'total_population_living',\n",
       " 'total_population_dead',\n",
       " 'vitamin_a_deficiency_cat1_exposed_in_2017_among_early_neonatal',\n",
       " 'vitamin_a_deficiency_cat2_exposed_in_2017_among_early_neonatal',\n",
       " 'vitamin_a_deficiency_cat1_exposed_in_2018_among_early_neonatal',\n",
       " 'vitamin_a_deficiency_cat2_exposed_in_2018_among_early_neonatal',\n",
       " 'vitamin_a_deficiency_cat1_exposed_in_2019_among_early_neonatal',\n",
       " 'vitamin_a_deficiency_cat2_exposed_in_2019_among_early_neonatal',\n",
       " 'vitamin_a_deficiency_cat1_exposed_in_2020_among_early_neonatal',\n",
       " 'vitamin_a_deficiency_cat2_exposed_in_2020_among_early_neonatal',\n",
       " 'vitamin_a_deficiency_cat1_exposed_in_2021_among_early_neonatal',\n",
       " 'vitamin_a_deficiency_cat2_exposed_in_2021_among_early_neonatal',\n",
       " 'vitamin_a_deficiency_cat1_exposed_in_2022_among_early_neonatal',\n",
       " 'vitamin_a_deficiency_cat2_exposed_in_2022_among_early_neonatal',\n",
       " 'vitamin_a_deficiency_cat1_exposed_in_2023_among_early_neonatal',\n",
       " 'vitamin_a_deficiency_cat2_exposed_in_2023_among_early_neonatal',\n",
       " 'vitamin_a_deficiency_cat1_exposed_in_2017_among_late_neonatal',\n",
       " 'vitamin_a_deficiency_cat2_exposed_in_2017_among_late_neonatal',\n",
       " 'vitamin_a_deficiency_cat1_exposed_in_2018_among_late_neonatal',\n",
       " 'vitamin_a_deficiency_cat2_exposed_in_2018_among_late_neonatal',\n",
       " 'vitamin_a_deficiency_cat1_exposed_in_2019_among_late_neonatal',\n",
       " 'vitamin_a_deficiency_cat2_exposed_in_2019_among_late_neonatal',\n",
       " 'vitamin_a_deficiency_cat1_exposed_in_2020_among_late_neonatal',\n",
       " 'vitamin_a_deficiency_cat2_exposed_in_2020_among_late_neonatal',\n",
       " 'vitamin_a_deficiency_cat1_exposed_in_2021_among_late_neonatal',\n",
       " 'vitamin_a_deficiency_cat2_exposed_in_2021_among_late_neonatal',\n",
       " 'vitamin_a_deficiency_cat1_exposed_in_2022_among_late_neonatal',\n",
       " 'vitamin_a_deficiency_cat2_exposed_in_2022_among_late_neonatal',\n",
       " 'vitamin_a_deficiency_cat1_exposed_in_2023_among_late_neonatal',\n",
       " 'vitamin_a_deficiency_cat2_exposed_in_2023_among_late_neonatal',\n",
       " 'vitamin_a_deficiency_cat1_exposed_in_2017_among_post_neonatal',\n",
       " 'vitamin_a_deficiency_cat2_exposed_in_2017_among_post_neonatal',\n",
       " 'vitamin_a_deficiency_cat1_exposed_in_2018_among_post_neonatal',\n",
       " 'vitamin_a_deficiency_cat2_exposed_in_2018_among_post_neonatal',\n",
       " 'vitamin_a_deficiency_cat1_exposed_in_2019_among_post_neonatal',\n",
       " 'vitamin_a_deficiency_cat2_exposed_in_2019_among_post_neonatal',\n",
       " 'vitamin_a_deficiency_cat1_exposed_in_2020_among_post_neonatal',\n",
       " 'vitamin_a_deficiency_cat2_exposed_in_2020_among_post_neonatal',\n",
       " 'vitamin_a_deficiency_cat1_exposed_in_2021_among_post_neonatal',\n",
       " 'vitamin_a_deficiency_cat2_exposed_in_2021_among_post_neonatal',\n",
       " 'vitamin_a_deficiency_cat1_exposed_in_2022_among_post_neonatal',\n",
       " 'vitamin_a_deficiency_cat2_exposed_in_2022_among_post_neonatal',\n",
       " 'vitamin_a_deficiency_cat1_exposed_in_2023_among_post_neonatal',\n",
       " 'vitamin_a_deficiency_cat2_exposed_in_2023_among_post_neonatal',\n",
       " 'vitamin_a_deficiency_cat1_exposed_in_2017_among_1_to_4',\n",
       " 'vitamin_a_deficiency_cat2_exposed_in_2017_among_1_to_4',\n",
       " 'vitamin_a_deficiency_cat1_exposed_in_2018_among_1_to_4',\n",
       " 'vitamin_a_deficiency_cat2_exposed_in_2018_among_1_to_4',\n",
       " 'vitamin_a_deficiency_cat1_exposed_in_2019_among_1_to_4',\n",
       " 'vitamin_a_deficiency_cat2_exposed_in_2019_among_1_to_4',\n",
       " 'vitamin_a_deficiency_cat1_exposed_in_2020_among_1_to_4',\n",
       " 'vitamin_a_deficiency_cat2_exposed_in_2020_among_1_to_4',\n",
       " 'vitamin_a_deficiency_cat1_exposed_in_2021_among_1_to_4',\n",
       " 'vitamin_a_deficiency_cat2_exposed_in_2021_among_1_to_4',\n",
       " 'vitamin_a_deficiency_cat1_exposed_in_2022_among_1_to_4',\n",
       " 'vitamin_a_deficiency_cat2_exposed_in_2022_among_1_to_4',\n",
       " 'vitamin_a_deficiency_cat1_exposed_in_2023_among_1_to_4',\n",
       " 'vitamin_a_deficiency_cat2_exposed_in_2023_among_1_to_4',\n",
       " 'supplemented_days_in_2017',\n",
       " 'supplemented_days_in_2018',\n",
       " 'supplemented_days_in_2019',\n",
       " 'supplemented_days_in_2020',\n",
       " 'supplemented_days_in_2021',\n",
       " 'supplemented_days_in_2022',\n",
       " 'supplemented_days_in_2023',\n",
       " 'measles_prevalent_cases_at_sim_end',\n",
       " 'diarrheal_diseases_prevalent_cases_at_sim_end',\n",
       " 'lower_respiratory_infections_prevalent_cases_at_sim_end',\n",
       " 'susceptible_to_measles_event_count',\n",
       " 'measles_event_count',\n",
       " 'recovered_from_measles_event_count',\n",
       " 'susceptible_to_diarrheal_diseases_event_count',\n",
       " 'diarrheal_diseases_event_count',\n",
       " 'susceptible_to_lower_respiratory_infections_event_count',\n",
       " 'lower_respiratory_infections_event_count',\n",
       " 'input_draw',\n",
       " 'random_seed',\n",
       " 'person_time_in_2017',\n",
       " 'person_time_in_2018',\n",
       " 'person_time_in_2019',\n",
       " 'person_time_in_2020',\n",
       " 'person_time_in_2021',\n",
       " 'person_time_in_2022',\n",
       " 'person_time_in_2023',\n",
       " 'ylls_due_to_measles_in_2017',\n",
       " 'ylls_due_to_diarrheal_diseases_in_2017',\n",
       " 'ylls_due_to_lower_respiratory_infections_in_2017',\n",
       " 'ylls_due_to_other_causes_in_2017',\n",
       " 'ylls_due_to_diarrheal_diseases_in_2018',\n",
       " 'ylls_due_to_lower_respiratory_infections_in_2018',\n",
       " 'ylls_due_to_other_causes_in_2018',\n",
       " 'ylls_due_to_diarrheal_diseases_in_2019',\n",
       " 'ylls_due_to_lower_respiratory_infections_in_2019',\n",
       " 'ylls_due_to_other_causes_in_2019',\n",
       " 'ylls_due_to_measles_in_2020',\n",
       " 'ylls_due_to_diarrheal_diseases_in_2020',\n",
       " 'ylls_due_to_lower_respiratory_infections_in_2020',\n",
       " 'ylls_due_to_other_causes_in_2020',\n",
       " 'ylls_due_to_diarrheal_diseases_in_2021',\n",
       " 'ylls_due_to_lower_respiratory_infections_in_2021',\n",
       " 'ylls_due_to_other_causes_in_2021',\n",
       " 'ylls_due_to_measles_in_2022',\n",
       " 'ylls_due_to_diarrheal_diseases_in_2022',\n",
       " 'ylls_due_to_lower_respiratory_infections_in_2022',\n",
       " 'ylls_due_to_other_causes_in_2022',\n",
       " 'ylls_due_to_measles_in_2023',\n",
       " 'ylls_due_to_diarrheal_diseases_in_2023',\n",
       " 'ylls_due_to_lower_respiratory_infections_in_2023',\n",
       " 'ylls_due_to_other_causes_in_2023',\n",
       " 'years_of_life_lost',\n",
       " 'years_lived_with_disability',\n",
       " 'ylds_due_to_measles',\n",
       " 'ylds_due_to_diarrheal_diseases',\n",
       " 'ylds_due_to_lower_respiratory_infections',\n",
       " 'simulation_run_time',\n",
       " 'vitamin_a_supplementation.target_coverage']"
      ]
     },
     "execution_count": 6,
     "metadata": {},
     "output_type": "execute_result"
    }
   ],
   "source": [
    "df = df.iloc[:, :]\n",
    "list(df.columns)"
   ]
  },
  {
   "cell_type": "code",
   "execution_count": 7,
   "metadata": {
    "scrolled": true
   },
   "outputs": [
    {
     "name": "stdout",
     "output_type": "stream",
     "text": [
      "Exposure in 2017 is 0.28727412012891634\n",
      "Exposure in 2018 is 0.2865803219381513\n",
      "Exposure in 2019 is 0.28487709163733393\n",
      "Exposure in 2020 is 0.2832007236441336\n",
      "Exposure in 2021 is 0.281491861428281\n",
      "Exposure in 2022 is 0.28078116106851264\n",
      "Exposure in 2023 is 0.2801533745658388\n"
     ]
    }
   ],
   "source": [
    "df['exposure_2017'] = df.vitamin_a_deficiency_cat1_exposed_in_2017_among_1_to_4/(df.vitamin_a_deficiency_cat1_exposed_in_2017_among_1_to_4 + df.vitamin_a_deficiency_cat2_exposed_in_2017_among_1_to_4)\n",
    "print(\"Exposure in 2017 is \" + str(df.exposure_2017.mean()))\n",
    "df['exposure_2018'] = df.vitamin_a_deficiency_cat1_exposed_in_2018_among_1_to_4/(df.vitamin_a_deficiency_cat1_exposed_in_2018_among_1_to_4 + df.vitamin_a_deficiency_cat2_exposed_in_2018_among_1_to_4)\n",
    "print(\"Exposure in 2018 is \" + str(df.exposure_2018.mean()))\n",
    "df['exposure_2019'] = df.vitamin_a_deficiency_cat1_exposed_in_2019_among_1_to_4/(df.vitamin_a_deficiency_cat1_exposed_in_2019_among_1_to_4 + df.vitamin_a_deficiency_cat2_exposed_in_2019_among_1_to_4)\n",
    "print(\"Exposure in 2019 is \" + str(df.exposure_2019.mean()))\n",
    "df['exposure_2020'] = df.vitamin_a_deficiency_cat1_exposed_in_2020_among_1_to_4/(df.vitamin_a_deficiency_cat1_exposed_in_2020_among_1_to_4 + df.vitamin_a_deficiency_cat2_exposed_in_2020_among_1_to_4)\n",
    "print(\"Exposure in 2020 is \" + str(df.exposure_2020.mean()))\n",
    "df['exposure_2021'] = df.vitamin_a_deficiency_cat1_exposed_in_2021_among_1_to_4/(df.vitamin_a_deficiency_cat1_exposed_in_2021_among_1_to_4 + df.vitamin_a_deficiency_cat2_exposed_in_2021_among_1_to_4)\n",
    "print(\"Exposure in 2021 is \" + str(df.exposure_2021.mean()))\n",
    "df['exposure_2022'] = df.vitamin_a_deficiency_cat1_exposed_in_2022_among_1_to_4/(df.vitamin_a_deficiency_cat1_exposed_in_2022_among_1_to_4 + df.vitamin_a_deficiency_cat2_exposed_in_2022_among_1_to_4)\n",
    "print(\"Exposure in 2022 is \" + str(df.exposure_2022.mean()))\n",
    "df['exposure_2023'] = df.vitamin_a_deficiency_cat1_exposed_in_2023_among_1_to_4/(df.vitamin_a_deficiency_cat1_exposed_in_2023_among_1_to_4 + df.vitamin_a_deficiency_cat2_exposed_in_2023_among_1_to_4)\n",
    "print(\"Exposure in 2023 is \" + str(df.exposure_2023.mean()))\n",
    "exposure_target = np.array([df.exposure_2017.mean(), df.exposure_2018.mean(), df.exposure_2019.mean(), df.exposure_2020.mean(), \n",
    "                  df.exposure_2021.mean(), df.exposure_2022.mean(), df.exposure_2023.mean()])"
   ]
  },
  {
   "cell_type": "code",
   "execution_count": 8,
   "metadata": {},
   "outputs": [],
   "source": [
    "# py_17 = df.person_time_in_2017.mean()\n",
    "# py_18 = df.person_time_in_2018.mean()\n",
    "# py_19 = df.person_time_in_2019.mean()\n",
    "# py_20 = df.person_time_in_2020.mean()\n",
    "# py_21 = df.person_time_in_2021.mean()\n",
    "# py_22 = df.person_time_in_2022.mean()\n",
    "# py_23 = df.person_time_in_2023.mean()"
   ]
  },
  {
   "cell_type": "code",
   "execution_count": 9,
   "metadata": {},
   "outputs": [],
   "source": [
    "df['yll_measles_per_py_17'] = df.ylls_due_to_measles_in_2017 / df.person_time_in_2017\n",
    "df['yll_diarrhea_per_py_17'] = df.ylls_due_to_diarrheal_diseases_in_2017 / df.person_time_in_2017\n",
    "df['yll_lri_per_py_17'] = df.ylls_due_to_lower_respiratory_infections_in_2017 / df.person_time_in_2017\n",
    "df['yll_per_py_17'] = df.yll_measles_per_py_17 + df.yll_diarrhea_per_py_17 + df.yll_lri_per_py_17\n",
    "\n",
    "df['yld_measles_per_py_17'] = df.ylds_due_to_measles / df.person_time_in_2017\n",
    "df['yld_diarrhea_per_py_17'] = df.ylds_due_to_diarrheal_diseases / df.person_time_in_2017\n",
    "df['yld_lri_per_py_17'] = df.ylds_due_to_lower_respiratory_infections / df.person_time_in_2017\n",
    "df['yld_per_py_17'] = df.yld_measles_per_py_17 + df.yld_diarrhea_per_py_17 + df.yld_lri_per_py_17\n",
    "\n",
    "df['daly_measles_per_py_17'] = df.yll_measles_per_py_17 + df.yld_measles_per_py_17\n",
    "df['daly_diarrhea_per_py_17'] = df.yll_diarrhea_per_py_17 + df.yld_diarrhea_per_py_17\n",
    "df['daly_lri_per_py_17'] = df.yll_lri_per_py_17 + df.yld_lri_per_py_17\n",
    "df['daly_per_py_17'] = df.daly_measles_per_py_17 + df.daly_diarrhea_per_py_17 + df.daly_lri_per_py_17"
   ]
  },
  {
   "cell_type": "code",
   "execution_count": 10,
   "metadata": {},
   "outputs": [],
   "source": [
    "df['yll_measles_per_py_18'] = df.ylls_due_to_measles_in_2018 / df.person_time_in_2018\n",
    "df['yll_diarrhea_per_py_18'] = df.ylls_due_to_diarrheal_diseases_in_2018 / df.person_time_in_2018\n",
    "df['yll_lri_per_py_18'] = df.ylls_due_to_lower_respiratory_infections_in_2018 / df.person_time_in_2018\n",
    "df['yll_per_py_18'] = df.yll_measles_per_py_18 + df.yll_diarrhea_per_py_18 + df.yll_lri_per_py_18\n",
    "\n",
    "df['yld_measles_per_py_18'] = df.ylds_due_to_measles / df.person_time_in_2018\n",
    "df['yld_diarrhea_per_py_18'] = df.ylds_due_to_diarrheal_diseases / df.person_time_in_2018\n",
    "df['yld_lri_per_py_18'] = df.ylds_due_to_lower_respiratory_infections / df.person_time_in_2018\n",
    "df['yld_per_py_18'] = df.yld_measles_per_py_18 + df.yld_diarrhea_per_py_18 + df.yld_lri_per_py_18\n",
    "\n",
    "df['daly_measles_per_py_18'] = df.yll_measles_per_py_18 + df.yld_measles_per_py_18\n",
    "df['daly_diarrhea_per_py_18'] = df.yll_diarrhea_per_py_18 + df.yld_diarrhea_per_py_18\n",
    "df['daly_lri_per_py_18'] = df.yll_lri_per_py_18 + df.yld_lri_per_py_18\n",
    "df['daly_per_py_18'] = df.daly_measles_per_py_18 + df.daly_diarrhea_per_py_18 + df.daly_lri_per_py_18"
   ]
  },
  {
   "cell_type": "code",
   "execution_count": 11,
   "metadata": {},
   "outputs": [],
   "source": [
    "df['yll_measles_per_py_19'] = df.ylls_due_to_measles_in_2019 / df.person_time_in_2019\n",
    "df['yll_diarrhea_per_py_19'] = df.ylls_due_to_diarrheal_diseases_in_2019 / df.person_time_in_2019\n",
    "df['yll_lri_per_py_19'] = df.ylls_due_to_lower_respiratory_infections_in_2019 / df.person_time_in_2019\n",
    "df['yll_per_py_19'] = df.yll_measles_per_py_19 + df.yll_diarrhea_per_py_19 + df.yll_lri_per_py_19\n",
    "\n",
    "df['yld_measles_per_py_19'] = df.ylds_due_to_measles / df.person_time_in_2019\n",
    "df['yld_diarrhea_per_py_19'] = df.ylds_due_to_diarrheal_diseases / df.person_time_in_2019\n",
    "df['yld_lri_per_py_19'] = df.ylds_due_to_lower_respiratory_infections / df.person_time_in_2019\n",
    "df['yld_per_py_19'] = df.yld_measles_per_py_19 + df.yld_diarrhea_per_py_19 + df.yld_lri_per_py_19\n",
    "\n",
    "df['daly_measles_per_py_19'] = df.yll_measles_per_py_19 + df.yld_measles_per_py_19\n",
    "df['daly_diarrhea_per_py_19'] = df.yll_diarrhea_per_py_19 + df.yld_diarrhea_per_py_19\n",
    "df['daly_lri_per_py_19'] = df.yll_lri_per_py_19 + df.yld_lri_per_py_19\n",
    "df['daly_per_py_19'] = df.daly_measles_per_py_19 + df.daly_diarrhea_per_py_19 + df.daly_lri_per_py_19"
   ]
  },
  {
   "cell_type": "code",
   "execution_count": 12,
   "metadata": {},
   "outputs": [],
   "source": [
    "df['yll_measles_per_py_20'] = df.ylls_due_to_measles_in_2020 / df.person_time_in_2020\n",
    "df['yll_diarrhea_per_py_20'] = df.ylls_due_to_diarrheal_diseases_in_2020 / df.person_time_in_2020\n",
    "df['yll_lri_per_py_20'] = df.ylls_due_to_lower_respiratory_infections_in_2020 / df.person_time_in_2020\n",
    "df['yll_per_py_20'] = df.yll_measles_per_py_20 + df.yll_diarrhea_per_py_20 + df.yll_lri_per_py_20\n",
    "\n",
    "df['yld_measles_per_py_20'] = df.ylds_due_to_measles / df.person_time_in_2020\n",
    "df['yld_diarrhea_per_py_20'] = df.ylds_due_to_diarrheal_diseases / df.person_time_in_2020\n",
    "df['yld_lri_per_py_20'] = df.ylds_due_to_lower_respiratory_infections / df.person_time_in_2020\n",
    "df['yld_per_py_20'] = df.yld_measles_per_py_20 + df.yld_diarrhea_per_py_20 + df.yld_lri_per_py_20\n",
    "\n",
    "df['daly_measles_per_py_20'] = df.yll_measles_per_py_20 + df.yld_measles_per_py_20\n",
    "df['daly_diarrhea_per_py_20'] = df.yll_diarrhea_per_py_20 + df.yld_diarrhea_per_py_20\n",
    "df['daly_lri_per_py_20'] = df.yll_lri_per_py_20 + df.yld_lri_per_py_20\n",
    "df['daly_per_py_20'] = df.daly_measles_per_py_20 + df.daly_diarrhea_per_py_20 + df.daly_lri_per_py_20"
   ]
  },
  {
   "cell_type": "code",
   "execution_count": 13,
   "metadata": {},
   "outputs": [],
   "source": [
    "df['yll_measles_per_py_21'] = df.ylls_due_to_measles_in_2021 / df.person_time_in_2021\n",
    "df['yll_diarrhea_per_py_21'] = df.ylls_due_to_diarrheal_diseases_in_2021 / df.person_time_in_2021\n",
    "df['yll_lri_per_py_21'] = df.ylls_due_to_lower_respiratory_infections_in_2021 / df.person_time_in_2021\n",
    "df['yll_per_py_21'] = df.yll_measles_per_py_21 + df.yll_diarrhea_per_py_21 + df.yll_lri_per_py_21\n",
    "\n",
    "df['yld_measles_per_py_21'] = df.ylds_due_to_measles / df.person_time_in_2021\n",
    "df['yld_diarrhea_per_py_21'] = df.ylds_due_to_diarrheal_diseases / df.person_time_in_2021\n",
    "df['yld_lri_per_py_21'] = df.ylds_due_to_lower_respiratory_infections / df.person_time_in_2021\n",
    "df['yld_per_py_21'] = df.yld_measles_per_py_21 + df.yld_diarrhea_per_py_21 + df.yld_lri_per_py_21\n",
    "\n",
    "df['daly_measles_per_py_21'] = df.yll_measles_per_py_21 + df.yld_measles_per_py_21\n",
    "df['daly_diarrhea_per_py_21'] = df.yll_diarrhea_per_py_21 + df.yld_diarrhea_per_py_21\n",
    "df['daly_lri_per_py_21'] = df.yll_lri_per_py_21 + df.yld_lri_per_py_21\n",
    "df['daly_per_py_21'] = df.daly_measles_per_py_21 + df.daly_diarrhea_per_py_21 + df.daly_lri_per_py_21"
   ]
  },
  {
   "cell_type": "code",
   "execution_count": 14,
   "metadata": {},
   "outputs": [],
   "source": [
    "df['yll_measles_per_py_22'] = df.ylls_due_to_measles_in_2022 / df.person_time_in_2022\n",
    "df['yll_diarrhea_per_py_22'] = df.ylls_due_to_diarrheal_diseases_in_2022 / df.person_time_in_2022\n",
    "df['yll_lri_per_py_22'] = df.ylls_due_to_lower_respiratory_infections_in_2022 / df.person_time_in_2022\n",
    "df['yll_per_py_22'] = df.yll_measles_per_py_22 + df.yll_diarrhea_per_py_22 + df.yll_lri_per_py_22\n",
    "\n",
    "df['yld_measles_per_py_22'] = df.ylds_due_to_measles / df.person_time_in_2022\n",
    "df['yld_diarrhea_per_py_22'] = df.ylds_due_to_diarrheal_diseases / df.person_time_in_2022\n",
    "df['yld_lri_per_py_22'] = df.ylds_due_to_lower_respiratory_infections / df.person_time_in_2022\n",
    "df['yld_per_py_22'] = df.yld_measles_per_py_22 + df.yld_diarrhea_per_py_22 + df.yld_lri_per_py_22\n",
    "\n",
    "df['daly_measles_per_py_22'] = df.yll_measles_per_py_22 + df.yld_measles_per_py_22\n",
    "df['daly_diarrhea_per_py_22'] = df.yll_diarrhea_per_py_22 + df.yld_diarrhea_per_py_22\n",
    "df['daly_lri_per_py_22'] = df.yll_lri_per_py_22 + df.yld_lri_per_py_22\n",
    "df['daly_per_py_22'] = df.daly_measles_per_py_22 + df.daly_diarrhea_per_py_22 + df.daly_lri_per_py_22"
   ]
  },
  {
   "cell_type": "code",
   "execution_count": 15,
   "metadata": {},
   "outputs": [],
   "source": [
    "df['yll_measles_per_py_23'] = df.ylls_due_to_measles_in_2023 / df.person_time_in_2023\n",
    "df['yll_diarrhea_per_py_23'] = df.ylls_due_to_diarrheal_diseases_in_2023 / df.person_time_in_2023\n",
    "df['yll_lri_per_py_23'] = df.ylls_due_to_lower_respiratory_infections_in_2023 / df.person_time_in_2023\n",
    "df['yll_per_py_23'] = df.yll_measles_per_py_23 + df.yll_diarrhea_per_py_23 + df.yll_lri_per_py_23\n",
    "\n",
    "df['yld_measles_per_py_23'] = df.ylds_due_to_measles / df.person_time_in_2023\n",
    "df['yld_diarrhea_per_py_23'] = df.ylds_due_to_diarrheal_diseases / df.person_time_in_2023\n",
    "df['yld_lri_per_py_23'] = df.ylds_due_to_lower_respiratory_infections / df.person_time_in_2023\n",
    "df['yld_per_py_23'] = df.yld_measles_per_py_23 + df.yld_diarrhea_per_py_23 + df.yld_lri_per_py_23\n",
    "\n",
    "df['daly_measles_per_py_23'] = df.yll_measles_per_py_23 + df.yld_measles_per_py_23\n",
    "df['daly_diarrhea_per_py_23'] = df.yll_diarrhea_per_py_23 + df.yld_diarrhea_per_py_23\n",
    "df['daly_lri_per_py_23'] = df.yll_lri_per_py_23 + df.yld_lri_per_py_23\n",
    "df['daly_per_py_23'] = df.daly_measles_per_py_23 + df.daly_diarrhea_per_py_23 + df.daly_lri_per_py_23"
   ]
  },
  {
   "cell_type": "code",
   "execution_count": 16,
   "metadata": {},
   "outputs": [
    {
     "name": "stdout",
     "output_type": "stream",
     "text": [
      "Overall DALY rate in 2017: 0.46524452651507703\n",
      "Rate of DALYs from measles in 2017: 0.019692002650654173\n",
      "Rate of DALYs from diarrheal diseases in 2017: 0.21748298294812138\n",
      "Rate of DALYs from lower respiratory infections in 2017: 0.22806954091630147\n"
     ]
    }
   ],
   "source": [
    "print(\"Overall DALY rate in 2017: \" + str(df.daly_per_py_17.mean()))\n",
    "print(\"Rate of DALYs from measles in 2017: \" + str(df.daly_measles_per_py_17.mean()))\n",
    "print(\"Rate of DALYs from diarrheal diseases in 2017: \" + str(df.daly_diarrhea_per_py_17.mean()))\n",
    "print(\"Rate of DALYs from lower respiratory infections in 2017: \" + str(df.daly_lri_per_py_17.mean()))"
   ]
  },
  {
   "cell_type": "code",
   "execution_count": 17,
   "metadata": {},
   "outputs": [
    {
     "name": "stdout",
     "output_type": "stream",
     "text": [
      "Overall DALY rate in 2018: 0.4670765108845383\n",
      "Rate of DALYs from measles in 2018: 0.016974667967252846\n",
      "Rate of DALYs from diarrheal diseases in 2018: 0.22007613188870093\n",
      "Rate of DALYs from lower respiratory infections in 2018: 0.2300257110285845\n"
     ]
    }
   ],
   "source": [
    "print(\"Overall DALY rate in 2018: \" + str(df.daly_per_py_18.mean()))\n",
    "print(\"Rate of DALYs from measles in 2018: \" + str(df.daly_measles_per_py_18.mean()))\n",
    "print(\"Rate of DALYs from diarrheal diseases in 2018: \" + str(df.daly_diarrhea_per_py_18.mean()))\n",
    "print(\"Rate of DALYs from lower respiratory infections in 2018: \" + str(df.daly_lri_per_py_18.mean()))"
   ]
  },
  {
   "cell_type": "code",
   "execution_count": 18,
   "metadata": {},
   "outputs": [
    {
     "name": "stdout",
     "output_type": "stream",
     "text": [
      "Overall DALY rate in 2019: 0.4647750820445598\n",
      "Rate of DALYs from measles in 2019: 0.0189862479488874\n",
      "Rate of DALYs from diarrheal diseases in 2019: 0.2116134973091235\n",
      "Rate of DALYs from lower respiratory infections in 2019: 0.23417533678654884\n"
     ]
    }
   ],
   "source": [
    "print(\"Overall DALY rate in 2019: \" + str(df.daly_per_py_19.mean()))\n",
    "print(\"Rate of DALYs from measles in 2019: \" + str(df.daly_measles_per_py_19.mean()))\n",
    "print(\"Rate of DALYs from diarrheal diseases in 2019: \" + str(df.daly_diarrhea_per_py_19.mean()))\n",
    "print(\"Rate of DALYs from lower respiratory infections in 2019: \" + str(df.daly_lri_per_py_19.mean()))"
   ]
  },
  {
   "cell_type": "code",
   "execution_count": 19,
   "metadata": {},
   "outputs": [
    {
     "name": "stdout",
     "output_type": "stream",
     "text": [
      "Overall DALY rate in 2020: 0.47138336947108345\n",
      "Rate of DALYs from measles in 2020: 0.019742051490240976\n",
      "Rate of DALYs from diarrheal diseases in 2020: 0.21697806378504292\n",
      "Rate of DALYs from lower respiratory infections in 2020: 0.23466325419579953\n"
     ]
    }
   ],
   "source": [
    "print(\"Overall DALY rate in 2020: \" + str(df.daly_per_py_20.mean()))\n",
    "print(\"Rate of DALYs from measles in 2020: \" + str(df.daly_measles_per_py_20.mean()))\n",
    "print(\"Rate of DALYs from diarrheal diseases in 2020: \" + str(df.daly_diarrhea_per_py_20.mean()))\n",
    "print(\"Rate of DALYs from lower respiratory infections in 2020: \" + str(df.daly_lri_per_py_20.mean()))"
   ]
  },
  {
   "cell_type": "code",
   "execution_count": 20,
   "metadata": {},
   "outputs": [
    {
     "name": "stdout",
     "output_type": "stream",
     "text": [
      "Overall DALY rate in 2021: 0.4659523181848664\n",
      "Rate of DALYs from measles in 2021: 0.01778253418250018\n",
      "Rate of DALYs from diarrheal diseases in 2021: 0.21574666027532224\n",
      "Rate of DALYs from lower respiratory infections in 2021: 0.23242312372704393\n"
     ]
    }
   ],
   "source": [
    "print(\"Overall DALY rate in 2021: \" + str(df.daly_per_py_21.mean()))\n",
    "print(\"Rate of DALYs from measles in 2021: \" + str(df.daly_measles_per_py_21.mean()))\n",
    "print(\"Rate of DALYs from diarrheal diseases in 2021: \" + str(df.daly_diarrhea_per_py_21.mean()))\n",
    "print(\"Rate of DALYs from lower respiratory infections in 2021: \" + str(df.daly_lri_per_py_21.mean()))"
   ]
  },
  {
   "cell_type": "code",
   "execution_count": 21,
   "metadata": {},
   "outputs": [
    {
     "name": "stdout",
     "output_type": "stream",
     "text": [
      "Overall DALY rate in 2022: 0.4632232688620631\n",
      "Rate of DALYs from measles in 2022: 0.017772174935748515\n",
      "Rate of DALYs from diarrheal diseases in 2022: 0.21214575430437452\n",
      "Rate of DALYs from lower respiratory infections in 2022: 0.23330533962194003\n"
     ]
    }
   ],
   "source": [
    "print(\"Overall DALY rate in 2022: \" + str(df.daly_per_py_22.mean()))\n",
    "print(\"Rate of DALYs from measles in 2022: \" + str(df.daly_measles_per_py_22.mean()))\n",
    "print(\"Rate of DALYs from diarrheal diseases in 2022: \" + str(df.daly_diarrhea_per_py_22.mean()))\n",
    "print(\"Rate of DALYs from lower respiratory infections in 2022: \" + str(df.daly_lri_per_py_22.mean()))"
   ]
  },
  {
   "cell_type": "code",
   "execution_count": 22,
   "metadata": {},
   "outputs": [
    {
     "name": "stdout",
     "output_type": "stream",
     "text": [
      "Overall DALY rate in 2023: 0.4543865590068096\n",
      "Rate of DALYs from measles in 2023: 0.01542016946185893\n",
      "Rate of DALYs from diarrheal diseases in 2023: 0.21213845028713962\n",
      "Rate of DALYs from lower respiratory infections in 2023: 0.22682793925781097\n"
     ]
    }
   ],
   "source": [
    "print(\"Overall DALY rate in 2023: \" + str(df.daly_per_py_23.mean()))\n",
    "print(\"Rate of DALYs from measles in 2023: \" + str(df.daly_measles_per_py_23.mean()))\n",
    "print(\"Rate of DALYs from diarrheal diseases in 2023: \" + str(df.daly_diarrhea_per_py_23.mean()))\n",
    "print(\"Rate of DALYs from lower respiratory infections in 2023: \" + str(df.daly_lri_per_py_23.mean()))"
   ]
  },
  {
   "cell_type": "code",
   "execution_count": 23,
   "metadata": {},
   "outputs": [
    {
     "name": "stdout",
     "output_type": "stream",
     "text": [
      "[0.88  0.88  0.892 0.904 0.916 0.928 0.94 ]\n",
      "[3530140.75  4195756.5   4882860.94  5595671.835 6285490.82  7001417.465\n",
      " 7724009.125]\n"
     ]
    }
   ],
   "source": [
    "coverages = np.append(np.array([cov_base]), np.linspace(cov_base, cov_tar, 6))\n",
    "print(coverages)\n",
    "\n",
    "supplemented = np.array([df.supplemented_days_in_2017.mean(), df.supplemented_days_in_2018.mean(), df.supplemented_days_in_2019.mean(),\n",
    "                         df.supplemented_days_in_2020.mean(), df.supplemented_days_in_2021.mean(), df.supplemented_days_in_2022.mean(),\n",
    "                         df.supplemented_days_in_2023.mean()])\n",
    "\n",
    "print(supplemented)"
   ]
  },
  {
   "cell_type": "code",
   "execution_count": 24,
   "metadata": {},
   "outputs": [
    {
     "data": {
      "text/plain": [
       "42873818.944152"
      ]
     },
     "execution_count": 24,
     "metadata": {},
     "output_type": "execute_result"
    }
   ],
   "source": [
    "unit_cost = 0.60 # UC Davis Paper\n",
    "\n",
    "doses = coverages * supplemented * 2\n",
    "total_intervention_cost = unit_cost * doses.sum()\n",
    "\n",
    "total_intervention_cost"
   ]
  },
  {
   "cell_type": "code",
   "execution_count": 25,
   "metadata": {
    "scrolled": true
   },
   "outputs": [],
   "source": [
    "# average_supplemented_days_per_individual = supplemented.sum() / df.total_population.mean()\n",
    "# years_supplemented = average_supplemented_days_per_individual / 365\n",
    "\n",
    "\n",
    "# print(df.total_population.mean(), df.total_population_tracked.mean())\n",
    "# print(average_supplemented_days_per_individual)\n",
    "# print(years_supplemented)"
   ]
  },
  {
   "cell_type": "code",
   "execution_count": null,
   "metadata": {},
   "outputs": [],
   "source": []
  },
  {
   "cell_type": "code",
   "execution_count": null,
   "metadata": {},
   "outputs": [],
   "source": []
  },
  {
   "cell_type": "code",
   "execution_count": null,
   "metadata": {},
   "outputs": [],
   "source": []
  },
  {
   "cell_type": "code",
   "execution_count": null,
   "metadata": {},
   "outputs": [],
   "source": []
  },
  {
   "cell_type": "code",
   "execution_count": null,
   "metadata": {},
   "outputs": [],
   "source": []
  },
  {
   "cell_type": "code",
   "execution_count": null,
   "metadata": {},
   "outputs": [],
   "source": []
  },
  {
   "cell_type": "markdown",
   "metadata": {},
   "source": [
    "## Baseline Burkina Faso"
   ]
  },
  {
   "cell_type": "code",
   "execution_count": 26,
   "metadata": {
    "scrolled": false
   },
   "outputs": [
    {
     "data": {
      "text/plain": [
       "(100, 150)"
      ]
     },
     "execution_count": 26,
     "metadata": {},
     "output_type": "execute_result"
    }
   ],
   "source": [
    "dfb = pd.read_hdf(fname)\n",
    "dfb = dfb.loc[dfb['vitamin_a_supplementation.target_coverage'] == cov_base]\n",
    "dfb.shape"
   ]
  },
  {
   "cell_type": "code",
   "execution_count": 27,
   "metadata": {},
   "outputs": [
    {
     "data": {
      "text/plain": [
       "array([0.88])"
      ]
     },
     "execution_count": 27,
     "metadata": {},
     "output_type": "execute_result"
    }
   ],
   "source": [
    "dfb['vitamin_a_supplementation.target_coverage'].unique()"
   ]
  },
  {
   "cell_type": "code",
   "execution_count": 28,
   "metadata": {
    "scrolled": true
   },
   "outputs": [
    {
     "data": {
      "text/plain": [
       "['total_population_untracked',\n",
       " 'total_population_tracked',\n",
       " 'total_population',\n",
       " 'death_due_to_measles_in_2017',\n",
       " 'death_due_to_diarrheal_diseases_in_2017',\n",
       " 'death_due_to_lower_respiratory_infections_in_2017',\n",
       " 'death_due_to_other_causes_in_2017',\n",
       " 'death_due_to_measles_in_2018',\n",
       " 'death_due_to_diarrheal_diseases_in_2018',\n",
       " 'death_due_to_lower_respiratory_infections_in_2018',\n",
       " 'death_due_to_other_causes_in_2018',\n",
       " 'death_due_to_measles_in_2019',\n",
       " 'death_due_to_diarrheal_diseases_in_2019',\n",
       " 'death_due_to_lower_respiratory_infections_in_2019',\n",
       " 'death_due_to_other_causes_in_2019',\n",
       " 'death_due_to_measles_in_2020',\n",
       " 'death_due_to_diarrheal_diseases_in_2020',\n",
       " 'death_due_to_lower_respiratory_infections_in_2020',\n",
       " 'death_due_to_other_causes_in_2020',\n",
       " 'death_due_to_measles_in_2021',\n",
       " 'death_due_to_diarrheal_diseases_in_2021',\n",
       " 'death_due_to_lower_respiratory_infections_in_2021',\n",
       " 'death_due_to_other_causes_in_2021',\n",
       " 'death_due_to_measles_in_2022',\n",
       " 'death_due_to_diarrheal_diseases_in_2022',\n",
       " 'death_due_to_lower_respiratory_infections_in_2022',\n",
       " 'death_due_to_other_causes_in_2022',\n",
       " 'death_due_to_measles_in_2023',\n",
       " 'death_due_to_diarrheal_diseases_in_2023',\n",
       " 'death_due_to_lower_respiratory_infections_in_2023',\n",
       " 'death_due_to_other_causes_in_2023',\n",
       " 'ylls_due_to_measles_in_2018',\n",
       " 'ylls_due_to_measles_in_2019',\n",
       " 'ylls_due_to_measles_in_2021',\n",
       " 'total_population_living',\n",
       " 'total_population_dead',\n",
       " 'vitamin_a_deficiency_cat1_exposed_in_2017_among_early_neonatal',\n",
       " 'vitamin_a_deficiency_cat2_exposed_in_2017_among_early_neonatal',\n",
       " 'vitamin_a_deficiency_cat1_exposed_in_2018_among_early_neonatal',\n",
       " 'vitamin_a_deficiency_cat2_exposed_in_2018_among_early_neonatal',\n",
       " 'vitamin_a_deficiency_cat1_exposed_in_2019_among_early_neonatal',\n",
       " 'vitamin_a_deficiency_cat2_exposed_in_2019_among_early_neonatal',\n",
       " 'vitamin_a_deficiency_cat1_exposed_in_2020_among_early_neonatal',\n",
       " 'vitamin_a_deficiency_cat2_exposed_in_2020_among_early_neonatal',\n",
       " 'vitamin_a_deficiency_cat1_exposed_in_2021_among_early_neonatal',\n",
       " 'vitamin_a_deficiency_cat2_exposed_in_2021_among_early_neonatal',\n",
       " 'vitamin_a_deficiency_cat1_exposed_in_2022_among_early_neonatal',\n",
       " 'vitamin_a_deficiency_cat2_exposed_in_2022_among_early_neonatal',\n",
       " 'vitamin_a_deficiency_cat1_exposed_in_2023_among_early_neonatal',\n",
       " 'vitamin_a_deficiency_cat2_exposed_in_2023_among_early_neonatal',\n",
       " 'vitamin_a_deficiency_cat1_exposed_in_2017_among_late_neonatal',\n",
       " 'vitamin_a_deficiency_cat2_exposed_in_2017_among_late_neonatal',\n",
       " 'vitamin_a_deficiency_cat1_exposed_in_2018_among_late_neonatal',\n",
       " 'vitamin_a_deficiency_cat2_exposed_in_2018_among_late_neonatal',\n",
       " 'vitamin_a_deficiency_cat1_exposed_in_2019_among_late_neonatal',\n",
       " 'vitamin_a_deficiency_cat2_exposed_in_2019_among_late_neonatal',\n",
       " 'vitamin_a_deficiency_cat1_exposed_in_2020_among_late_neonatal',\n",
       " 'vitamin_a_deficiency_cat2_exposed_in_2020_among_late_neonatal',\n",
       " 'vitamin_a_deficiency_cat1_exposed_in_2021_among_late_neonatal',\n",
       " 'vitamin_a_deficiency_cat2_exposed_in_2021_among_late_neonatal',\n",
       " 'vitamin_a_deficiency_cat1_exposed_in_2022_among_late_neonatal',\n",
       " 'vitamin_a_deficiency_cat2_exposed_in_2022_among_late_neonatal',\n",
       " 'vitamin_a_deficiency_cat1_exposed_in_2023_among_late_neonatal',\n",
       " 'vitamin_a_deficiency_cat2_exposed_in_2023_among_late_neonatal',\n",
       " 'vitamin_a_deficiency_cat1_exposed_in_2017_among_post_neonatal',\n",
       " 'vitamin_a_deficiency_cat2_exposed_in_2017_among_post_neonatal',\n",
       " 'vitamin_a_deficiency_cat1_exposed_in_2018_among_post_neonatal',\n",
       " 'vitamin_a_deficiency_cat2_exposed_in_2018_among_post_neonatal',\n",
       " 'vitamin_a_deficiency_cat1_exposed_in_2019_among_post_neonatal',\n",
       " 'vitamin_a_deficiency_cat2_exposed_in_2019_among_post_neonatal',\n",
       " 'vitamin_a_deficiency_cat1_exposed_in_2020_among_post_neonatal',\n",
       " 'vitamin_a_deficiency_cat2_exposed_in_2020_among_post_neonatal',\n",
       " 'vitamin_a_deficiency_cat1_exposed_in_2021_among_post_neonatal',\n",
       " 'vitamin_a_deficiency_cat2_exposed_in_2021_among_post_neonatal',\n",
       " 'vitamin_a_deficiency_cat1_exposed_in_2022_among_post_neonatal',\n",
       " 'vitamin_a_deficiency_cat2_exposed_in_2022_among_post_neonatal',\n",
       " 'vitamin_a_deficiency_cat1_exposed_in_2023_among_post_neonatal',\n",
       " 'vitamin_a_deficiency_cat2_exposed_in_2023_among_post_neonatal',\n",
       " 'vitamin_a_deficiency_cat1_exposed_in_2017_among_1_to_4',\n",
       " 'vitamin_a_deficiency_cat2_exposed_in_2017_among_1_to_4',\n",
       " 'vitamin_a_deficiency_cat1_exposed_in_2018_among_1_to_4',\n",
       " 'vitamin_a_deficiency_cat2_exposed_in_2018_among_1_to_4',\n",
       " 'vitamin_a_deficiency_cat1_exposed_in_2019_among_1_to_4',\n",
       " 'vitamin_a_deficiency_cat2_exposed_in_2019_among_1_to_4',\n",
       " 'vitamin_a_deficiency_cat1_exposed_in_2020_among_1_to_4',\n",
       " 'vitamin_a_deficiency_cat2_exposed_in_2020_among_1_to_4',\n",
       " 'vitamin_a_deficiency_cat1_exposed_in_2021_among_1_to_4',\n",
       " 'vitamin_a_deficiency_cat2_exposed_in_2021_among_1_to_4',\n",
       " 'vitamin_a_deficiency_cat1_exposed_in_2022_among_1_to_4',\n",
       " 'vitamin_a_deficiency_cat2_exposed_in_2022_among_1_to_4',\n",
       " 'vitamin_a_deficiency_cat1_exposed_in_2023_among_1_to_4',\n",
       " 'vitamin_a_deficiency_cat2_exposed_in_2023_among_1_to_4',\n",
       " 'supplemented_days_in_2017',\n",
       " 'supplemented_days_in_2018',\n",
       " 'supplemented_days_in_2019',\n",
       " 'supplemented_days_in_2020',\n",
       " 'supplemented_days_in_2021',\n",
       " 'supplemented_days_in_2022',\n",
       " 'supplemented_days_in_2023',\n",
       " 'measles_prevalent_cases_at_sim_end',\n",
       " 'diarrheal_diseases_prevalent_cases_at_sim_end',\n",
       " 'lower_respiratory_infections_prevalent_cases_at_sim_end',\n",
       " 'susceptible_to_measles_event_count',\n",
       " 'measles_event_count',\n",
       " 'recovered_from_measles_event_count',\n",
       " 'susceptible_to_diarrheal_diseases_event_count',\n",
       " 'diarrheal_diseases_event_count',\n",
       " 'susceptible_to_lower_respiratory_infections_event_count',\n",
       " 'lower_respiratory_infections_event_count',\n",
       " 'input_draw',\n",
       " 'random_seed',\n",
       " 'person_time_in_2017',\n",
       " 'person_time_in_2018',\n",
       " 'person_time_in_2019',\n",
       " 'person_time_in_2020',\n",
       " 'person_time_in_2021',\n",
       " 'person_time_in_2022',\n",
       " 'person_time_in_2023',\n",
       " 'ylls_due_to_measles_in_2017',\n",
       " 'ylls_due_to_diarrheal_diseases_in_2017',\n",
       " 'ylls_due_to_lower_respiratory_infections_in_2017',\n",
       " 'ylls_due_to_other_causes_in_2017',\n",
       " 'ylls_due_to_diarrheal_diseases_in_2018',\n",
       " 'ylls_due_to_lower_respiratory_infections_in_2018',\n",
       " 'ylls_due_to_other_causes_in_2018',\n",
       " 'ylls_due_to_diarrheal_diseases_in_2019',\n",
       " 'ylls_due_to_lower_respiratory_infections_in_2019',\n",
       " 'ylls_due_to_other_causes_in_2019',\n",
       " 'ylls_due_to_measles_in_2020',\n",
       " 'ylls_due_to_diarrheal_diseases_in_2020',\n",
       " 'ylls_due_to_lower_respiratory_infections_in_2020',\n",
       " 'ylls_due_to_other_causes_in_2020',\n",
       " 'ylls_due_to_diarrheal_diseases_in_2021',\n",
       " 'ylls_due_to_lower_respiratory_infections_in_2021',\n",
       " 'ylls_due_to_other_causes_in_2021',\n",
       " 'ylls_due_to_measles_in_2022',\n",
       " 'ylls_due_to_diarrheal_diseases_in_2022',\n",
       " 'ylls_due_to_lower_respiratory_infections_in_2022',\n",
       " 'ylls_due_to_other_causes_in_2022',\n",
       " 'ylls_due_to_measles_in_2023',\n",
       " 'ylls_due_to_diarrheal_diseases_in_2023',\n",
       " 'ylls_due_to_lower_respiratory_infections_in_2023',\n",
       " 'ylls_due_to_other_causes_in_2023',\n",
       " 'years_of_life_lost',\n",
       " 'years_lived_with_disability',\n",
       " 'ylds_due_to_measles',\n",
       " 'ylds_due_to_diarrheal_diseases',\n",
       " 'ylds_due_to_lower_respiratory_infections',\n",
       " 'simulation_run_time',\n",
       " 'vitamin_a_supplementation.target_coverage']"
      ]
     },
     "execution_count": 28,
     "metadata": {},
     "output_type": "execute_result"
    }
   ],
   "source": [
    "dfb = dfb.iloc[:, :]\n",
    "list(dfb.columns)"
   ]
  },
  {
   "cell_type": "code",
   "execution_count": 29,
   "metadata": {},
   "outputs": [
    {
     "name": "stdout",
     "output_type": "stream",
     "text": [
      "Exposure in 2017 is 0.28727412012891634\n",
      "Exposure in 2018 is 0.28658032193815136\n",
      "Exposure in 2019 is 0.2856776820013054\n",
      "Exposure in 2020 is 0.2848370157374683\n",
      "Exposure in 2021 is 0.2837992638195432\n",
      "Exposure in 2022 is 0.2838842658693106\n",
      "Exposure in 2023 is 0.2840217468522582\n"
     ]
    }
   ],
   "source": [
    "dfb['exposure_2017'] = dfb.vitamin_a_deficiency_cat1_exposed_in_2017_among_1_to_4/(dfb.vitamin_a_deficiency_cat1_exposed_in_2017_among_1_to_4 + dfb.vitamin_a_deficiency_cat2_exposed_in_2017_among_1_to_4)\n",
    "print(\"Exposure in 2017 is \" + str(dfb.exposure_2017.mean()))\n",
    "dfb['exposure_2018'] = dfb.vitamin_a_deficiency_cat1_exposed_in_2018_among_1_to_4/(dfb.vitamin_a_deficiency_cat1_exposed_in_2018_among_1_to_4 + dfb.vitamin_a_deficiency_cat2_exposed_in_2018_among_1_to_4)\n",
    "print(\"Exposure in 2018 is \" + str(dfb.exposure_2018.mean()))\n",
    "dfb['exposure_2019'] = dfb.vitamin_a_deficiency_cat1_exposed_in_2019_among_1_to_4/(dfb.vitamin_a_deficiency_cat1_exposed_in_2019_among_1_to_4 + dfb.vitamin_a_deficiency_cat2_exposed_in_2019_among_1_to_4)\n",
    "print(\"Exposure in 2019 is \" + str(dfb.exposure_2019.mean()))\n",
    "dfb['exposure_2020'] = dfb.vitamin_a_deficiency_cat1_exposed_in_2020_among_1_to_4/(dfb.vitamin_a_deficiency_cat1_exposed_in_2020_among_1_to_4 + dfb.vitamin_a_deficiency_cat2_exposed_in_2020_among_1_to_4)\n",
    "print(\"Exposure in 2020 is \" + str(dfb.exposure_2020.mean()))\n",
    "dfb['exposure_2021'] = dfb.vitamin_a_deficiency_cat1_exposed_in_2021_among_1_to_4/(dfb.vitamin_a_deficiency_cat1_exposed_in_2021_among_1_to_4 + dfb.vitamin_a_deficiency_cat2_exposed_in_2021_among_1_to_4)\n",
    "print(\"Exposure in 2021 is \" + str(dfb.exposure_2021.mean()))\n",
    "dfb['exposure_2022'] = dfb.vitamin_a_deficiency_cat1_exposed_in_2022_among_1_to_4/(dfb.vitamin_a_deficiency_cat1_exposed_in_2022_among_1_to_4 + dfb.vitamin_a_deficiency_cat2_exposed_in_2022_among_1_to_4)\n",
    "print(\"Exposure in 2022 is \" + str(dfb.exposure_2022.mean()))\n",
    "dfb['exposure_2023'] = dfb.vitamin_a_deficiency_cat1_exposed_in_2023_among_1_to_4/(dfb.vitamin_a_deficiency_cat1_exposed_in_2023_among_1_to_4 + dfb.vitamin_a_deficiency_cat2_exposed_in_2023_among_1_to_4)\n",
    "print(\"Exposure in 2023 is \" + str(dfb.exposure_2023.mean()))\n",
    "exposure_baseline = np.array([dfb.exposure_2017.mean(), dfb.exposure_2018.mean(), dfb.exposure_2019.mean(), dfb.exposure_2020.mean(), \n",
    "                    dfb.exposure_2021.mean(), dfb.exposure_2022.mean(), dfb.exposure_2023.mean()])"
   ]
  },
  {
   "cell_type": "code",
   "execution_count": 30,
   "metadata": {},
   "outputs": [],
   "source": [
    "py_17 = dfb.person_time_in_2017.mean()\n",
    "py_18 = dfb.person_time_in_2018.mean()\n",
    "py_19 = dfb.person_time_in_2019.mean()\n",
    "py_20 = dfb.person_time_in_2020.mean()\n",
    "py_21 = dfb.person_time_in_2021.mean()\n",
    "py_22 = dfb.person_time_in_2022.mean()\n",
    "py_23 = dfb.person_time_in_2023.mean()"
   ]
  },
  {
   "cell_type": "code",
   "execution_count": 31,
   "metadata": {},
   "outputs": [],
   "source": [
    "dfb['yll_measles_per_py_17'] = dfb.ylls_due_to_measles_in_2017 / dfb.person_time_in_2017\n",
    "dfb['yll_diarrhea_per_py_17'] = dfb.ylls_due_to_diarrheal_diseases_in_2017 / dfb.person_time_in_2017\n",
    "dfb['yll_lri_per_py_17'] = dfb.ylls_due_to_lower_respiratory_infections_in_2017 / dfb.person_time_in_2017\n",
    "dfb['yll_per_py_17'] = dfb.yll_measles_per_py_17 + dfb.yll_diarrhea_per_py_17 + dfb.yll_lri_per_py_17\n",
    "\n",
    "dfb['yld_measles_per_py_17'] = dfb.ylds_due_to_measles / dfb.person_time_in_2017\n",
    "dfb['yld_diarrhea_per_py_17'] = dfb.ylds_due_to_diarrheal_diseases / dfb.person_time_in_2017\n",
    "dfb['yld_lri_per_py_17'] = dfb.ylds_due_to_lower_respiratory_infections / dfb.person_time_in_2017\n",
    "dfb['yld_per_py_17'] = dfb.yld_measles_per_py_17 + dfb.yld_diarrhea_per_py_17 + dfb.yld_lri_per_py_17\n",
    "\n",
    "dfb['daly_measles_per_py_17'] = dfb.yll_measles_per_py_17 + dfb.yld_measles_per_py_17\n",
    "dfb['daly_diarrhea_per_py_17'] = dfb.yll_diarrhea_per_py_17 + dfb.yld_diarrhea_per_py_17\n",
    "dfb['daly_lri_per_py_17'] = dfb.yll_lri_per_py_17 + dfb.yld_lri_per_py_17\n",
    "dfb['daly_per_py_17'] = dfb.daly_measles_per_py_17 + dfb.daly_diarrhea_per_py_17 + dfb.daly_lri_per_py_17"
   ]
  },
  {
   "cell_type": "code",
   "execution_count": 32,
   "metadata": {},
   "outputs": [],
   "source": [
    "dfb['yll_measles_per_py_18'] = dfb.ylls_due_to_measles_in_2018 / dfb.person_time_in_2018\n",
    "dfb['yll_diarrhea_per_py_18'] = dfb.ylls_due_to_diarrheal_diseases_in_2018 / dfb.person_time_in_2018\n",
    "dfb['yll_lri_per_py_18'] = dfb.ylls_due_to_lower_respiratory_infections_in_2018 / dfb.person_time_in_2018\n",
    "dfb['yll_per_py_18'] = dfb.yll_measles_per_py_18 + dfb.yll_diarrhea_per_py_18 + dfb.yll_lri_per_py_18\n",
    "\n",
    "dfb['yld_measles_per_py_18'] = dfb.ylds_due_to_measles / dfb.person_time_in_2018\n",
    "dfb['yld_diarrhea_per_py_18'] = dfb.ylds_due_to_diarrheal_diseases / dfb.person_time_in_2018\n",
    "dfb['yld_lri_per_py_18'] = dfb.ylds_due_to_lower_respiratory_infections / dfb.person_time_in_2018\n",
    "dfb['yld_per_py_18'] = dfb.yld_measles_per_py_18 + dfb.yld_diarrhea_per_py_18 + dfb.yld_lri_per_py_18\n",
    "\n",
    "dfb['daly_measles_per_py_18'] = dfb.yll_measles_per_py_18 + dfb.yld_measles_per_py_18\n",
    "dfb['daly_diarrhea_per_py_18'] = dfb.yll_diarrhea_per_py_18 + dfb.yld_diarrhea_per_py_18\n",
    "dfb['daly_lri_per_py_18'] = dfb.yll_lri_per_py_18 + dfb.yld_lri_per_py_18\n",
    "dfb['daly_per_py_18'] = dfb.daly_measles_per_py_18 + dfb.daly_diarrhea_per_py_18 + dfb.daly_lri_per_py_18"
   ]
  },
  {
   "cell_type": "code",
   "execution_count": 33,
   "metadata": {},
   "outputs": [],
   "source": [
    "dfb['yll_measles_per_py_19'] = dfb.ylls_due_to_measles_in_2019 / dfb.person_time_in_2019\n",
    "dfb['yll_diarrhea_per_py_19'] = dfb.ylls_due_to_diarrheal_diseases_in_2019 / dfb.person_time_in_2019\n",
    "dfb['yll_lri_per_py_19'] = dfb.ylls_due_to_lower_respiratory_infections_in_2019 / dfb.person_time_in_2019\n",
    "dfb['yll_per_py_19'] = dfb.yll_measles_per_py_19 + dfb.yll_diarrhea_per_py_19 + dfb.yll_lri_per_py_19\n",
    "\n",
    "dfb['yld_measles_per_py_19'] = dfb.ylds_due_to_measles / dfb.person_time_in_2019\n",
    "dfb['yld_diarrhea_per_py_19'] = dfb.ylds_due_to_diarrheal_diseases / dfb.person_time_in_2019\n",
    "dfb['yld_lri_per_py_19'] = dfb.ylds_due_to_lower_respiratory_infections / dfb.person_time_in_2019\n",
    "dfb['yld_per_py_19'] = dfb.yld_measles_per_py_19 + dfb.yld_diarrhea_per_py_19 + dfb.yld_lri_per_py_19\n",
    "\n",
    "dfb['daly_measles_per_py_19'] = dfb.yll_measles_per_py_19 + dfb.yld_measles_per_py_19\n",
    "dfb['daly_diarrhea_per_py_19'] = dfb.yll_diarrhea_per_py_19 + dfb.yld_diarrhea_per_py_19\n",
    "dfb['daly_lri_per_py_19'] = dfb.yll_lri_per_py_19 + dfb.yld_lri_per_py_19\n",
    "dfb['daly_per_py_19'] = dfb.daly_measles_per_py_19 + dfb.daly_diarrhea_per_py_19 + dfb.daly_lri_per_py_19"
   ]
  },
  {
   "cell_type": "code",
   "execution_count": 34,
   "metadata": {},
   "outputs": [],
   "source": [
    "dfb['yll_measles_per_py_20'] = dfb.ylls_due_to_measles_in_2020 / dfb.person_time_in_2020\n",
    "dfb['yll_diarrhea_per_py_20'] = dfb.ylls_due_to_diarrheal_diseases_in_2020 / dfb.person_time_in_2020\n",
    "dfb['yll_lri_per_py_20'] = dfb.ylls_due_to_lower_respiratory_infections_in_2020 / dfb.person_time_in_2020\n",
    "dfb['yll_per_py_20'] = dfb.yll_measles_per_py_20 + dfb.yll_diarrhea_per_py_20 + dfb.yll_lri_per_py_20\n",
    "\n",
    "dfb['yld_measles_per_py_20'] = dfb.ylds_due_to_measles / dfb.person_time_in_2020\n",
    "dfb['yld_diarrhea_per_py_20'] = dfb.ylds_due_to_diarrheal_diseases / dfb.person_time_in_2020\n",
    "dfb['yld_lri_per_py_20'] = dfb.ylds_due_to_lower_respiratory_infections / dfb.person_time_in_2020\n",
    "dfb['yld_per_py_20'] = dfb.yld_measles_per_py_20 + dfb.yld_diarrhea_per_py_20 + dfb.yld_lri_per_py_20\n",
    "\n",
    "dfb['daly_measles_per_py_20'] = dfb.yll_measles_per_py_20 + dfb.yld_measles_per_py_20\n",
    "dfb['daly_diarrhea_per_py_20'] = dfb.yll_diarrhea_per_py_20 + dfb.yld_diarrhea_per_py_20\n",
    "dfb['daly_lri_per_py_20'] = dfb.yll_lri_per_py_20 + dfb.yld_lri_per_py_20\n",
    "dfb['daly_per_py_20'] = dfb.daly_measles_per_py_20 + dfb.daly_diarrhea_per_py_20 + dfb.daly_lri_per_py_20"
   ]
  },
  {
   "cell_type": "code",
   "execution_count": 35,
   "metadata": {},
   "outputs": [],
   "source": [
    "dfb['yll_measles_per_py_21'] = dfb.ylls_due_to_measles_in_2021 / dfb.person_time_in_2021\n",
    "dfb['yll_diarrhea_per_py_21'] = dfb.ylls_due_to_diarrheal_diseases_in_2021 / dfb.person_time_in_2021\n",
    "dfb['yll_lri_per_py_21'] = dfb.ylls_due_to_lower_respiratory_infections_in_2021 / dfb.person_time_in_2021\n",
    "dfb['yll_per_py_21'] = dfb.yll_measles_per_py_21 + dfb.yll_diarrhea_per_py_21 + dfb.yll_lri_per_py_21\n",
    "\n",
    "dfb['yld_measles_per_py_21'] = dfb.ylds_due_to_measles / dfb.person_time_in_2021\n",
    "dfb['yld_diarrhea_per_py_21'] = dfb.ylds_due_to_diarrheal_diseases / dfb.person_time_in_2021\n",
    "dfb['yld_lri_per_py_21'] = dfb.ylds_due_to_lower_respiratory_infections / dfb.person_time_in_2021\n",
    "dfb['yld_per_py_21'] = dfb.yld_measles_per_py_21 + dfb.yld_diarrhea_per_py_21 + dfb.yld_lri_per_py_21\n",
    "\n",
    "dfb['daly_measles_per_py_21'] = dfb.yll_measles_per_py_21 + dfb.yld_measles_per_py_21\n",
    "dfb['daly_diarrhea_per_py_21'] = dfb.yll_diarrhea_per_py_21 + dfb.yld_diarrhea_per_py_21\n",
    "dfb['daly_lri_per_py_21'] = dfb.yll_lri_per_py_21 + dfb.yld_lri_per_py_21\n",
    "dfb['daly_per_py_21'] = dfb.daly_measles_per_py_21 + dfb.daly_diarrhea_per_py_21 + dfb.daly_lri_per_py_21"
   ]
  },
  {
   "cell_type": "code",
   "execution_count": 36,
   "metadata": {},
   "outputs": [],
   "source": [
    "dfb['yll_measles_per_py_22'] = dfb.ylls_due_to_measles_in_2022 / dfb.person_time_in_2022\n",
    "dfb['yll_diarrhea_per_py_22'] = dfb.ylls_due_to_diarrheal_diseases_in_2022 / dfb.person_time_in_2022\n",
    "dfb['yll_lri_per_py_22'] = dfb.ylls_due_to_lower_respiratory_infections_in_2022 / dfb.person_time_in_2022\n",
    "dfb['yll_per_py_22'] = dfb.yll_measles_per_py_22 + dfb.yll_diarrhea_per_py_22 + dfb.yll_lri_per_py_22\n",
    "\n",
    "dfb['yld_measles_per_py_22'] = dfb.ylds_due_to_measles / dfb.person_time_in_2022\n",
    "dfb['yld_diarrhea_per_py_22'] = dfb.ylds_due_to_diarrheal_diseases / dfb.person_time_in_2022\n",
    "dfb['yld_lri_per_py_22'] = dfb.ylds_due_to_lower_respiratory_infections / dfb.person_time_in_2022\n",
    "dfb['yld_per_py_22'] = dfb.yld_measles_per_py_22 + dfb.yld_diarrhea_per_py_22 + dfb.yld_lri_per_py_22\n",
    "\n",
    "dfb['daly_measles_per_py_22'] = dfb.yll_measles_per_py_22 + dfb.yld_measles_per_py_22\n",
    "dfb['daly_diarrhea_per_py_22'] = dfb.yll_diarrhea_per_py_22 + dfb.yld_diarrhea_per_py_22\n",
    "dfb['daly_lri_per_py_22'] = dfb.yll_lri_per_py_22 + dfb.yld_lri_per_py_22\n",
    "dfb['daly_per_py_22'] = dfb.daly_measles_per_py_22 + dfb.daly_diarrhea_per_py_22 + dfb.daly_lri_per_py_22"
   ]
  },
  {
   "cell_type": "code",
   "execution_count": 37,
   "metadata": {},
   "outputs": [],
   "source": [
    "dfb['yll_measles_per_py_23'] = dfb.ylls_due_to_measles_in_2023 / dfb.person_time_in_2023\n",
    "dfb['yll_diarrhea_per_py_23'] = dfb.ylls_due_to_diarrheal_diseases_in_2023 / dfb.person_time_in_2023\n",
    "dfb['yll_lri_per_py_23'] = dfb.ylls_due_to_lower_respiratory_infections_in_2023 / dfb.person_time_in_2023\n",
    "dfb['yll_per_py_23'] = dfb.yll_measles_per_py_23 + dfb.yll_diarrhea_per_py_23 + dfb.yll_lri_per_py_23\n",
    "\n",
    "dfb['yld_measles_per_py_23'] = dfb.ylds_due_to_measles / dfb.person_time_in_2023\n",
    "dfb['yld_diarrhea_per_py_23'] = dfb.ylds_due_to_diarrheal_diseases / dfb.person_time_in_2023\n",
    "dfb['yld_lri_per_py_23'] = dfb.ylds_due_to_lower_respiratory_infections / dfb.person_time_in_2023\n",
    "dfb['yld_per_py_23'] = dfb.yld_measles_per_py_23 + dfb.yld_diarrhea_per_py_23 + dfb.yld_lri_per_py_23\n",
    "\n",
    "dfb['daly_measles_per_py_23'] = dfb.yll_measles_per_py_23 + dfb.yld_measles_per_py_23\n",
    "dfb['daly_diarrhea_per_py_23'] = dfb.yll_diarrhea_per_py_23 + dfb.yld_diarrhea_per_py_23\n",
    "dfb['daly_lri_per_py_23'] = dfb.yll_lri_per_py_23 + dfb.yld_lri_per_py_23\n",
    "dfb['daly_per_py_23'] = dfb.daly_measles_per_py_23 + dfb.daly_diarrhea_per_py_23 + dfb.daly_lri_per_py_23"
   ]
  },
  {
   "cell_type": "code",
   "execution_count": 38,
   "metadata": {},
   "outputs": [
    {
     "name": "stdout",
     "output_type": "stream",
     "text": [
      "Overall DALY rate in 2017: 0.4652969963180297\n",
      "Rate of DALYs from measles in 2017: 0.019692505270945414\n",
      "Rate of DALYs from diarrheal diseases in 2017: 0.21753451894447948\n",
      "Rate of DALYs from lower respiratory infections in 2017: 0.22806997210260468\n"
     ]
    }
   ],
   "source": [
    "print(\"Overall DALY rate in 2017: \" + str(dfb.daly_per_py_17.mean()))\n",
    "print(\"Rate of DALYs from measles in 2017: \" + str(dfb.daly_measles_per_py_17.mean()))\n",
    "print(\"Rate of DALYs from diarrheal diseases in 2017: \" + str(dfb.daly_diarrhea_per_py_17.mean()))\n",
    "print(\"Rate of DALYs from lower respiratory infections in 2017: \" + str(dfb.daly_lri_per_py_17.mean()))"
   ]
  },
  {
   "cell_type": "code",
   "execution_count": 39,
   "metadata": {},
   "outputs": [
    {
     "name": "stdout",
     "output_type": "stream",
     "text": [
      "Overall DALY rate in 2018: 0.4671280894617049\n",
      "Rate of DALYs from measles in 2018: 0.016975161989683494\n",
      "Rate of DALYs from diarrheal diseases in 2018: 0.22012679253895023\n",
      "Rate of DALYs from lower respiratory infections in 2018: 0.23002613493307122\n"
     ]
    }
   ],
   "source": [
    "print(\"Overall DALY rate in 2018: \" + str(dfb.daly_per_py_18.mean()))\n",
    "print(\"Rate of DALYs from measles in 2018: \" + str(dfb.daly_measles_per_py_18.mean()))\n",
    "print(\"Rate of DALYs from diarrheal diseases in 2018: \" + str(dfb.daly_diarrhea_per_py_18.mean()))\n",
    "print(\"Rate of DALYs from lower respiratory infections in 2018: \" + str(dfb.daly_lri_per_py_18.mean()))"
   ]
  },
  {
   "cell_type": "code",
   "execution_count": 40,
   "metadata": {},
   "outputs": [
    {
     "name": "stdout",
     "output_type": "stream",
     "text": [
      "Overall DALY rate in 2019: 0.4650773478709027\n",
      "Rate of DALYs from measles in 2019: 0.01898675703125137\n",
      "Rate of DALYs from diarrheal diseases in 2019: 0.21187309478522154\n",
      "Rate of DALYs from lower respiratory infections in 2019: 0.2342174960544299\n"
     ]
    }
   ],
   "source": [
    "print(\"Overall DALY rate in 2019: \" + str(dfb.daly_per_py_19.mean()))\n",
    "print(\"Rate of DALYs from measles in 2019: \" + str(dfb.daly_measles_per_py_19.mean()))\n",
    "print(\"Rate of DALYs from diarrheal diseases in 2019: \" + str(dfb.daly_diarrhea_per_py_19.mean()))\n",
    "print(\"Rate of DALYs from lower respiratory infections in 2019: \" + str(dfb.daly_lri_per_py_19.mean()))"
   ]
  },
  {
   "cell_type": "code",
   "execution_count": 41,
   "metadata": {},
   "outputs": [
    {
     "name": "stdout",
     "output_type": "stream",
     "text": [
      "Overall DALY rate in 2020: 0.47156001235134615\n",
      "Rate of DALYs from measles in 2020: 0.019742583235593997\n",
      "Rate of DALYs from diarrheal diseases in 2020: 0.21702832015957063\n",
      "Rate of DALYs from lower respiratory infections in 2020: 0.23478910895618146\n"
     ]
    }
   ],
   "source": [
    "print(\"Overall DALY rate in 2020: \" + str(dfb.daly_per_py_20.mean()))\n",
    "print(\"Rate of DALYs from measles in 2020: \" + str(dfb.daly_measles_per_py_20.mean()))\n",
    "print(\"Rate of DALYs from diarrheal diseases in 2020: \" + str(dfb.daly_diarrhea_per_py_20.mean()))\n",
    "print(\"Rate of DALYs from lower respiratory infections in 2020: \" + str(dfb.daly_lri_per_py_20.mean()))"
   ]
  },
  {
   "cell_type": "code",
   "execution_count": 42,
   "metadata": {},
   "outputs": [
    {
     "name": "stdout",
     "output_type": "stream",
     "text": [
      "Overall DALY rate in 2021: 0.46653828826743604\n",
      "Rate of DALYs from measles in 2021: 0.01786717155185968\n",
      "Rate of DALYs from diarrheal diseases in 2021: 0.21612374482047614\n",
      "Rate of DALYs from lower respiratory infections in 2021: 0.23254737189510025\n"
     ]
    }
   ],
   "source": [
    "print(\"Overall DALY rate in 2021: \" + str(dfb.daly_per_py_21.mean()))\n",
    "print(\"Rate of DALYs from measles in 2021: \" + str(dfb.daly_measles_per_py_21.mean()))\n",
    "print(\"Rate of DALYs from diarrheal diseases in 2021: \" + str(dfb.daly_diarrhea_per_py_21.mean()))\n",
    "print(\"Rate of DALYs from lower respiratory infections in 2021: \" + str(dfb.daly_lri_per_py_21.mean()))"
   ]
  },
  {
   "cell_type": "code",
   "execution_count": 43,
   "metadata": {},
   "outputs": [
    {
     "name": "stdout",
     "output_type": "stream",
     "text": [
      "Overall DALY rate in 2022: 0.46385131155906345\n",
      "Rate of DALYs from measles in 2022: 0.017772789213735363\n",
      "Rate of DALYs from diarrheal diseases in 2022: 0.21260601754812938\n",
      "Rate of DALYs from lower respiratory infections in 2022: 0.2334725047971987\n"
     ]
    }
   ],
   "source": [
    "print(\"Overall DALY rate in 2022: \" + str(dfb.daly_per_py_22.mean()))\n",
    "print(\"Rate of DALYs from measles in 2022: \" + str(dfb.daly_measles_per_py_22.mean()))\n",
    "print(\"Rate of DALYs from diarrheal diseases in 2022: \" + str(dfb.daly_diarrhea_per_py_22.mean()))\n",
    "print(\"Rate of DALYs from lower respiratory infections in 2022: \" + str(dfb.daly_lri_per_py_22.mean()))"
   ]
  },
  {
   "cell_type": "code",
   "execution_count": 44,
   "metadata": {},
   "outputs": [
    {
     "name": "stdout",
     "output_type": "stream",
     "text": [
      "Overall DALY rate in 2023: 0.45517991124215534\n",
      "Rate of DALYs from measles in 2023: 0.01546141806532961\n",
      "Rate of DALYs from diarrheal diseases in 2023: 0.2127205872051063\n",
      "Rate of DALYs from lower respiratory infections in 2023: 0.22699790597171943\n"
     ]
    }
   ],
   "source": [
    "print(\"Overall DALY rate in 2023: \" + str(dfb.daly_per_py_23.mean()))\n",
    "print(\"Rate of DALYs from measles in 2023: \" + str(dfb.daly_measles_per_py_23.mean()))\n",
    "print(\"Rate of DALYs from diarrheal diseases in 2023: \" + str(dfb.daly_diarrhea_per_py_23.mean()))\n",
    "print(\"Rate of DALYs from lower respiratory infections in 2023: \" + str(dfb.daly_lri_per_py_23.mean()))"
   ]
  },
  {
   "cell_type": "code",
   "execution_count": 45,
   "metadata": {
    "scrolled": true
   },
   "outputs": [
    {
     "name": "stdout",
     "output_type": "stream",
     "text": [
      "DALYs averted per 100,000 person-years in 2017: 5.246980295264825\n",
      "DALYs averted per 100,000 person-years in 2018: 5.157857716664438\n",
      "DALYs averted per 100,000 person-years in 2019: 30.22658263429068\n",
      "DALYs averted per 100,000 person-years in 2020: 17.66428802627007\n",
      "DALYs averted per 100,000 person-years in 2021: 58.597008256966454\n",
      "DALYs averted per 100,000 person-years in 2022: 62.80426970003417\n",
      "DALYs averted per 100,000 person-years in 2023: 79.33522353457678\n"
     ]
    }
   ],
   "source": [
    "df['daly_averted_per_py_17'] = (dfb.daly_per_py_17.mean() - df.daly_per_py_17.mean())\n",
    "df['daly_averted_per_py_18'] = (dfb.daly_per_py_18.mean() - df.daly_per_py_18.mean())\n",
    "df['daly_averted_per_py_19'] = (dfb.daly_per_py_19.mean() - df.daly_per_py_19.mean())\n",
    "df['daly_averted_per_py_20'] = (dfb.daly_per_py_20.mean() - df.daly_per_py_20.mean())\n",
    "df['daly_averted_per_py_21'] = (dfb.daly_per_py_21.mean() - df.daly_per_py_21.mean())\n",
    "df['daly_averted_per_py_22'] = (dfb.daly_per_py_22.mean() - df.daly_per_py_22.mean())\n",
    "df['daly_averted_per_py_23'] = (dfb.daly_per_py_23.mean() - df.daly_per_py_23.mean())\n",
    "\n",
    "print(\"DALYs averted per 100,000 person-years in 2017: \" + str(df.daly_averted_per_py_17.mean() * 100000))\n",
    "print(\"DALYs averted per 100,000 person-years in 2018: \" + str(df.daly_averted_per_py_18.mean() * 100000))\n",
    "print(\"DALYs averted per 100,000 person-years in 2019: \" + str(df.daly_averted_per_py_19.mean() * 100000))\n",
    "print(\"DALYs averted per 100,000 person-years in 2020: \" + str(df.daly_averted_per_py_20.mean() * 100000))\n",
    "print(\"DALYs averted per 100,000 person-years in 2021: \" + str(df.daly_averted_per_py_21.mean() * 100000))\n",
    "print(\"DALYs averted per 100,000 person-years in 2022: \" + str(df.daly_averted_per_py_22.mean() * 100000))\n",
    "print(\"DALYs averted per 100,000 person-years in 2023: \" + str(df.daly_averted_per_py_23.mean() * 100000))\n",
    "averted_Burkina_Faso = np.array([df.daly_averted_per_py_17.mean() * 100000, df.daly_averted_per_py_18.mean() * 100000, \n",
    "                            df.daly_averted_per_py_19.mean() * 100000, df.daly_averted_per_py_20.mean() * 100000, \n",
    "                            df.daly_averted_per_py_21.mean() * 100000, df.daly_averted_per_py_22.mean() * 100000, \n",
    "                            df.daly_averted_per_py_23.mean() * 100000])"
   ]
  },
  {
   "cell_type": "code",
   "execution_count": 46,
   "metadata": {},
   "outputs": [
    {
     "name": "stdout",
     "output_type": "stream",
     "text": [
      "[0.88 0.88 0.88 0.88 0.88 0.88 0.88]\n",
      "[3530140.75  4195756.5   4882860.94  5595671.835 6285490.82  7001417.465\n",
      " 7724009.125]\n"
     ]
    }
   ],
   "source": [
    "coverages = np.append(np.array([cov_base]), np.linspace(cov_base, cov_base, 6))\n",
    "print(coverages)\n",
    "\n",
    "supplemented = np.array([df.supplemented_days_in_2017.mean(), df.supplemented_days_in_2018.mean(), df.supplemented_days_in_2019.mean(),\n",
    "                         df.supplemented_days_in_2020.mean(), df.supplemented_days_in_2021.mean(), df.supplemented_days_in_2022.mean(),\n",
    "                         df.supplemented_days_in_2023.mean()])\n",
    "\n",
    "print(supplemented)"
   ]
  },
  {
   "cell_type": "code",
   "execution_count": 47,
   "metadata": {},
   "outputs": [
    {
     "data": {
      "text/plain": [
       "25917.98"
      ]
     },
     "execution_count": 47,
     "metadata": {},
     "output_type": "execute_result"
    }
   ],
   "source": [
    "dfb.total_population.mean()"
   ]
  },
  {
   "cell_type": "code",
   "execution_count": 48,
   "metadata": {},
   "outputs": [
    {
     "data": {
      "text/plain": [
       "41411406.89135999"
      ]
     },
     "execution_count": 48,
     "metadata": {},
     "output_type": "execute_result"
    }
   ],
   "source": [
    "unit_cost = 0.60 # UC Davis Paper\n",
    "\n",
    "doses = coverages * supplemented * 2\n",
    "total_baseline_cost = unit_cost * doses.sum()\n",
    "\n",
    "total_baseline_cost"
   ]
  },
  {
   "cell_type": "code",
   "execution_count": 49,
   "metadata": {},
   "outputs": [
    {
     "data": {
      "text/plain": [
       "1462412.0527920052"
      ]
     },
     "execution_count": 49,
     "metadata": {},
     "output_type": "execute_result"
    }
   ],
   "source": [
    "delta_cost = total_intervention_cost - total_baseline_cost\n",
    "\n",
    "delta_cost"
   ]
  },
  {
   "cell_type": "code",
   "execution_count": 50,
   "metadata": {},
   "outputs": [
    {
     "data": {
      "text/plain": [
       "5645.676465740432"
      ]
     },
     "execution_count": 50,
     "metadata": {},
     "output_type": "execute_result"
    }
   ],
   "source": [
    "icer = delta_cost / averted_Burkina_Faso.sum()\n",
    "\n",
    "icer"
   ]
  },
  {
   "cell_type": "code",
   "execution_count": null,
   "metadata": {},
   "outputs": [],
   "source": []
  }
 ],
 "metadata": {
  "kernelspec": {
   "display_name": "Python 3",
   "language": "python",
   "name": "python3"
  },
  "language_info": {
   "codemirror_mode": {
    "name": "ipython",
    "version": 3
   },
   "file_extension": ".py",
   "mimetype": "text/x-python",
   "name": "python",
   "nbconvert_exporter": "python",
   "pygments_lexer": "ipython3",
   "version": "3.6.8"
  }
 },
 "nbformat": 4,
 "nbformat_minor": 2
}
