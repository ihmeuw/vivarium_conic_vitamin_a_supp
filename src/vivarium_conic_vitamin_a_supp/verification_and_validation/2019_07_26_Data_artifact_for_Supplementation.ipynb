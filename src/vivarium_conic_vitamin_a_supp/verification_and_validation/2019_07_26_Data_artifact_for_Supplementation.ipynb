{
 "cells": [
  {
   "cell_type": "code",
   "execution_count": 2,
   "metadata": {},
   "outputs": [
    {
     "name": "stdout",
     "output_type": "stream",
     "text": [
      "Artifact containing the following keys:\n",
      "metadata\n",
      "\tkeyspace\n",
      "\tversions\n",
      "\tlocations\n",
      "population\n",
      "\tdemographic_dimensions\n",
      "\tstructure\n",
      "\ttheoretical_minimum_risk_life_expectancy\n",
      "\tage_bins\n",
      "cause\n",
      "\tall_causes\n",
      "\t\tcause_specific_mortality\n",
      "\tmeasles\n",
      "\t\trestrictions\n",
      "\t\tcause_specific_mortality\n",
      "\t\tprevalence\n",
      "\t\tdisability_weight\n",
      "\t\texcess_mortality\n",
      "\t\tincidence\n",
      "\tdiarrheal_diseases\n",
      "\t\trestrictions\n",
      "\t\tcause_specific_mortality\n",
      "\t\tprevalence\n",
      "\t\tdisability_weight\n",
      "\t\texcess_mortality\n",
      "\t\tincidence\n",
      "\t\tremission\n",
      "\tlower_respiratory_infections\n",
      "\t\trestrictions\n",
      "\t\tcause_specific_mortality\n",
      "\t\tprevalence\n",
      "\t\tdisability_weight\n",
      "\t\texcess_mortality\n",
      "\t\tincidence\n",
      "\t\tremission\n",
      "covariate\n",
      "\tlive_births_by_sex\n",
      "\t\testimate\n",
      "risk_factor\n",
      "\tvitamin_a_deficiency\n",
      "\t\texposure\n",
      "\t\tdistribution\n",
      "\t\trelative_risk\n",
      "\t\tpopulation_attributable_fraction\n",
      "\t\tcategories\n",
      "\n"
     ]
    }
   ],
   "source": [
    "from vivarium_public_health.dataset_manager import Artifact\n",
    "\n",
    "art = Artifact(\"/share/costeffectiveness/artifacts/vivarium_conic_vitamin_a_supp/vivarium_conic_vitamin_a_supp.hdf\")\n",
    "# art = Artifact(\"/ihme/homes/adityak7/vivarium_conic_vitamin_a_supp/vivarium_conic_vitamin_a_supp.hdf\")\n",
    "print(art)"
   ]
  },
  {
   "cell_type": "code",
   "execution_count": 5,
   "metadata": {},
   "outputs": [
    {
     "data": {
      "text/plain": [
       "['Nigeria']"
      ]
     },
     "execution_count": 5,
     "metadata": {},
     "output_type": "execute_result"
    }
   ],
   "source": [
    "art.load(\"metadata.locations\")"
   ]
  },
  {
   "cell_type": "code",
   "execution_count": 4,
   "metadata": {},
   "outputs": [],
   "source": [
    "# art.replace(\"metadata.locations\", ['Nigeria'])"
   ]
  },
  {
   "cell_type": "code",
   "execution_count": null,
   "metadata": {},
   "outputs": [],
   "source": []
  }
 ],
 "metadata": {
  "kernelspec": {
   "display_name": "Python 3",
   "language": "python",
   "name": "python3"
  },
  "language_info": {
   "codemirror_mode": {
    "name": "ipython",
    "version": 3
   },
   "file_extension": ".py",
   "mimetype": "text/x-python",
   "name": "python",
   "nbconvert_exporter": "python",
   "pygments_lexer": "ipython3",
   "version": "3.6.8"
  }
 },
 "nbformat": 4,
 "nbformat_minor": 2
}
