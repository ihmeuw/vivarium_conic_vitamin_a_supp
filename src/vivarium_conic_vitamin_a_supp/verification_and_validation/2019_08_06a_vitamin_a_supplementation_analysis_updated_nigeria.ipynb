{
 "cells": [
  {
   "cell_type": "code",
   "execution_count": 1,
   "metadata": {
    "scrolled": false
   },
   "outputs": [
    {
     "name": "stdout",
     "output_type": "stream",
     "text": [
      "Mon Aug 12 14:50:11 PDT 2019\n",
      "The autoreload extension is already loaded. To reload it, use:\n",
      "  %reload_ext autoreload\n"
     ]
    }
   ],
   "source": [
    "import numpy as np, pandas as pd, matplotlib.pyplot as plt\n",
    "pd.set_option('display.max_rows', 12)\n",
    "!date\n",
    "\n",
    "%reload_ext autoreload\n",
    "%load_ext autoreload\n",
    "%autoreload 2"
   ]
  },
  {
   "cell_type": "markdown",
   "metadata": {},
   "source": [
    "# Inspect results of Vitamin A distributed run\n",
    "### Nigeria: Baseline Coverage = 0.32, Intrevention Coverage = 0.66"
   ]
  },
  {
   "cell_type": "code",
   "execution_count": 53,
   "metadata": {
    "scrolled": true
   },
   "outputs": [
    {
     "name": "stdout",
     "output_type": "stream",
     "text": [
      "/share/costeffectiveness/results/nigeria/2019_08_06_21_29_16/output.hdf\n"
     ]
    }
   ],
   "source": [
    "# input_draw_count = 100 and population_size = 10_000\n",
    "proj = 'nigeria'\n",
    "time = '2019_08_06_21_29_16'\n",
    "\n",
    "fname = f'/share/costeffectiveness/results/{proj}/{time}/output.hdf'\n",
    "print(fname)"
   ]
  },
  {
   "cell_type": "code",
   "execution_count": 54,
   "metadata": {},
   "outputs": [],
   "source": [
    "cov_base = 0.32\n",
    "cov_tar = 0.66"
   ]
  },
  {
   "cell_type": "code",
   "execution_count": 55,
   "metadata": {
    "scrolled": false
   },
   "outputs": [
    {
     "data": {
      "text/plain": [
       "(100, 150)"
      ]
     },
     "execution_count": 55,
     "metadata": {},
     "output_type": "execute_result"
    }
   ],
   "source": [
    "df = pd.read_hdf(fname)\n",
    "df = df.loc[df['vitamin_a_supplementation.target_coverage'] == cov_tar]\n",
    "df.shape"
   ]
  },
  {
   "cell_type": "code",
   "execution_count": 56,
   "metadata": {
    "scrolled": false
   },
   "outputs": [
    {
     "data": {
      "text/plain": [
       "array([0.66])"
      ]
     },
     "execution_count": 56,
     "metadata": {},
     "output_type": "execute_result"
    }
   ],
   "source": [
    "df['vitamin_a_supplementation.target_coverage'].unique()"
   ]
  },
  {
   "cell_type": "code",
   "execution_count": 57,
   "metadata": {
    "scrolled": true
   },
   "outputs": [
    {
     "data": {
      "text/plain": [
       "['total_population_untracked',\n",
       " 'total_population_tracked',\n",
       " 'total_population',\n",
       " 'death_due_to_measles_in_2017',\n",
       " 'death_due_to_diarrheal_diseases_in_2017',\n",
       " 'death_due_to_lower_respiratory_infections_in_2017',\n",
       " 'death_due_to_other_causes_in_2017',\n",
       " 'death_due_to_measles_in_2018',\n",
       " 'death_due_to_diarrheal_diseases_in_2018',\n",
       " 'death_due_to_lower_respiratory_infections_in_2018',\n",
       " 'death_due_to_other_causes_in_2018',\n",
       " 'death_due_to_measles_in_2019',\n",
       " 'death_due_to_diarrheal_diseases_in_2019',\n",
       " 'death_due_to_lower_respiratory_infections_in_2019',\n",
       " 'death_due_to_other_causes_in_2019',\n",
       " 'death_due_to_measles_in_2020',\n",
       " 'death_due_to_diarrheal_diseases_in_2020',\n",
       " 'death_due_to_lower_respiratory_infections_in_2020',\n",
       " 'death_due_to_other_causes_in_2020',\n",
       " 'death_due_to_measles_in_2021',\n",
       " 'death_due_to_diarrheal_diseases_in_2021',\n",
       " 'death_due_to_lower_respiratory_infections_in_2021',\n",
       " 'death_due_to_other_causes_in_2021',\n",
       " 'death_due_to_measles_in_2022',\n",
       " 'death_due_to_diarrheal_diseases_in_2022',\n",
       " 'death_due_to_lower_respiratory_infections_in_2022',\n",
       " 'death_due_to_other_causes_in_2022',\n",
       " 'death_due_to_measles_in_2023',\n",
       " 'death_due_to_diarrheal_diseases_in_2023',\n",
       " 'death_due_to_lower_respiratory_infections_in_2023',\n",
       " 'death_due_to_other_causes_in_2023',\n",
       " 'total_population_living',\n",
       " 'total_population_dead',\n",
       " 'vitamin_a_deficiency_cat1_exposed_in_2017_among_early_neonatal',\n",
       " 'vitamin_a_deficiency_cat2_exposed_in_2017_among_early_neonatal',\n",
       " 'vitamin_a_deficiency_cat1_exposed_in_2018_among_early_neonatal',\n",
       " 'vitamin_a_deficiency_cat2_exposed_in_2018_among_early_neonatal',\n",
       " 'vitamin_a_deficiency_cat1_exposed_in_2019_among_early_neonatal',\n",
       " 'vitamin_a_deficiency_cat2_exposed_in_2019_among_early_neonatal',\n",
       " 'vitamin_a_deficiency_cat1_exposed_in_2020_among_early_neonatal',\n",
       " 'vitamin_a_deficiency_cat2_exposed_in_2020_among_early_neonatal',\n",
       " 'vitamin_a_deficiency_cat1_exposed_in_2021_among_early_neonatal',\n",
       " 'vitamin_a_deficiency_cat2_exposed_in_2021_among_early_neonatal',\n",
       " 'vitamin_a_deficiency_cat1_exposed_in_2022_among_early_neonatal',\n",
       " 'vitamin_a_deficiency_cat2_exposed_in_2022_among_early_neonatal',\n",
       " 'vitamin_a_deficiency_cat1_exposed_in_2023_among_early_neonatal',\n",
       " 'vitamin_a_deficiency_cat2_exposed_in_2023_among_early_neonatal',\n",
       " 'vitamin_a_deficiency_cat1_exposed_in_2017_among_late_neonatal',\n",
       " 'vitamin_a_deficiency_cat2_exposed_in_2017_among_late_neonatal',\n",
       " 'vitamin_a_deficiency_cat1_exposed_in_2018_among_late_neonatal',\n",
       " 'vitamin_a_deficiency_cat2_exposed_in_2018_among_late_neonatal',\n",
       " 'vitamin_a_deficiency_cat1_exposed_in_2019_among_late_neonatal',\n",
       " 'vitamin_a_deficiency_cat2_exposed_in_2019_among_late_neonatal',\n",
       " 'vitamin_a_deficiency_cat1_exposed_in_2020_among_late_neonatal',\n",
       " 'vitamin_a_deficiency_cat2_exposed_in_2020_among_late_neonatal',\n",
       " 'vitamin_a_deficiency_cat1_exposed_in_2021_among_late_neonatal',\n",
       " 'vitamin_a_deficiency_cat2_exposed_in_2021_among_late_neonatal',\n",
       " 'vitamin_a_deficiency_cat1_exposed_in_2022_among_late_neonatal',\n",
       " 'vitamin_a_deficiency_cat2_exposed_in_2022_among_late_neonatal',\n",
       " 'vitamin_a_deficiency_cat1_exposed_in_2023_among_late_neonatal',\n",
       " 'vitamin_a_deficiency_cat2_exposed_in_2023_among_late_neonatal',\n",
       " 'vitamin_a_deficiency_cat1_exposed_in_2017_among_post_neonatal',\n",
       " 'vitamin_a_deficiency_cat2_exposed_in_2017_among_post_neonatal',\n",
       " 'vitamin_a_deficiency_cat1_exposed_in_2018_among_post_neonatal',\n",
       " 'vitamin_a_deficiency_cat2_exposed_in_2018_among_post_neonatal',\n",
       " 'vitamin_a_deficiency_cat1_exposed_in_2019_among_post_neonatal',\n",
       " 'vitamin_a_deficiency_cat2_exposed_in_2019_among_post_neonatal',\n",
       " 'vitamin_a_deficiency_cat1_exposed_in_2020_among_post_neonatal',\n",
       " 'vitamin_a_deficiency_cat2_exposed_in_2020_among_post_neonatal',\n",
       " 'vitamin_a_deficiency_cat1_exposed_in_2021_among_post_neonatal',\n",
       " 'vitamin_a_deficiency_cat2_exposed_in_2021_among_post_neonatal',\n",
       " 'vitamin_a_deficiency_cat1_exposed_in_2022_among_post_neonatal',\n",
       " 'vitamin_a_deficiency_cat2_exposed_in_2022_among_post_neonatal',\n",
       " 'vitamin_a_deficiency_cat1_exposed_in_2023_among_post_neonatal',\n",
       " 'vitamin_a_deficiency_cat2_exposed_in_2023_among_post_neonatal',\n",
       " 'vitamin_a_deficiency_cat1_exposed_in_2017_among_1_to_4',\n",
       " 'vitamin_a_deficiency_cat2_exposed_in_2017_among_1_to_4',\n",
       " 'vitamin_a_deficiency_cat1_exposed_in_2018_among_1_to_4',\n",
       " 'vitamin_a_deficiency_cat2_exposed_in_2018_among_1_to_4',\n",
       " 'vitamin_a_deficiency_cat1_exposed_in_2019_among_1_to_4',\n",
       " 'vitamin_a_deficiency_cat2_exposed_in_2019_among_1_to_4',\n",
       " 'vitamin_a_deficiency_cat1_exposed_in_2020_among_1_to_4',\n",
       " 'vitamin_a_deficiency_cat2_exposed_in_2020_among_1_to_4',\n",
       " 'vitamin_a_deficiency_cat1_exposed_in_2021_among_1_to_4',\n",
       " 'vitamin_a_deficiency_cat2_exposed_in_2021_among_1_to_4',\n",
       " 'vitamin_a_deficiency_cat1_exposed_in_2022_among_1_to_4',\n",
       " 'vitamin_a_deficiency_cat2_exposed_in_2022_among_1_to_4',\n",
       " 'vitamin_a_deficiency_cat1_exposed_in_2023_among_1_to_4',\n",
       " 'vitamin_a_deficiency_cat2_exposed_in_2023_among_1_to_4',\n",
       " 'supplemented_days_in_2017',\n",
       " 'supplemented_days_in_2018',\n",
       " 'supplemented_days_in_2019',\n",
       " 'supplemented_days_in_2020',\n",
       " 'supplemented_days_in_2021',\n",
       " 'supplemented_days_in_2022',\n",
       " 'supplemented_days_in_2023',\n",
       " 'measles_prevalent_cases_at_sim_end',\n",
       " 'diarrheal_diseases_prevalent_cases_at_sim_end',\n",
       " 'lower_respiratory_infections_prevalent_cases_at_sim_end',\n",
       " 'susceptible_to_measles_event_count',\n",
       " 'measles_event_count',\n",
       " 'recovered_from_measles_event_count',\n",
       " 'susceptible_to_diarrheal_diseases_event_count',\n",
       " 'diarrheal_diseases_event_count',\n",
       " 'susceptible_to_lower_respiratory_infections_event_count',\n",
       " 'lower_respiratory_infections_event_count',\n",
       " 'input_draw',\n",
       " 'random_seed',\n",
       " 'person_time_in_2017',\n",
       " 'person_time_in_2018',\n",
       " 'person_time_in_2019',\n",
       " 'person_time_in_2020',\n",
       " 'person_time_in_2021',\n",
       " 'person_time_in_2022',\n",
       " 'person_time_in_2023',\n",
       " 'ylls_due_to_measles_in_2017',\n",
       " 'ylls_due_to_diarrheal_diseases_in_2017',\n",
       " 'ylls_due_to_lower_respiratory_infections_in_2017',\n",
       " 'ylls_due_to_other_causes_in_2017',\n",
       " 'ylls_due_to_measles_in_2018',\n",
       " 'ylls_due_to_diarrheal_diseases_in_2018',\n",
       " 'ylls_due_to_lower_respiratory_infections_in_2018',\n",
       " 'ylls_due_to_other_causes_in_2018',\n",
       " 'ylls_due_to_measles_in_2019',\n",
       " 'ylls_due_to_diarrheal_diseases_in_2019',\n",
       " 'ylls_due_to_lower_respiratory_infections_in_2019',\n",
       " 'ylls_due_to_other_causes_in_2019',\n",
       " 'ylls_due_to_measles_in_2020',\n",
       " 'ylls_due_to_diarrheal_diseases_in_2020',\n",
       " 'ylls_due_to_lower_respiratory_infections_in_2020',\n",
       " 'ylls_due_to_other_causes_in_2020',\n",
       " 'ylls_due_to_measles_in_2021',\n",
       " 'ylls_due_to_diarrheal_diseases_in_2021',\n",
       " 'ylls_due_to_lower_respiratory_infections_in_2021',\n",
       " 'ylls_due_to_other_causes_in_2021',\n",
       " 'ylls_due_to_measles_in_2022',\n",
       " 'ylls_due_to_diarrheal_diseases_in_2022',\n",
       " 'ylls_due_to_lower_respiratory_infections_in_2022',\n",
       " 'ylls_due_to_other_causes_in_2022',\n",
       " 'ylls_due_to_measles_in_2023',\n",
       " 'ylls_due_to_diarrheal_diseases_in_2023',\n",
       " 'ylls_due_to_lower_respiratory_infections_in_2023',\n",
       " 'ylls_due_to_other_causes_in_2023',\n",
       " 'years_of_life_lost',\n",
       " 'years_lived_with_disability',\n",
       " 'ylds_due_to_measles',\n",
       " 'ylds_due_to_diarrheal_diseases',\n",
       " 'ylds_due_to_lower_respiratory_infections',\n",
       " 'simulation_run_time',\n",
       " 'vitamin_a_supplementation.target_coverage']"
      ]
     },
     "execution_count": 57,
     "metadata": {},
     "output_type": "execute_result"
    }
   ],
   "source": [
    "df = df.iloc[:, :]\n",
    "list(df.columns)"
   ]
  },
  {
   "cell_type": "code",
   "execution_count": 7,
   "metadata": {
    "scrolled": true
   },
   "outputs": [
    {
     "name": "stdout",
     "output_type": "stream",
     "text": [
      "Exposure in 2017 is 0.23282366058125617\n",
      "Exposure in 2018 is 0.23210536826255826\n",
      "Exposure in 2019 is 0.22535755529621565\n",
      "Exposure in 2020 is 0.218934853617326\n",
      "Exposure in 2021 is 0.212758851654709\n",
      "Exposure in 2022 is 0.20725347383733664\n",
      "Exposure in 2023 is 0.20150565967509537\n"
     ]
    }
   ],
   "source": [
    "df['exposure_2017'] = df.vitamin_a_deficiency_cat1_exposed_in_2017_among_1_to_4/(df.vitamin_a_deficiency_cat1_exposed_in_2017_among_1_to_4 + df.vitamin_a_deficiency_cat2_exposed_in_2017_among_1_to_4)\n",
    "print(\"Exposure in 2017 is \" + str(df.exposure_2017.mean()))\n",
    "df['exposure_2018'] = df.vitamin_a_deficiency_cat1_exposed_in_2018_among_1_to_4/(df.vitamin_a_deficiency_cat1_exposed_in_2018_among_1_to_4 + df.vitamin_a_deficiency_cat2_exposed_in_2018_among_1_to_4)\n",
    "print(\"Exposure in 2018 is \" + str(df.exposure_2018.mean()))\n",
    "df['exposure_2019'] = df.vitamin_a_deficiency_cat1_exposed_in_2019_among_1_to_4/(df.vitamin_a_deficiency_cat1_exposed_in_2019_among_1_to_4 + df.vitamin_a_deficiency_cat2_exposed_in_2019_among_1_to_4)\n",
    "print(\"Exposure in 2019 is \" + str(df.exposure_2019.mean()))\n",
    "df['exposure_2020'] = df.vitamin_a_deficiency_cat1_exposed_in_2020_among_1_to_4/(df.vitamin_a_deficiency_cat1_exposed_in_2020_among_1_to_4 + df.vitamin_a_deficiency_cat2_exposed_in_2020_among_1_to_4)\n",
    "print(\"Exposure in 2020 is \" + str(df.exposure_2020.mean()))\n",
    "df['exposure_2021'] = df.vitamin_a_deficiency_cat1_exposed_in_2021_among_1_to_4/(df.vitamin_a_deficiency_cat1_exposed_in_2021_among_1_to_4 + df.vitamin_a_deficiency_cat2_exposed_in_2021_among_1_to_4)\n",
    "print(\"Exposure in 2021 is \" + str(df.exposure_2021.mean()))\n",
    "df['exposure_2022'] = df.vitamin_a_deficiency_cat1_exposed_in_2022_among_1_to_4/(df.vitamin_a_deficiency_cat1_exposed_in_2022_among_1_to_4 + df.vitamin_a_deficiency_cat2_exposed_in_2022_among_1_to_4)\n",
    "print(\"Exposure in 2022 is \" + str(df.exposure_2022.mean()))\n",
    "df['exposure_2023'] = df.vitamin_a_deficiency_cat1_exposed_in_2023_among_1_to_4/(df.vitamin_a_deficiency_cat1_exposed_in_2023_among_1_to_4 + df.vitamin_a_deficiency_cat2_exposed_in_2023_among_1_to_4)\n",
    "print(\"Exposure in 2023 is \" + str(df.exposure_2023.mean()))\n",
    "exposure_target = np.array([df.exposure_2017.mean(), df.exposure_2018.mean(), df.exposure_2019.mean(), df.exposure_2020.mean(), \n",
    "                  df.exposure_2021.mean(), df.exposure_2022.mean(), df.exposure_2023.mean()])"
   ]
  },
  {
   "cell_type": "code",
   "execution_count": 8,
   "metadata": {},
   "outputs": [],
   "source": [
    "# py_17 = df.person_time_in_2017.mean()\n",
    "# py_18 = df.person_time_in_2018.mean()\n",
    "# py_19 = df.person_time_in_2019.mean()\n",
    "# py_20 = df.person_time_in_2020.mean()\n",
    "# py_21 = df.person_time_in_2021.mean()\n",
    "# py_22 = df.person_time_in_2022.mean()\n",
    "# py_23 = df.person_time_in_2023.mean()"
   ]
  },
  {
   "cell_type": "code",
   "execution_count": 9,
   "metadata": {},
   "outputs": [],
   "source": [
    "df['yll_measles_per_py_17'] = df.ylls_due_to_measles_in_2017 / df.person_time_in_2017\n",
    "df['yll_diarrhea_per_py_17'] = df.ylls_due_to_diarrheal_diseases_in_2017 / df.person_time_in_2017\n",
    "df['yll_lri_per_py_17'] = df.ylls_due_to_lower_respiratory_infections_in_2017 / df.person_time_in_2017\n",
    "df['yll_per_py_17'] = df.yll_measles_per_py_17 + df.yll_diarrhea_per_py_17 + df.yll_lri_per_py_17\n",
    "\n",
    "df['yld_measles_per_py_17'] = df.ylds_due_to_measles / df.person_time_in_2017\n",
    "df['yld_diarrhea_per_py_17'] = df.ylds_due_to_diarrheal_diseases / df.person_time_in_2017\n",
    "df['yld_lri_per_py_17'] = df.ylds_due_to_lower_respiratory_infections / df.person_time_in_2017\n",
    "df['yld_per_py_17'] = df.yld_measles_per_py_17 + df.yld_diarrhea_per_py_17 + df.yld_lri_per_py_17\n",
    "\n",
    "df['daly_measles_per_py_17'] = df.yll_measles_per_py_17 + df.yld_measles_per_py_17\n",
    "df['daly_diarrhea_per_py_17'] = df.yll_diarrhea_per_py_17 + df.yld_diarrhea_per_py_17\n",
    "df['daly_lri_per_py_17'] = df.yll_lri_per_py_17 + df.yld_lri_per_py_17\n",
    "df['daly_per_py_17'] = df.daly_measles_per_py_17 + df.daly_diarrhea_per_py_17 + df.daly_lri_per_py_17"
   ]
  },
  {
   "cell_type": "code",
   "execution_count": 10,
   "metadata": {},
   "outputs": [],
   "source": [
    "df['yll_measles_per_py_18'] = df.ylls_due_to_measles_in_2018 / df.person_time_in_2018\n",
    "df['yll_diarrhea_per_py_18'] = df.ylls_due_to_diarrheal_diseases_in_2018 / df.person_time_in_2018\n",
    "df['yll_lri_per_py_18'] = df.ylls_due_to_lower_respiratory_infections_in_2018 / df.person_time_in_2018\n",
    "df['yll_per_py_18'] = df.yll_measles_per_py_18 + df.yll_diarrhea_per_py_18 + df.yll_lri_per_py_18\n",
    "\n",
    "df['yld_measles_per_py_18'] = df.ylds_due_to_measles / df.person_time_in_2018\n",
    "df['yld_diarrhea_per_py_18'] = df.ylds_due_to_diarrheal_diseases / df.person_time_in_2018\n",
    "df['yld_lri_per_py_18'] = df.ylds_due_to_lower_respiratory_infections / df.person_time_in_2018\n",
    "df['yld_per_py_18'] = df.yld_measles_per_py_18 + df.yld_diarrhea_per_py_18 + df.yld_lri_per_py_18\n",
    "\n",
    "df['daly_measles_per_py_18'] = df.yll_measles_per_py_18 + df.yld_measles_per_py_18\n",
    "df['daly_diarrhea_per_py_18'] = df.yll_diarrhea_per_py_18 + df.yld_diarrhea_per_py_18\n",
    "df['daly_lri_per_py_18'] = df.yll_lri_per_py_18 + df.yld_lri_per_py_18\n",
    "df['daly_per_py_18'] = df.daly_measles_per_py_18 + df.daly_diarrhea_per_py_18 + df.daly_lri_per_py_18"
   ]
  },
  {
   "cell_type": "code",
   "execution_count": 11,
   "metadata": {},
   "outputs": [],
   "source": [
    "df['yll_measles_per_py_19'] = df.ylls_due_to_measles_in_2019 / df.person_time_in_2019\n",
    "df['yll_diarrhea_per_py_19'] = df.ylls_due_to_diarrheal_diseases_in_2019 / df.person_time_in_2019\n",
    "df['yll_lri_per_py_19'] = df.ylls_due_to_lower_respiratory_infections_in_2019 / df.person_time_in_2019\n",
    "df['yll_per_py_19'] = df.yll_measles_per_py_19 + df.yll_diarrhea_per_py_19 + df.yll_lri_per_py_19\n",
    "\n",
    "df['yld_measles_per_py_19'] = df.ylds_due_to_measles / df.person_time_in_2019\n",
    "df['yld_diarrhea_per_py_19'] = df.ylds_due_to_diarrheal_diseases / df.person_time_in_2019\n",
    "df['yld_lri_per_py_19'] = df.ylds_due_to_lower_respiratory_infections / df.person_time_in_2019\n",
    "df['yld_per_py_19'] = df.yld_measles_per_py_19 + df.yld_diarrhea_per_py_19 + df.yld_lri_per_py_19\n",
    "\n",
    "df['daly_measles_per_py_19'] = df.yll_measles_per_py_19 + df.yld_measles_per_py_19\n",
    "df['daly_diarrhea_per_py_19'] = df.yll_diarrhea_per_py_19 + df.yld_diarrhea_per_py_19\n",
    "df['daly_lri_per_py_19'] = df.yll_lri_per_py_19 + df.yld_lri_per_py_19\n",
    "df['daly_per_py_19'] = df.daly_measles_per_py_19 + df.daly_diarrhea_per_py_19 + df.daly_lri_per_py_19"
   ]
  },
  {
   "cell_type": "code",
   "execution_count": 12,
   "metadata": {},
   "outputs": [],
   "source": [
    "df['yll_measles_per_py_20'] = df.ylls_due_to_measles_in_2020 / df.person_time_in_2020\n",
    "df['yll_diarrhea_per_py_20'] = df.ylls_due_to_diarrheal_diseases_in_2020 / df.person_time_in_2020\n",
    "df['yll_lri_per_py_20'] = df.ylls_due_to_lower_respiratory_infections_in_2020 / df.person_time_in_2020\n",
    "df['yll_per_py_20'] = df.yll_measles_per_py_20 + df.yll_diarrhea_per_py_20 + df.yll_lri_per_py_20\n",
    "\n",
    "df['yld_measles_per_py_20'] = df.ylds_due_to_measles / df.person_time_in_2020\n",
    "df['yld_diarrhea_per_py_20'] = df.ylds_due_to_diarrheal_diseases / df.person_time_in_2020\n",
    "df['yld_lri_per_py_20'] = df.ylds_due_to_lower_respiratory_infections / df.person_time_in_2020\n",
    "df['yld_per_py_20'] = df.yld_measles_per_py_20 + df.yld_diarrhea_per_py_20 + df.yld_lri_per_py_20\n",
    "\n",
    "df['daly_measles_per_py_20'] = df.yll_measles_per_py_20 + df.yld_measles_per_py_20\n",
    "df['daly_diarrhea_per_py_20'] = df.yll_diarrhea_per_py_20 + df.yld_diarrhea_per_py_20\n",
    "df['daly_lri_per_py_20'] = df.yll_lri_per_py_20 + df.yld_lri_per_py_20\n",
    "df['daly_per_py_20'] = df.daly_measles_per_py_20 + df.daly_diarrhea_per_py_20 + df.daly_lri_per_py_20"
   ]
  },
  {
   "cell_type": "code",
   "execution_count": 13,
   "metadata": {},
   "outputs": [],
   "source": [
    "df['yll_measles_per_py_21'] = df.ylls_due_to_measles_in_2021 / df.person_time_in_2021\n",
    "df['yll_diarrhea_per_py_21'] = df.ylls_due_to_diarrheal_diseases_in_2021 / df.person_time_in_2021\n",
    "df['yll_lri_per_py_21'] = df.ylls_due_to_lower_respiratory_infections_in_2021 / df.person_time_in_2021\n",
    "df['yll_per_py_21'] = df.yll_measles_per_py_21 + df.yll_diarrhea_per_py_21 + df.yll_lri_per_py_21\n",
    "\n",
    "df['yld_measles_per_py_21'] = df.ylds_due_to_measles / df.person_time_in_2021\n",
    "df['yld_diarrhea_per_py_21'] = df.ylds_due_to_diarrheal_diseases / df.person_time_in_2021\n",
    "df['yld_lri_per_py_21'] = df.ylds_due_to_lower_respiratory_infections / df.person_time_in_2021\n",
    "df['yld_per_py_21'] = df.yld_measles_per_py_21 + df.yld_diarrhea_per_py_21 + df.yld_lri_per_py_21\n",
    "\n",
    "df['daly_measles_per_py_21'] = df.yll_measles_per_py_21 + df.yld_measles_per_py_21\n",
    "df['daly_diarrhea_per_py_21'] = df.yll_diarrhea_per_py_21 + df.yld_diarrhea_per_py_21\n",
    "df['daly_lri_per_py_21'] = df.yll_lri_per_py_21 + df.yld_lri_per_py_21\n",
    "df['daly_per_py_21'] = df.daly_measles_per_py_21 + df.daly_diarrhea_per_py_21 + df.daly_lri_per_py_21"
   ]
  },
  {
   "cell_type": "code",
   "execution_count": 14,
   "metadata": {},
   "outputs": [],
   "source": [
    "df['yll_measles_per_py_22'] = df.ylls_due_to_measles_in_2022 / df.person_time_in_2022\n",
    "df['yll_diarrhea_per_py_22'] = df.ylls_due_to_diarrheal_diseases_in_2022 / df.person_time_in_2022\n",
    "df['yll_lri_per_py_22'] = df.ylls_due_to_lower_respiratory_infections_in_2022 / df.person_time_in_2022\n",
    "df['yll_per_py_22'] = df.yll_measles_per_py_22 + df.yll_diarrhea_per_py_22 + df.yll_lri_per_py_22\n",
    "\n",
    "df['yld_measles_per_py_22'] = df.ylds_due_to_measles / df.person_time_in_2022\n",
    "df['yld_diarrhea_per_py_22'] = df.ylds_due_to_diarrheal_diseases / df.person_time_in_2022\n",
    "df['yld_lri_per_py_22'] = df.ylds_due_to_lower_respiratory_infections / df.person_time_in_2022\n",
    "df['yld_per_py_22'] = df.yld_measles_per_py_22 + df.yld_diarrhea_per_py_22 + df.yld_lri_per_py_22\n",
    "\n",
    "df['daly_measles_per_py_22'] = df.yll_measles_per_py_22 + df.yld_measles_per_py_22\n",
    "df['daly_diarrhea_per_py_22'] = df.yll_diarrhea_per_py_22 + df.yld_diarrhea_per_py_22\n",
    "df['daly_lri_per_py_22'] = df.yll_lri_per_py_22 + df.yld_lri_per_py_22\n",
    "df['daly_per_py_22'] = df.daly_measles_per_py_22 + df.daly_diarrhea_per_py_22 + df.daly_lri_per_py_22"
   ]
  },
  {
   "cell_type": "code",
   "execution_count": 15,
   "metadata": {},
   "outputs": [],
   "source": [
    "df['yll_measles_per_py_23'] = df.ylls_due_to_measles_in_2023 / df.person_time_in_2023\n",
    "df['yll_diarrhea_per_py_23'] = df.ylls_due_to_diarrheal_diseases_in_2023 / df.person_time_in_2023\n",
    "df['yll_lri_per_py_23'] = df.ylls_due_to_lower_respiratory_infections_in_2023 / df.person_time_in_2023\n",
    "df['yll_per_py_23'] = df.yll_measles_per_py_23 + df.yll_diarrhea_per_py_23 + df.yll_lri_per_py_23\n",
    "\n",
    "df['yld_measles_per_py_23'] = df.ylds_due_to_measles / df.person_time_in_2023\n",
    "df['yld_diarrhea_per_py_23'] = df.ylds_due_to_diarrheal_diseases / df.person_time_in_2023\n",
    "df['yld_lri_per_py_23'] = df.ylds_due_to_lower_respiratory_infections / df.person_time_in_2023\n",
    "df['yld_per_py_23'] = df.yld_measles_per_py_23 + df.yld_diarrhea_per_py_23 + df.yld_lri_per_py_23\n",
    "\n",
    "df['daly_measles_per_py_23'] = df.yll_measles_per_py_23 + df.yld_measles_per_py_23\n",
    "df['daly_diarrhea_per_py_23'] = df.yll_diarrhea_per_py_23 + df.yld_diarrhea_per_py_23\n",
    "df['daly_lri_per_py_23'] = df.yll_lri_per_py_23 + df.yld_lri_per_py_23\n",
    "df['daly_per_py_23'] = df.daly_measles_per_py_23 + df.daly_diarrhea_per_py_23 + df.daly_lri_per_py_23"
   ]
  },
  {
   "cell_type": "code",
   "execution_count": 16,
   "metadata": {},
   "outputs": [
    {
     "name": "stdout",
     "output_type": "stream",
     "text": [
      "Overall DALY rate in 2017: 0.6142242881902246\n",
      "Rate of DALYs from measles in 2017: 0.05002904064975082\n",
      "Rate of DALYs from diarrheal diseases in 2017: 0.30284357478374935\n",
      "Rate of DALYs from lower respiratory infections in 2017: 0.2613516727567245\n"
     ]
    }
   ],
   "source": [
    "print(\"Overall DALY rate in 2017: \" + str(df.daly_per_py_17.mean()))\n",
    "print(\"Rate of DALYs from measles in 2017: \" + str(df.daly_measles_per_py_17.mean()))\n",
    "print(\"Rate of DALYs from diarrheal diseases in 2017: \" + str(df.daly_diarrhea_per_py_17.mean()))\n",
    "print(\"Rate of DALYs from lower respiratory infections in 2017: \" + str(df.daly_lri_per_py_17.mean()))"
   ]
  },
  {
   "cell_type": "code",
   "execution_count": 17,
   "metadata": {},
   "outputs": [
    {
     "name": "stdout",
     "output_type": "stream",
     "text": [
      "Overall DALY rate in 2018: 0.6067973707823854\n",
      "Rate of DALYs from measles in 2018: 0.046210877918776226\n",
      "Rate of DALYs from diarrheal diseases in 2018: 0.2967319142428607\n",
      "Rate of DALYs from lower respiratory infections in 2018: 0.2638545786207484\n"
     ]
    }
   ],
   "source": [
    "print(\"Overall DALY rate in 2018: \" + str(df.daly_per_py_18.mean()))\n",
    "print(\"Rate of DALYs from measles in 2018: \" + str(df.daly_measles_per_py_18.mean()))\n",
    "print(\"Rate of DALYs from diarrheal diseases in 2018: \" + str(df.daly_diarrhea_per_py_18.mean()))\n",
    "print(\"Rate of DALYs from lower respiratory infections in 2018: \" + str(df.daly_lri_per_py_18.mean()))"
   ]
  },
  {
   "cell_type": "code",
   "execution_count": 18,
   "metadata": {},
   "outputs": [
    {
     "name": "stdout",
     "output_type": "stream",
     "text": [
      "Overall DALY rate in 2019: 0.59902840856504\n",
      "Rate of DALYs from measles in 2019: 0.0455574579470416\n",
      "Rate of DALYs from diarrheal diseases in 2019: 0.2900438444376803\n",
      "Rate of DALYs from lower respiratory infections in 2019: 0.2634271061803181\n"
     ]
    }
   ],
   "source": [
    "print(\"Overall DALY rate in 2019: \" + str(df.daly_per_py_19.mean()))\n",
    "print(\"Rate of DALYs from measles in 2019: \" + str(df.daly_measles_per_py_19.mean()))\n",
    "print(\"Rate of DALYs from diarrheal diseases in 2019: \" + str(df.daly_diarrhea_per_py_19.mean()))\n",
    "print(\"Rate of DALYs from lower respiratory infections in 2019: \" + str(df.daly_lri_per_py_19.mean()))"
   ]
  },
  {
   "cell_type": "code",
   "execution_count": 19,
   "metadata": {},
   "outputs": [
    {
     "name": "stdout",
     "output_type": "stream",
     "text": [
      "Overall DALY rate in 2020: 0.6063520847113877\n",
      "Rate of DALYs from measles in 2020: 0.04292267813330072\n",
      "Rate of DALYs from diarrheal diseases in 2020: 0.29289895895438245\n",
      "Rate of DALYs from lower respiratory infections in 2020: 0.2705304476237045\n"
     ]
    }
   ],
   "source": [
    "print(\"Overall DALY rate in 2020: \" + str(df.daly_per_py_20.mean()))\n",
    "print(\"Rate of DALYs from measles in 2020: \" + str(df.daly_measles_per_py_20.mean()))\n",
    "print(\"Rate of DALYs from diarrheal diseases in 2020: \" + str(df.daly_diarrhea_per_py_20.mean()))\n",
    "print(\"Rate of DALYs from lower respiratory infections in 2020: \" + str(df.daly_lri_per_py_20.mean()))"
   ]
  },
  {
   "cell_type": "code",
   "execution_count": 20,
   "metadata": {},
   "outputs": [
    {
     "name": "stdout",
     "output_type": "stream",
     "text": [
      "Overall DALY rate in 2021: 0.6089699539587944\n",
      "Rate of DALYs from measles in 2021: 0.04424245355680008\n",
      "Rate of DALYs from diarrheal diseases in 2021: 0.29903158408639874\n",
      "Rate of DALYs from lower respiratory infections in 2021: 0.2656959163155955\n"
     ]
    }
   ],
   "source": [
    "print(\"Overall DALY rate in 2021: \" + str(df.daly_per_py_21.mean()))\n",
    "print(\"Rate of DALYs from measles in 2021: \" + str(df.daly_measles_per_py_21.mean()))\n",
    "print(\"Rate of DALYs from diarrheal diseases in 2021: \" + str(df.daly_diarrhea_per_py_21.mean()))\n",
    "print(\"Rate of DALYs from lower respiratory infections in 2021: \" + str(df.daly_lri_per_py_21.mean()))"
   ]
  },
  {
   "cell_type": "code",
   "execution_count": 21,
   "metadata": {},
   "outputs": [
    {
     "name": "stdout",
     "output_type": "stream",
     "text": [
      "Overall DALY rate in 2022: 0.5950000571420246\n",
      "Rate of DALYs from measles in 2022: 0.04044455238389725\n",
      "Rate of DALYs from diarrheal diseases in 2022: 0.2894682480775941\n",
      "Rate of DALYs from lower respiratory infections in 2022: 0.2650872566805334\n"
     ]
    }
   ],
   "source": [
    "print(\"Overall DALY rate in 2022: \" + str(df.daly_per_py_22.mean()))\n",
    "print(\"Rate of DALYs from measles in 2022: \" + str(df.daly_measles_per_py_22.mean()))\n",
    "print(\"Rate of DALYs from diarrheal diseases in 2022: \" + str(df.daly_diarrhea_per_py_22.mean()))\n",
    "print(\"Rate of DALYs from lower respiratory infections in 2022: \" + str(df.daly_lri_per_py_22.mean()))"
   ]
  },
  {
   "cell_type": "code",
   "execution_count": 22,
   "metadata": {},
   "outputs": [
    {
     "name": "stdout",
     "output_type": "stream",
     "text": [
      "Overall DALY rate in 2023: 0.5889507800221399\n",
      "Rate of DALYs from measles in 2023: 0.039347397301181745\n",
      "Rate of DALYs from diarrheal diseases in 2023: 0.28771420659949715\n",
      "Rate of DALYs from lower respiratory infections in 2023: 0.26188917612146095\n"
     ]
    }
   ],
   "source": [
    "print(\"Overall DALY rate in 2023: \" + str(df.daly_per_py_23.mean()))\n",
    "print(\"Rate of DALYs from measles in 2023: \" + str(df.daly_measles_per_py_23.mean()))\n",
    "print(\"Rate of DALYs from diarrheal diseases in 2023: \" + str(df.daly_diarrhea_per_py_23.mean()))\n",
    "print(\"Rate of DALYs from lower respiratory infections in 2023: \" + str(df.daly_lri_per_py_23.mean()))"
   ]
  },
  {
   "cell_type": "code",
   "execution_count": 23,
   "metadata": {},
   "outputs": [
    {
     "name": "stdout",
     "output_type": "stream",
     "text": [
      "[0.32  0.32  0.388 0.456 0.524 0.592 0.66 ]\n",
      "[1283172.12 1525432.71 2138494.79 2861839.16 3668853.03 4586333.58\n",
      " 5602350.94]\n"
     ]
    }
   ],
   "source": [
    "coverages = np.append(np.array([cov_base]), np.linspace(cov_base, cov_tar, 6))\n",
    "print(coverages)\n",
    "\n",
    "supplemented = np.array([df.supplemented_days_in_2017.mean(), df.supplemented_days_in_2018.mean(), df.supplemented_days_in_2019.mean(),\n",
    "                         df.supplemented_days_in_2020.mean(), df.supplemented_days_in_2021.mean(), df.supplemented_days_in_2022.mean(),\n",
    "                         df.supplemented_days_in_2023.mean()])\n",
    "\n",
    "print(supplemented)"
   ]
  },
  {
   "cell_type": "code",
   "execution_count": 24,
   "metadata": {},
   "outputs": [
    {
     "data": {
      "text/plain": [
       "13642353.922271999"
      ]
     },
     "execution_count": 24,
     "metadata": {},
     "output_type": "execute_result"
    }
   ],
   "source": [
    "unit_cost = 0.60 # UC Davis Paper\n",
    "\n",
    "doses = coverages * supplemented * 2\n",
    "total_intervention_cost = unit_cost * doses.sum()\n",
    "\n",
    "total_intervention_cost"
   ]
  },
  {
   "cell_type": "code",
   "execution_count": 25,
   "metadata": {
    "scrolled": true
   },
   "outputs": [],
   "source": [
    "# average_supplemented_days_per_individual = supplemented.sum() / df.total_population.mean()\n",
    "# years_supplemented = average_supplemented_days_per_individual / 365\n",
    "\n",
    "\n",
    "# print(df.total_population.mean(), df.total_population_tracked.mean())\n",
    "# print(average_supplemented_days_per_individual)\n",
    "# print(years_supplemented)"
   ]
  },
  {
   "cell_type": "code",
   "execution_count": null,
   "metadata": {},
   "outputs": [],
   "source": []
  },
  {
   "cell_type": "code",
   "execution_count": null,
   "metadata": {},
   "outputs": [],
   "source": []
  },
  {
   "cell_type": "code",
   "execution_count": null,
   "metadata": {},
   "outputs": [],
   "source": []
  },
  {
   "cell_type": "code",
   "execution_count": null,
   "metadata": {},
   "outputs": [],
   "source": []
  },
  {
   "cell_type": "code",
   "execution_count": null,
   "metadata": {},
   "outputs": [],
   "source": []
  },
  {
   "cell_type": "code",
   "execution_count": null,
   "metadata": {},
   "outputs": [],
   "source": []
  },
  {
   "cell_type": "markdown",
   "metadata": {},
   "source": [
    "## Baseline Nigeria"
   ]
  },
  {
   "cell_type": "code",
   "execution_count": 26,
   "metadata": {
    "scrolled": false
   },
   "outputs": [
    {
     "data": {
      "text/plain": [
       "(100, 150)"
      ]
     },
     "execution_count": 26,
     "metadata": {},
     "output_type": "execute_result"
    }
   ],
   "source": [
    "dfb = pd.read_hdf(fname)\n",
    "dfb = dfb.loc[dfb['vitamin_a_supplementation.target_coverage'] == cov_base]\n",
    "dfb.shape"
   ]
  },
  {
   "cell_type": "code",
   "execution_count": 27,
   "metadata": {},
   "outputs": [
    {
     "data": {
      "text/plain": [
       "array([0.32])"
      ]
     },
     "execution_count": 27,
     "metadata": {},
     "output_type": "execute_result"
    }
   ],
   "source": [
    "dfb['vitamin_a_supplementation.target_coverage'].unique()"
   ]
  },
  {
   "cell_type": "code",
   "execution_count": 28,
   "metadata": {
    "scrolled": true
   },
   "outputs": [
    {
     "data": {
      "text/plain": [
       "['total_population_untracked',\n",
       " 'total_population_tracked',\n",
       " 'total_population',\n",
       " 'death_due_to_measles_in_2017',\n",
       " 'death_due_to_diarrheal_diseases_in_2017',\n",
       " 'death_due_to_lower_respiratory_infections_in_2017',\n",
       " 'death_due_to_other_causes_in_2017',\n",
       " 'death_due_to_measles_in_2018',\n",
       " 'death_due_to_diarrheal_diseases_in_2018',\n",
       " 'death_due_to_lower_respiratory_infections_in_2018',\n",
       " 'death_due_to_other_causes_in_2018',\n",
       " 'death_due_to_measles_in_2019',\n",
       " 'death_due_to_diarrheal_diseases_in_2019',\n",
       " 'death_due_to_lower_respiratory_infections_in_2019',\n",
       " 'death_due_to_other_causes_in_2019',\n",
       " 'death_due_to_measles_in_2020',\n",
       " 'death_due_to_diarrheal_diseases_in_2020',\n",
       " 'death_due_to_lower_respiratory_infections_in_2020',\n",
       " 'death_due_to_other_causes_in_2020',\n",
       " 'death_due_to_measles_in_2021',\n",
       " 'death_due_to_diarrheal_diseases_in_2021',\n",
       " 'death_due_to_lower_respiratory_infections_in_2021',\n",
       " 'death_due_to_other_causes_in_2021',\n",
       " 'death_due_to_measles_in_2022',\n",
       " 'death_due_to_diarrheal_diseases_in_2022',\n",
       " 'death_due_to_lower_respiratory_infections_in_2022',\n",
       " 'death_due_to_other_causes_in_2022',\n",
       " 'death_due_to_measles_in_2023',\n",
       " 'death_due_to_diarrheal_diseases_in_2023',\n",
       " 'death_due_to_lower_respiratory_infections_in_2023',\n",
       " 'death_due_to_other_causes_in_2023',\n",
       " 'total_population_living',\n",
       " 'total_population_dead',\n",
       " 'vitamin_a_deficiency_cat1_exposed_in_2017_among_early_neonatal',\n",
       " 'vitamin_a_deficiency_cat2_exposed_in_2017_among_early_neonatal',\n",
       " 'vitamin_a_deficiency_cat1_exposed_in_2018_among_early_neonatal',\n",
       " 'vitamin_a_deficiency_cat2_exposed_in_2018_among_early_neonatal',\n",
       " 'vitamin_a_deficiency_cat1_exposed_in_2019_among_early_neonatal',\n",
       " 'vitamin_a_deficiency_cat2_exposed_in_2019_among_early_neonatal',\n",
       " 'vitamin_a_deficiency_cat1_exposed_in_2020_among_early_neonatal',\n",
       " 'vitamin_a_deficiency_cat2_exposed_in_2020_among_early_neonatal',\n",
       " 'vitamin_a_deficiency_cat1_exposed_in_2021_among_early_neonatal',\n",
       " 'vitamin_a_deficiency_cat2_exposed_in_2021_among_early_neonatal',\n",
       " 'vitamin_a_deficiency_cat1_exposed_in_2022_among_early_neonatal',\n",
       " 'vitamin_a_deficiency_cat2_exposed_in_2022_among_early_neonatal',\n",
       " 'vitamin_a_deficiency_cat1_exposed_in_2023_among_early_neonatal',\n",
       " 'vitamin_a_deficiency_cat2_exposed_in_2023_among_early_neonatal',\n",
       " 'vitamin_a_deficiency_cat1_exposed_in_2017_among_late_neonatal',\n",
       " 'vitamin_a_deficiency_cat2_exposed_in_2017_among_late_neonatal',\n",
       " 'vitamin_a_deficiency_cat1_exposed_in_2018_among_late_neonatal',\n",
       " 'vitamin_a_deficiency_cat2_exposed_in_2018_among_late_neonatal',\n",
       " 'vitamin_a_deficiency_cat1_exposed_in_2019_among_late_neonatal',\n",
       " 'vitamin_a_deficiency_cat2_exposed_in_2019_among_late_neonatal',\n",
       " 'vitamin_a_deficiency_cat1_exposed_in_2020_among_late_neonatal',\n",
       " 'vitamin_a_deficiency_cat2_exposed_in_2020_among_late_neonatal',\n",
       " 'vitamin_a_deficiency_cat1_exposed_in_2021_among_late_neonatal',\n",
       " 'vitamin_a_deficiency_cat2_exposed_in_2021_among_late_neonatal',\n",
       " 'vitamin_a_deficiency_cat1_exposed_in_2022_among_late_neonatal',\n",
       " 'vitamin_a_deficiency_cat2_exposed_in_2022_among_late_neonatal',\n",
       " 'vitamin_a_deficiency_cat1_exposed_in_2023_among_late_neonatal',\n",
       " 'vitamin_a_deficiency_cat2_exposed_in_2023_among_late_neonatal',\n",
       " 'vitamin_a_deficiency_cat1_exposed_in_2017_among_post_neonatal',\n",
       " 'vitamin_a_deficiency_cat2_exposed_in_2017_among_post_neonatal',\n",
       " 'vitamin_a_deficiency_cat1_exposed_in_2018_among_post_neonatal',\n",
       " 'vitamin_a_deficiency_cat2_exposed_in_2018_among_post_neonatal',\n",
       " 'vitamin_a_deficiency_cat1_exposed_in_2019_among_post_neonatal',\n",
       " 'vitamin_a_deficiency_cat2_exposed_in_2019_among_post_neonatal',\n",
       " 'vitamin_a_deficiency_cat1_exposed_in_2020_among_post_neonatal',\n",
       " 'vitamin_a_deficiency_cat2_exposed_in_2020_among_post_neonatal',\n",
       " 'vitamin_a_deficiency_cat1_exposed_in_2021_among_post_neonatal',\n",
       " 'vitamin_a_deficiency_cat2_exposed_in_2021_among_post_neonatal',\n",
       " 'vitamin_a_deficiency_cat1_exposed_in_2022_among_post_neonatal',\n",
       " 'vitamin_a_deficiency_cat2_exposed_in_2022_among_post_neonatal',\n",
       " 'vitamin_a_deficiency_cat1_exposed_in_2023_among_post_neonatal',\n",
       " 'vitamin_a_deficiency_cat2_exposed_in_2023_among_post_neonatal',\n",
       " 'vitamin_a_deficiency_cat1_exposed_in_2017_among_1_to_4',\n",
       " 'vitamin_a_deficiency_cat2_exposed_in_2017_among_1_to_4',\n",
       " 'vitamin_a_deficiency_cat1_exposed_in_2018_among_1_to_4',\n",
       " 'vitamin_a_deficiency_cat2_exposed_in_2018_among_1_to_4',\n",
       " 'vitamin_a_deficiency_cat1_exposed_in_2019_among_1_to_4',\n",
       " 'vitamin_a_deficiency_cat2_exposed_in_2019_among_1_to_4',\n",
       " 'vitamin_a_deficiency_cat1_exposed_in_2020_among_1_to_4',\n",
       " 'vitamin_a_deficiency_cat2_exposed_in_2020_among_1_to_4',\n",
       " 'vitamin_a_deficiency_cat1_exposed_in_2021_among_1_to_4',\n",
       " 'vitamin_a_deficiency_cat2_exposed_in_2021_among_1_to_4',\n",
       " 'vitamin_a_deficiency_cat1_exposed_in_2022_among_1_to_4',\n",
       " 'vitamin_a_deficiency_cat2_exposed_in_2022_among_1_to_4',\n",
       " 'vitamin_a_deficiency_cat1_exposed_in_2023_among_1_to_4',\n",
       " 'vitamin_a_deficiency_cat2_exposed_in_2023_among_1_to_4',\n",
       " 'supplemented_days_in_2017',\n",
       " 'supplemented_days_in_2018',\n",
       " 'supplemented_days_in_2019',\n",
       " 'supplemented_days_in_2020',\n",
       " 'supplemented_days_in_2021',\n",
       " 'supplemented_days_in_2022',\n",
       " 'supplemented_days_in_2023',\n",
       " 'measles_prevalent_cases_at_sim_end',\n",
       " 'diarrheal_diseases_prevalent_cases_at_sim_end',\n",
       " 'lower_respiratory_infections_prevalent_cases_at_sim_end',\n",
       " 'susceptible_to_measles_event_count',\n",
       " 'measles_event_count',\n",
       " 'recovered_from_measles_event_count',\n",
       " 'susceptible_to_diarrheal_diseases_event_count',\n",
       " 'diarrheal_diseases_event_count',\n",
       " 'susceptible_to_lower_respiratory_infections_event_count',\n",
       " 'lower_respiratory_infections_event_count',\n",
       " 'input_draw',\n",
       " 'random_seed',\n",
       " 'person_time_in_2017',\n",
       " 'person_time_in_2018',\n",
       " 'person_time_in_2019',\n",
       " 'person_time_in_2020',\n",
       " 'person_time_in_2021',\n",
       " 'person_time_in_2022',\n",
       " 'person_time_in_2023',\n",
       " 'ylls_due_to_measles_in_2017',\n",
       " 'ylls_due_to_diarrheal_diseases_in_2017',\n",
       " 'ylls_due_to_lower_respiratory_infections_in_2017',\n",
       " 'ylls_due_to_other_causes_in_2017',\n",
       " 'ylls_due_to_measles_in_2018',\n",
       " 'ylls_due_to_diarrheal_diseases_in_2018',\n",
       " 'ylls_due_to_lower_respiratory_infections_in_2018',\n",
       " 'ylls_due_to_other_causes_in_2018',\n",
       " 'ylls_due_to_measles_in_2019',\n",
       " 'ylls_due_to_diarrheal_diseases_in_2019',\n",
       " 'ylls_due_to_lower_respiratory_infections_in_2019',\n",
       " 'ylls_due_to_other_causes_in_2019',\n",
       " 'ylls_due_to_measles_in_2020',\n",
       " 'ylls_due_to_diarrheal_diseases_in_2020',\n",
       " 'ylls_due_to_lower_respiratory_infections_in_2020',\n",
       " 'ylls_due_to_other_causes_in_2020',\n",
       " 'ylls_due_to_measles_in_2021',\n",
       " 'ylls_due_to_diarrheal_diseases_in_2021',\n",
       " 'ylls_due_to_lower_respiratory_infections_in_2021',\n",
       " 'ylls_due_to_other_causes_in_2021',\n",
       " 'ylls_due_to_measles_in_2022',\n",
       " 'ylls_due_to_diarrheal_diseases_in_2022',\n",
       " 'ylls_due_to_lower_respiratory_infections_in_2022',\n",
       " 'ylls_due_to_other_causes_in_2022',\n",
       " 'ylls_due_to_measles_in_2023',\n",
       " 'ylls_due_to_diarrheal_diseases_in_2023',\n",
       " 'ylls_due_to_lower_respiratory_infections_in_2023',\n",
       " 'ylls_due_to_other_causes_in_2023',\n",
       " 'years_of_life_lost',\n",
       " 'years_lived_with_disability',\n",
       " 'ylds_due_to_measles',\n",
       " 'ylds_due_to_diarrheal_diseases',\n",
       " 'ylds_due_to_lower_respiratory_infections',\n",
       " 'simulation_run_time',\n",
       " 'vitamin_a_supplementation.target_coverage']"
      ]
     },
     "execution_count": 28,
     "metadata": {},
     "output_type": "execute_result"
    }
   ],
   "source": [
    "dfb = dfb.iloc[:, :]\n",
    "list(dfb.columns)"
   ]
  },
  {
   "cell_type": "code",
   "execution_count": 29,
   "metadata": {},
   "outputs": [
    {
     "name": "stdout",
     "output_type": "stream",
     "text": [
      "Exposure in 2017 is 0.23282366058125617\n",
      "Exposure in 2018 is 0.23210536826255826\n",
      "Exposure in 2019 is 0.23092344780009658\n",
      "Exposure in 2020 is 0.2300342015634893\n",
      "Exposure in 2021 is 0.22938644277678552\n",
      "Exposure in 2022 is 0.22948790383787596\n",
      "Exposure in 2023 is 0.22919559087755026\n"
     ]
    }
   ],
   "source": [
    "dfb['exposure_2017'] = dfb.vitamin_a_deficiency_cat1_exposed_in_2017_among_1_to_4/(dfb.vitamin_a_deficiency_cat1_exposed_in_2017_among_1_to_4 + dfb.vitamin_a_deficiency_cat2_exposed_in_2017_among_1_to_4)\n",
    "print(\"Exposure in 2017 is \" + str(dfb.exposure_2017.mean()))\n",
    "dfb['exposure_2018'] = dfb.vitamin_a_deficiency_cat1_exposed_in_2018_among_1_to_4/(dfb.vitamin_a_deficiency_cat1_exposed_in_2018_among_1_to_4 + dfb.vitamin_a_deficiency_cat2_exposed_in_2018_among_1_to_4)\n",
    "print(\"Exposure in 2018 is \" + str(dfb.exposure_2018.mean()))\n",
    "dfb['exposure_2019'] = dfb.vitamin_a_deficiency_cat1_exposed_in_2019_among_1_to_4/(dfb.vitamin_a_deficiency_cat1_exposed_in_2019_among_1_to_4 + dfb.vitamin_a_deficiency_cat2_exposed_in_2019_among_1_to_4)\n",
    "print(\"Exposure in 2019 is \" + str(dfb.exposure_2019.mean()))\n",
    "dfb['exposure_2020'] = dfb.vitamin_a_deficiency_cat1_exposed_in_2020_among_1_to_4/(dfb.vitamin_a_deficiency_cat1_exposed_in_2020_among_1_to_4 + dfb.vitamin_a_deficiency_cat2_exposed_in_2020_among_1_to_4)\n",
    "print(\"Exposure in 2020 is \" + str(dfb.exposure_2020.mean()))\n",
    "dfb['exposure_2021'] = dfb.vitamin_a_deficiency_cat1_exposed_in_2021_among_1_to_4/(dfb.vitamin_a_deficiency_cat1_exposed_in_2021_among_1_to_4 + dfb.vitamin_a_deficiency_cat2_exposed_in_2021_among_1_to_4)\n",
    "print(\"Exposure in 2021 is \" + str(dfb.exposure_2021.mean()))\n",
    "dfb['exposure_2022'] = dfb.vitamin_a_deficiency_cat1_exposed_in_2022_among_1_to_4/(dfb.vitamin_a_deficiency_cat1_exposed_in_2022_among_1_to_4 + dfb.vitamin_a_deficiency_cat2_exposed_in_2022_among_1_to_4)\n",
    "print(\"Exposure in 2022 is \" + str(dfb.exposure_2022.mean()))\n",
    "dfb['exposure_2023'] = dfb.vitamin_a_deficiency_cat1_exposed_in_2023_among_1_to_4/(dfb.vitamin_a_deficiency_cat1_exposed_in_2023_among_1_to_4 + dfb.vitamin_a_deficiency_cat2_exposed_in_2023_among_1_to_4)\n",
    "print(\"Exposure in 2023 is \" + str(dfb.exposure_2023.mean()))\n",
    "exposure_baseline = np.array([dfb.exposure_2017.mean(), dfb.exposure_2018.mean(), dfb.exposure_2019.mean(), dfb.exposure_2020.mean(), \n",
    "                    dfb.exposure_2021.mean(), dfb.exposure_2022.mean(), dfb.exposure_2023.mean()])"
   ]
  },
  {
   "cell_type": "code",
   "execution_count": 30,
   "metadata": {},
   "outputs": [],
   "source": [
    "py_17 = dfb.person_time_in_2017.mean()\n",
    "py_18 = dfb.person_time_in_2018.mean()\n",
    "py_19 = dfb.person_time_in_2019.mean()\n",
    "py_20 = dfb.person_time_in_2020.mean()\n",
    "py_21 = dfb.person_time_in_2021.mean()\n",
    "py_22 = dfb.person_time_in_2022.mean()\n",
    "py_23 = dfb.person_time_in_2023.mean()"
   ]
  },
  {
   "cell_type": "code",
   "execution_count": 31,
   "metadata": {},
   "outputs": [],
   "source": [
    "dfb['yll_measles_per_py_17'] = dfb.ylls_due_to_measles_in_2017 / dfb.person_time_in_2017\n",
    "dfb['yll_diarrhea_per_py_17'] = dfb.ylls_due_to_diarrheal_diseases_in_2017 / dfb.person_time_in_2017\n",
    "dfb['yll_lri_per_py_17'] = dfb.ylls_due_to_lower_respiratory_infections_in_2017 / dfb.person_time_in_2017\n",
    "dfb['yll_per_py_17'] = dfb.yll_measles_per_py_17 + dfb.yll_diarrhea_per_py_17 + dfb.yll_lri_per_py_17\n",
    "\n",
    "dfb['yld_measles_per_py_17'] = dfb.ylds_due_to_measles / dfb.person_time_in_2017\n",
    "dfb['yld_diarrhea_per_py_17'] = dfb.ylds_due_to_diarrheal_diseases / dfb.person_time_in_2017\n",
    "dfb['yld_lri_per_py_17'] = dfb.ylds_due_to_lower_respiratory_infections / dfb.person_time_in_2017\n",
    "dfb['yld_per_py_17'] = dfb.yld_measles_per_py_17 + dfb.yld_diarrhea_per_py_17 + dfb.yld_lri_per_py_17\n",
    "\n",
    "dfb['daly_measles_per_py_17'] = dfb.yll_measles_per_py_17 + dfb.yld_measles_per_py_17\n",
    "dfb['daly_diarrhea_per_py_17'] = dfb.yll_diarrhea_per_py_17 + dfb.yld_diarrhea_per_py_17\n",
    "dfb['daly_lri_per_py_17'] = dfb.yll_lri_per_py_17 + dfb.yld_lri_per_py_17\n",
    "dfb['daly_per_py_17'] = dfb.daly_measles_per_py_17 + dfb.daly_diarrhea_per_py_17 + dfb.daly_lri_per_py_17"
   ]
  },
  {
   "cell_type": "code",
   "execution_count": 32,
   "metadata": {},
   "outputs": [],
   "source": [
    "dfb['yll_measles_per_py_18'] = dfb.ylls_due_to_measles_in_2018 / dfb.person_time_in_2018\n",
    "dfb['yll_diarrhea_per_py_18'] = dfb.ylls_due_to_diarrheal_diseases_in_2018 / dfb.person_time_in_2018\n",
    "dfb['yll_lri_per_py_18'] = dfb.ylls_due_to_lower_respiratory_infections_in_2018 / dfb.person_time_in_2018\n",
    "dfb['yll_per_py_18'] = dfb.yll_measles_per_py_18 + dfb.yll_diarrhea_per_py_18 + dfb.yll_lri_per_py_18\n",
    "\n",
    "dfb['yld_measles_per_py_18'] = dfb.ylds_due_to_measles / dfb.person_time_in_2018\n",
    "dfb['yld_diarrhea_per_py_18'] = dfb.ylds_due_to_diarrheal_diseases / dfb.person_time_in_2018\n",
    "dfb['yld_lri_per_py_18'] = dfb.ylds_due_to_lower_respiratory_infections / dfb.person_time_in_2018\n",
    "dfb['yld_per_py_18'] = dfb.yld_measles_per_py_18 + dfb.yld_diarrhea_per_py_18 + dfb.yld_lri_per_py_18\n",
    "\n",
    "dfb['daly_measles_per_py_18'] = dfb.yll_measles_per_py_18 + dfb.yld_measles_per_py_18\n",
    "dfb['daly_diarrhea_per_py_18'] = dfb.yll_diarrhea_per_py_18 + dfb.yld_diarrhea_per_py_18\n",
    "dfb['daly_lri_per_py_18'] = dfb.yll_lri_per_py_18 + dfb.yld_lri_per_py_18\n",
    "dfb['daly_per_py_18'] = dfb.daly_measles_per_py_18 + dfb.daly_diarrhea_per_py_18 + dfb.daly_lri_per_py_18"
   ]
  },
  {
   "cell_type": "code",
   "execution_count": 33,
   "metadata": {},
   "outputs": [],
   "source": [
    "dfb['yll_measles_per_py_19'] = dfb.ylls_due_to_measles_in_2019 / dfb.person_time_in_2019\n",
    "dfb['yll_diarrhea_per_py_19'] = dfb.ylls_due_to_diarrheal_diseases_in_2019 / dfb.person_time_in_2019\n",
    "dfb['yll_lri_per_py_19'] = dfb.ylls_due_to_lower_respiratory_infections_in_2019 / dfb.person_time_in_2019\n",
    "dfb['yll_per_py_19'] = dfb.yll_measles_per_py_19 + dfb.yll_diarrhea_per_py_19 + dfb.yll_lri_per_py_19\n",
    "\n",
    "dfb['yld_measles_per_py_19'] = dfb.ylds_due_to_measles / dfb.person_time_in_2019\n",
    "dfb['yld_diarrhea_per_py_19'] = dfb.ylds_due_to_diarrheal_diseases / dfb.person_time_in_2019\n",
    "dfb['yld_lri_per_py_19'] = dfb.ylds_due_to_lower_respiratory_infections / dfb.person_time_in_2019\n",
    "dfb['yld_per_py_19'] = dfb.yld_measles_per_py_19 + dfb.yld_diarrhea_per_py_19 + dfb.yld_lri_per_py_19\n",
    "\n",
    "dfb['daly_measles_per_py_19'] = dfb.yll_measles_per_py_19 + dfb.yld_measles_per_py_19\n",
    "dfb['daly_diarrhea_per_py_19'] = dfb.yll_diarrhea_per_py_19 + dfb.yld_diarrhea_per_py_19\n",
    "dfb['daly_lri_per_py_19'] = dfb.yll_lri_per_py_19 + dfb.yld_lri_per_py_19\n",
    "dfb['daly_per_py_19'] = dfb.daly_measles_per_py_19 + dfb.daly_diarrhea_per_py_19 + dfb.daly_lri_per_py_19"
   ]
  },
  {
   "cell_type": "code",
   "execution_count": 34,
   "metadata": {},
   "outputs": [],
   "source": [
    "dfb['yll_measles_per_py_20'] = dfb.ylls_due_to_measles_in_2020 / dfb.person_time_in_2020\n",
    "dfb['yll_diarrhea_per_py_20'] = dfb.ylls_due_to_diarrheal_diseases_in_2020 / dfb.person_time_in_2020\n",
    "dfb['yll_lri_per_py_20'] = dfb.ylls_due_to_lower_respiratory_infections_in_2020 / dfb.person_time_in_2020\n",
    "dfb['yll_per_py_20'] = dfb.yll_measles_per_py_20 + dfb.yll_diarrhea_per_py_20 + dfb.yll_lri_per_py_20\n",
    "\n",
    "dfb['yld_measles_per_py_20'] = dfb.ylds_due_to_measles / dfb.person_time_in_2020\n",
    "dfb['yld_diarrhea_per_py_20'] = dfb.ylds_due_to_diarrheal_diseases / dfb.person_time_in_2020\n",
    "dfb['yld_lri_per_py_20'] = dfb.ylds_due_to_lower_respiratory_infections / dfb.person_time_in_2020\n",
    "dfb['yld_per_py_20'] = dfb.yld_measles_per_py_20 + dfb.yld_diarrhea_per_py_20 + dfb.yld_lri_per_py_20\n",
    "\n",
    "dfb['daly_measles_per_py_20'] = dfb.yll_measles_per_py_20 + dfb.yld_measles_per_py_20\n",
    "dfb['daly_diarrhea_per_py_20'] = dfb.yll_diarrhea_per_py_20 + dfb.yld_diarrhea_per_py_20\n",
    "dfb['daly_lri_per_py_20'] = dfb.yll_lri_per_py_20 + dfb.yld_lri_per_py_20\n",
    "dfb['daly_per_py_20'] = dfb.daly_measles_per_py_20 + dfb.daly_diarrhea_per_py_20 + dfb.daly_lri_per_py_20"
   ]
  },
  {
   "cell_type": "code",
   "execution_count": 35,
   "metadata": {},
   "outputs": [],
   "source": [
    "dfb['yll_measles_per_py_21'] = dfb.ylls_due_to_measles_in_2021 / dfb.person_time_in_2021\n",
    "dfb['yll_diarrhea_per_py_21'] = dfb.ylls_due_to_diarrheal_diseases_in_2021 / dfb.person_time_in_2021\n",
    "dfb['yll_lri_per_py_21'] = dfb.ylls_due_to_lower_respiratory_infections_in_2021 / dfb.person_time_in_2021\n",
    "dfb['yll_per_py_21'] = dfb.yll_measles_per_py_21 + dfb.yll_diarrhea_per_py_21 + dfb.yll_lri_per_py_21\n",
    "\n",
    "dfb['yld_measles_per_py_21'] = dfb.ylds_due_to_measles / dfb.person_time_in_2021\n",
    "dfb['yld_diarrhea_per_py_21'] = dfb.ylds_due_to_diarrheal_diseases / dfb.person_time_in_2021\n",
    "dfb['yld_lri_per_py_21'] = dfb.ylds_due_to_lower_respiratory_infections / dfb.person_time_in_2021\n",
    "dfb['yld_per_py_21'] = dfb.yld_measles_per_py_21 + dfb.yld_diarrhea_per_py_21 + dfb.yld_lri_per_py_21\n",
    "\n",
    "dfb['daly_measles_per_py_21'] = dfb.yll_measles_per_py_21 + dfb.yld_measles_per_py_21\n",
    "dfb['daly_diarrhea_per_py_21'] = dfb.yll_diarrhea_per_py_21 + dfb.yld_diarrhea_per_py_21\n",
    "dfb['daly_lri_per_py_21'] = dfb.yll_lri_per_py_21 + dfb.yld_lri_per_py_21\n",
    "dfb['daly_per_py_21'] = dfb.daly_measles_per_py_21 + dfb.daly_diarrhea_per_py_21 + dfb.daly_lri_per_py_21"
   ]
  },
  {
   "cell_type": "code",
   "execution_count": 36,
   "metadata": {},
   "outputs": [],
   "source": [
    "dfb['yll_measles_per_py_22'] = dfb.ylls_due_to_measles_in_2022 / dfb.person_time_in_2022\n",
    "dfb['yll_diarrhea_per_py_22'] = dfb.ylls_due_to_diarrheal_diseases_in_2022 / dfb.person_time_in_2022\n",
    "dfb['yll_lri_per_py_22'] = dfb.ylls_due_to_lower_respiratory_infections_in_2022 / dfb.person_time_in_2022\n",
    "dfb['yll_per_py_22'] = dfb.yll_measles_per_py_22 + dfb.yll_diarrhea_per_py_22 + dfb.yll_lri_per_py_22\n",
    "\n",
    "dfb['yld_measles_per_py_22'] = dfb.ylds_due_to_measles / dfb.person_time_in_2022\n",
    "dfb['yld_diarrhea_per_py_22'] = dfb.ylds_due_to_diarrheal_diseases / dfb.person_time_in_2022\n",
    "dfb['yld_lri_per_py_22'] = dfb.ylds_due_to_lower_respiratory_infections / dfb.person_time_in_2022\n",
    "dfb['yld_per_py_22'] = dfb.yld_measles_per_py_22 + dfb.yld_diarrhea_per_py_22 + dfb.yld_lri_per_py_22\n",
    "\n",
    "dfb['daly_measles_per_py_22'] = dfb.yll_measles_per_py_22 + dfb.yld_measles_per_py_22\n",
    "dfb['daly_diarrhea_per_py_22'] = dfb.yll_diarrhea_per_py_22 + dfb.yld_diarrhea_per_py_22\n",
    "dfb['daly_lri_per_py_22'] = dfb.yll_lri_per_py_22 + dfb.yld_lri_per_py_22\n",
    "dfb['daly_per_py_22'] = dfb.daly_measles_per_py_22 + dfb.daly_diarrhea_per_py_22 + dfb.daly_lri_per_py_22"
   ]
  },
  {
   "cell_type": "code",
   "execution_count": 37,
   "metadata": {},
   "outputs": [],
   "source": [
    "dfb['yll_measles_per_py_23'] = dfb.ylls_due_to_measles_in_2023 / dfb.person_time_in_2023\n",
    "dfb['yll_diarrhea_per_py_23'] = dfb.ylls_due_to_diarrheal_diseases_in_2023 / dfb.person_time_in_2023\n",
    "dfb['yll_lri_per_py_23'] = dfb.ylls_due_to_lower_respiratory_infections_in_2023 / dfb.person_time_in_2023\n",
    "dfb['yll_per_py_23'] = dfb.yll_measles_per_py_23 + dfb.yll_diarrhea_per_py_23 + dfb.yll_lri_per_py_23\n",
    "\n",
    "dfb['yld_measles_per_py_23'] = dfb.ylds_due_to_measles / dfb.person_time_in_2023\n",
    "dfb['yld_diarrhea_per_py_23'] = dfb.ylds_due_to_diarrheal_diseases / dfb.person_time_in_2023\n",
    "dfb['yld_lri_per_py_23'] = dfb.ylds_due_to_lower_respiratory_infections / dfb.person_time_in_2023\n",
    "dfb['yld_per_py_23'] = dfb.yld_measles_per_py_23 + dfb.yld_diarrhea_per_py_23 + dfb.yld_lri_per_py_23\n",
    "\n",
    "dfb['daly_measles_per_py_23'] = dfb.yll_measles_per_py_23 + dfb.yld_measles_per_py_23\n",
    "dfb['daly_diarrhea_per_py_23'] = dfb.yll_diarrhea_per_py_23 + dfb.yld_diarrhea_per_py_23\n",
    "dfb['daly_lri_per_py_23'] = dfb.yll_lri_per_py_23 + dfb.yld_lri_per_py_23\n",
    "dfb['daly_per_py_23'] = dfb.daly_measles_per_py_23 + dfb.daly_diarrhea_per_py_23 + dfb.daly_lri_per_py_23"
   ]
  },
  {
   "cell_type": "code",
   "execution_count": 38,
   "metadata": {},
   "outputs": [
    {
     "name": "stdout",
     "output_type": "stream",
     "text": [
      "Overall DALY rate in 2017: 0.6145214650085868\n",
      "Rate of DALYs from measles in 2017: 0.05003958739128324\n",
      "Rate of DALYs from diarrheal diseases in 2017: 0.3031274327791029\n",
      "Rate of DALYs from lower respiratory infections in 2017: 0.26135444483820075\n"
     ]
    }
   ],
   "source": [
    "print(\"Overall DALY rate in 2017: \" + str(dfb.daly_per_py_17.mean()))\n",
    "print(\"Rate of DALYs from measles in 2017: \" + str(dfb.daly_measles_per_py_17.mean()))\n",
    "print(\"Rate of DALYs from diarrheal diseases in 2017: \" + str(dfb.daly_diarrhea_per_py_17.mean()))\n",
    "print(\"Rate of DALYs from lower respiratory infections in 2017: \" + str(dfb.daly_lri_per_py_17.mean()))"
   ]
  },
  {
   "cell_type": "code",
   "execution_count": 39,
   "metadata": {},
   "outputs": [
    {
     "name": "stdout",
     "output_type": "stream",
     "text": [
      "Overall DALY rate in 2018: 0.6070900377723089\n",
      "Rate of DALYs from measles in 2018: 0.04622126711306027\n",
      "Rate of DALYs from diarrheal diseases in 2018: 0.2970114376430002\n",
      "Rate of DALYs from lower respiratory infections in 2018: 0.26385733301624836\n"
     ]
    }
   ],
   "source": [
    "print(\"Overall DALY rate in 2018: \" + str(dfb.daly_per_py_18.mean()))\n",
    "print(\"Rate of DALYs from measles in 2018: \" + str(dfb.daly_measles_per_py_18.mean()))\n",
    "print(\"Rate of DALYs from diarrheal diseases in 2018: \" + str(dfb.daly_diarrhea_per_py_18.mean()))\n",
    "print(\"Rate of DALYs from lower respiratory infections in 2018: \" + str(dfb.daly_lri_per_py_18.mean()))"
   ]
  },
  {
   "cell_type": "code",
   "execution_count": 40,
   "metadata": {},
   "outputs": [
    {
     "name": "stdout",
     "output_type": "stream",
     "text": [
      "Overall DALY rate in 2019: 0.6016518056608082\n",
      "Rate of DALYs from measles in 2019: 0.045981928808390714\n",
      "Rate of DALYs from diarrheal diseases in 2019: 0.2916524523209675\n",
      "Rate of DALYs from lower respiratory infections in 2019: 0.2640174245314501\n"
     ]
    }
   ],
   "source": [
    "print(\"Overall DALY rate in 2019: \" + str(dfb.daly_per_py_19.mean()))\n",
    "print(\"Rate of DALYs from measles in 2019: \" + str(dfb.daly_measles_per_py_19.mean()))\n",
    "print(\"Rate of DALYs from diarrheal diseases in 2019: \" + str(dfb.daly_diarrhea_per_py_19.mean()))\n",
    "print(\"Rate of DALYs from lower respiratory infections in 2019: \" + str(dfb.daly_lri_per_py_19.mean()))"
   ]
  },
  {
   "cell_type": "code",
   "execution_count": 41,
   "metadata": {},
   "outputs": [
    {
     "name": "stdout",
     "output_type": "stream",
     "text": [
      "Overall DALY rate in 2020: 0.6110870559059324\n",
      "Rate of DALYs from measles in 2020: 0.04342417160670589\n",
      "Rate of DALYs from diarrheal diseases in 2020: 0.2958883594516076\n",
      "Rate of DALYs from lower respiratory infections in 2020: 0.27177452484761877\n"
     ]
    }
   ],
   "source": [
    "print(\"Overall DALY rate in 2020: \" + str(dfb.daly_per_py_20.mean()))\n",
    "print(\"Rate of DALYs from measles in 2020: \" + str(dfb.daly_measles_per_py_20.mean()))\n",
    "print(\"Rate of DALYs from diarrheal diseases in 2020: \" + str(dfb.daly_diarrhea_per_py_20.mean()))\n",
    "print(\"Rate of DALYs from lower respiratory infections in 2020: \" + str(dfb.daly_lri_per_py_20.mean()))"
   ]
  },
  {
   "cell_type": "code",
   "execution_count": 42,
   "metadata": {},
   "outputs": [
    {
     "name": "stdout",
     "output_type": "stream",
     "text": [
      "Overall DALY rate in 2021: 0.6156518828678424\n",
      "Rate of DALYs from measles in 2021: 0.04499644875213485\n",
      "Rate of DALYs from diarrheal diseases in 2021: 0.30418954593982617\n",
      "Rate of DALYs from lower respiratory infections in 2021: 0.2664658881758814\n"
     ]
    }
   ],
   "source": [
    "print(\"Overall DALY rate in 2021: \" + str(dfb.daly_per_py_21.mean()))\n",
    "print(\"Rate of DALYs from measles in 2021: \" + str(dfb.daly_measles_per_py_21.mean()))\n",
    "print(\"Rate of DALYs from diarrheal diseases in 2021: \" + str(dfb.daly_diarrhea_per_py_21.mean()))\n",
    "print(\"Rate of DALYs from lower respiratory infections in 2021: \" + str(dfb.daly_lri_per_py_21.mean()))"
   ]
  },
  {
   "cell_type": "code",
   "execution_count": 43,
   "metadata": {},
   "outputs": [
    {
     "name": "stdout",
     "output_type": "stream",
     "text": [
      "Overall DALY rate in 2022: 0.6030089623244056\n",
      "Rate of DALYs from measles in 2022: 0.041513212954732\n",
      "Rate of DALYs from diarrheal diseases in 2022: 0.2952062695526688\n",
      "Rate of DALYs from lower respiratory infections in 2022: 0.2662894798170048\n"
     ]
    }
   ],
   "source": [
    "print(\"Overall DALY rate in 2022: \" + str(dfb.daly_per_py_22.mean()))\n",
    "print(\"Rate of DALYs from measles in 2022: \" + str(dfb.daly_measles_per_py_22.mean()))\n",
    "print(\"Rate of DALYs from diarrheal diseases in 2022: \" + str(dfb.daly_diarrhea_per_py_22.mean()))\n",
    "print(\"Rate of DALYs from lower respiratory infections in 2022: \" + str(dfb.daly_lri_per_py_22.mean()))"
   ]
  },
  {
   "cell_type": "code",
   "execution_count": 44,
   "metadata": {},
   "outputs": [
    {
     "name": "stdout",
     "output_type": "stream",
     "text": [
      "Overall DALY rate in 2023: 0.5999801046984731\n",
      "Rate of DALYs from measles in 2023: 0.04141700835612935\n",
      "Rate of DALYs from diarrheal diseases in 2023: 0.2944710456055791\n",
      "Rate of DALYs from lower respiratory infections in 2023: 0.2640920507367646\n"
     ]
    }
   ],
   "source": [
    "print(\"Overall DALY rate in 2023: \" + str(dfb.daly_per_py_23.mean()))\n",
    "print(\"Rate of DALYs from measles in 2023: \" + str(dfb.daly_measles_per_py_23.mean()))\n",
    "print(\"Rate of DALYs from diarrheal diseases in 2023: \" + str(dfb.daly_diarrhea_per_py_23.mean()))\n",
    "print(\"Rate of DALYs from lower respiratory infections in 2023: \" + str(dfb.daly_lri_per_py_23.mean()))"
   ]
  },
  {
   "cell_type": "code",
   "execution_count": 45,
   "metadata": {
    "scrolled": true
   },
   "outputs": [
    {
     "name": "stdout",
     "output_type": "stream",
     "text": [
      "DALYs averted per 100,000 person-years in 2017: 29.717681836227694\n",
      "DALYs averted per 100,000 person-years in 2018: 29.26669899234735\n",
      "DALYs averted per 100,000 person-years in 2019: 262.33970957681987\n",
      "DALYs averted per 100,000 person-years in 2020: 473.49711945446904\n",
      "DALYs averted per 100,000 person-years in 2021: 668.1928909048063\n",
      "DALYs averted per 100,000 person-years in 2022: 800.8905182380954\n",
      "DALYs averted per 100,000 person-years in 2023: 1102.9324676333213\n"
     ]
    }
   ],
   "source": [
    "df['daly_averted_per_py_17'] = (dfb.daly_per_py_17.mean() - df.daly_per_py_17.mean())\n",
    "df['daly_averted_per_py_18'] = (dfb.daly_per_py_18.mean() - df.daly_per_py_18.mean())\n",
    "df['daly_averted_per_py_19'] = (dfb.daly_per_py_19.mean() - df.daly_per_py_19.mean())\n",
    "df['daly_averted_per_py_20'] = (dfb.daly_per_py_20.mean() - df.daly_per_py_20.mean())\n",
    "df['daly_averted_per_py_21'] = (dfb.daly_per_py_21.mean() - df.daly_per_py_21.mean())\n",
    "df['daly_averted_per_py_22'] = (dfb.daly_per_py_22.mean() - df.daly_per_py_22.mean())\n",
    "df['daly_averted_per_py_23'] = (dfb.daly_per_py_23.mean() - df.daly_per_py_23.mean())\n",
    "\n",
    "print(\"DALYs averted per 100,000 person-years in 2017: \" + str(df.daly_averted_per_py_17.mean() * 100000))\n",
    "print(\"DALYs averted per 100,000 person-years in 2018: \" + str(df.daly_averted_per_py_18.mean() * 100000))\n",
    "print(\"DALYs averted per 100,000 person-years in 2019: \" + str(df.daly_averted_per_py_19.mean() * 100000))\n",
    "print(\"DALYs averted per 100,000 person-years in 2020: \" + str(df.daly_averted_per_py_20.mean() * 100000))\n",
    "print(\"DALYs averted per 100,000 person-years in 2021: \" + str(df.daly_averted_per_py_21.mean() * 100000))\n",
    "print(\"DALYs averted per 100,000 person-years in 2022: \" + str(df.daly_averted_per_py_22.mean() * 100000))\n",
    "print(\"DALYs averted per 100,000 person-years in 2023: \" + str(df.daly_averted_per_py_23.mean() * 100000))\n",
    "averted_Nigeria = np.array([df.daly_averted_per_py_17.mean() * 100000, df.daly_averted_per_py_18.mean() * 100000, \n",
    "                            df.daly_averted_per_py_19.mean() * 100000, df.daly_averted_per_py_20.mean() * 100000, \n",
    "                            df.daly_averted_per_py_21.mean() * 100000, df.daly_averted_per_py_22.mean() * 100000, \n",
    "                            df.daly_averted_per_py_23.mean() * 100000])"
   ]
  },
  {
   "cell_type": "code",
   "execution_count": 46,
   "metadata": {},
   "outputs": [
    {
     "name": "stdout",
     "output_type": "stream",
     "text": [
      "[0.32 0.32 0.32 0.32 0.32 0.32 0.32]\n",
      "[1283172.12 1525432.71 2138494.79 2861839.16 3668853.03 4586333.58\n",
      " 5602350.94]\n"
     ]
    }
   ],
   "source": [
    "coverages = np.append(np.array([cov_base]), np.linspace(cov_base, cov_base, 6))\n",
    "print(coverages)\n",
    "\n",
    "supplemented = np.array([df.supplemented_days_in_2017.mean(), df.supplemented_days_in_2018.mean(), df.supplemented_days_in_2019.mean(),\n",
    "                         df.supplemented_days_in_2020.mean(), df.supplemented_days_in_2021.mean(), df.supplemented_days_in_2022.mean(),\n",
    "                         df.supplemented_days_in_2023.mean()])\n",
    "\n",
    "print(supplemented)"
   ]
  },
  {
   "cell_type": "code",
   "execution_count": 47,
   "metadata": {},
   "outputs": [
    {
     "data": {
      "text/plain": [
       "25826.9"
      ]
     },
     "execution_count": 47,
     "metadata": {},
     "output_type": "execute_result"
    }
   ],
   "source": [
    "dfb.total_population.mean()"
   ]
  },
  {
   "cell_type": "code",
   "execution_count": 48,
   "metadata": {},
   "outputs": [
    {
     "data": {
      "text/plain": [
       "8319926.91072"
      ]
     },
     "execution_count": 48,
     "metadata": {},
     "output_type": "execute_result"
    }
   ],
   "source": [
    "unit_cost = 0.60 # UC Davis Paper\n",
    "\n",
    "doses = coverages * supplemented * 2\n",
    "total_baseline_cost = unit_cost * doses.sum()\n",
    "\n",
    "total_baseline_cost"
   ]
  },
  {
   "cell_type": "code",
   "execution_count": 49,
   "metadata": {},
   "outputs": [
    {
     "data": {
      "text/plain": [
       "5322427.011551999"
      ]
     },
     "execution_count": 49,
     "metadata": {},
     "output_type": "execute_result"
    }
   ],
   "source": [
    "delta_cost = total_intervention_cost - total_baseline_cost\n",
    "\n",
    "delta_cost"
   ]
  },
  {
   "cell_type": "code",
   "execution_count": 50,
   "metadata": {},
   "outputs": [
    {
     "data": {
      "text/plain": [
       "1580.8388925850295"
      ]
     },
     "execution_count": 50,
     "metadata": {},
     "output_type": "execute_result"
    }
   ],
   "source": [
    "icer = delta_cost / averted_Nigeria.sum()\n",
    "\n",
    "icer"
   ]
  },
  {
   "cell_type": "code",
   "execution_count": null,
   "metadata": {},
   "outputs": [],
   "source": []
  },
  {
   "cell_type": "code",
   "execution_count": null,
   "metadata": {},
   "outputs": [],
   "source": []
  },
  {
   "cell_type": "code",
   "execution_count": 51,
   "metadata": {},
   "outputs": [
    {
     "name": "stdout",
     "output_type": "stream",
     "text": [
      "DALYs per 100,000 person-years in 2017: 61422.428819022454\n",
      "DALYs per 100,000 person-years in 2018: 60679.73707823854\n",
      "DALYs per 100,000 person-years in 2019: 59902.840856504\n",
      "DALYs per 100,000 person-years in 2020: 60635.208471138765\n",
      "DALYs per 100,000 person-years in 2021: 60896.995395879436\n",
      "DALYs per 100,000 person-years in 2022: 59500.00571420247\n",
      "DALYs per 100,000 person-years in 2023: 58895.07800221399\n"
     ]
    }
   ],
   "source": [
    "print(\"DALYs per 100,000 person-years in 2017: \" + str((df.daly_per_py_17.mean() * 100000)))\n",
    "print(\"DALYs per 100,000 person-years in 2018: \" + str((df.daly_per_py_18.mean() * 100000)))\n",
    "print(\"DALYs per 100,000 person-years in 2019: \" + str((df.daly_per_py_19.mean() * 100000)))\n",
    "print(\"DALYs per 100,000 person-years in 2020: \" + str((df.daly_per_py_20.mean() * 100000)))\n",
    "print(\"DALYs per 100,000 person-years in 2021: \" + str((df.daly_per_py_21.mean() * 100000)))\n",
    "print(\"DALYs per 100,000 person-years in 2022: \" + str((df.daly_per_py_22.mean() * 100000)))\n",
    "print(\"DALYs per 100,000 person-years in 2023: \" + str((df.daly_per_py_23.mean() * 100000)))\n",
    "dalys_Burkina_Faso = [df.daly_per_py_17.mean() * 100000, df.daly_per_py_18.mean() * 100000, df.daly_per_py_19.mean() * 100000, \n",
    "               df.daly_per_py_20.mean() * 100000, df.daly_per_py_21.mean() * 100000, df.daly_per_py_22.mean() * 100000, \n",
    "               df.daly_per_py_23.mean() * 100000]"
   ]
  },
  {
   "cell_type": "code",
   "execution_count": null,
   "metadata": {},
   "outputs": [],
   "source": []
  }
 ],
 "metadata": {
  "kernelspec": {
   "display_name": "Python 3",
   "language": "python",
   "name": "python3"
  },
  "language_info": {
   "codemirror_mode": {
    "name": "ipython",
    "version": 3
   },
   "file_extension": ".py",
   "mimetype": "text/x-python",
   "name": "python",
   "nbconvert_exporter": "python",
   "pygments_lexer": "ipython3",
   "version": "3.6.8"
  }
 },
 "nbformat": 4,
 "nbformat_minor": 2
}
