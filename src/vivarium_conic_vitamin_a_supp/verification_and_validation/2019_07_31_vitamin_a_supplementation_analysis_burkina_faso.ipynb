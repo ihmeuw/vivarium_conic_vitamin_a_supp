{
 "cells": [
  {
   "cell_type": "code",
   "execution_count": 1,
   "metadata": {
    "scrolled": true
   },
   "outputs": [
    {
     "name": "stdout",
     "output_type": "stream",
     "text": [
      "Mon Aug  5 22:52:36 PDT 2019\n",
      "The autoreload extension is already loaded. To reload it, use:\n",
      "  %reload_ext autoreload\n"
     ]
    }
   ],
   "source": [
    "import numpy as np, pandas as pd, matplotlib.pyplot as plt\n",
    "pd.set_option('display.max_rows', 12)\n",
    "!date\n",
    "\n",
    "%reload_ext autoreload\n",
    "%load_ext autoreload\n",
    "%autoreload 2"
   ]
  },
  {
   "cell_type": "markdown",
   "metadata": {},
   "source": [
    "# Inspect results of Vitamin A distributed run\n",
    "### Run 1 - Burkina Faso: Baseline Coverage = 0.88, Intrevention Coverage = 0.94"
   ]
  },
  {
   "cell_type": "code",
   "execution_count": 2,
   "metadata": {
    "scrolled": true
   },
   "outputs": [
    {
     "name": "stdout",
     "output_type": "stream",
     "text": [
      "/share/costeffectiveness/results/burkina_faso/2019_08_05_19_16_37/output.hdf\n"
     ]
    }
   ],
   "source": [
    "# input_draw_count = 100 and population_size = 10_000\n",
    "proj = 'burkina_faso'\n",
    "time = '2019_08_05_19_16_37'\n",
    "\n",
    "fname = f'/share/costeffectiveness/results/{proj}/{time}/output.hdf'\n",
    "print(fname)"
   ]
  },
  {
   "cell_type": "code",
   "execution_count": 3,
   "metadata": {},
   "outputs": [],
   "source": [
    "cov_base = 0.88\n",
    "cov_tar = 0.94"
   ]
  },
  {
   "cell_type": "code",
   "execution_count": 4,
   "metadata": {
    "scrolled": true
   },
   "outputs": [
    {
     "data": {
      "text/plain": [
       "(100, 151)"
      ]
     },
     "execution_count": 4,
     "metadata": {},
     "output_type": "execute_result"
    }
   ],
   "source": [
    "df = pd.read_hdf(fname)\n",
    "df = df.query(f'target_coverage == {cov_tar}')\n",
    "df.shape"
   ]
  },
  {
   "cell_type": "code",
   "execution_count": 5,
   "metadata": {},
   "outputs": [
    {
     "data": {
      "text/plain": [
       "array([0.94])"
      ]
     },
     "execution_count": 5,
     "metadata": {},
     "output_type": "execute_result"
    }
   ],
   "source": [
    "df.target_coverage.unique()"
   ]
  },
  {
   "cell_type": "code",
   "execution_count": 6,
   "metadata": {
    "scrolled": true
   },
   "outputs": [
    {
     "data": {
      "text/plain": [
       "['total_population_untracked',\n",
       " 'total_population_tracked',\n",
       " 'total_population',\n",
       " 'death_due_to_measles_in_2017',\n",
       " 'death_due_to_diarrheal_diseases_in_2017',\n",
       " 'death_due_to_lower_respiratory_infections_in_2017',\n",
       " 'death_due_to_other_causes_in_2017',\n",
       " 'death_due_to_measles_in_2018',\n",
       " 'death_due_to_diarrheal_diseases_in_2018',\n",
       " 'death_due_to_lower_respiratory_infections_in_2018',\n",
       " 'death_due_to_other_causes_in_2018',\n",
       " 'death_due_to_measles_in_2019',\n",
       " 'death_due_to_diarrheal_diseases_in_2019',\n",
       " 'death_due_to_lower_respiratory_infections_in_2019',\n",
       " 'death_due_to_other_causes_in_2019',\n",
       " 'death_due_to_measles_in_2020',\n",
       " 'death_due_to_diarrheal_diseases_in_2020',\n",
       " 'death_due_to_lower_respiratory_infections_in_2020',\n",
       " 'death_due_to_other_causes_in_2020',\n",
       " 'death_due_to_measles_in_2021',\n",
       " 'death_due_to_diarrheal_diseases_in_2021',\n",
       " 'death_due_to_lower_respiratory_infections_in_2021',\n",
       " 'death_due_to_other_causes_in_2021',\n",
       " 'death_due_to_measles_in_2022',\n",
       " 'death_due_to_diarrheal_diseases_in_2022',\n",
       " 'death_due_to_lower_respiratory_infections_in_2022',\n",
       " 'death_due_to_other_causes_in_2022',\n",
       " 'death_due_to_measles_in_2023',\n",
       " 'death_due_to_diarrheal_diseases_in_2023',\n",
       " 'death_due_to_lower_respiratory_infections_in_2023',\n",
       " 'death_due_to_other_causes_in_2023',\n",
       " 'ylls_due_to_measles_in_2019',\n",
       " 'ylls_due_to_measles_in_2020',\n",
       " 'ylls_due_to_measles_in_2021',\n",
       " 'total_population_living',\n",
       " 'total_population_dead',\n",
       " 'vitamin_a_deficiency_cat1_exposed_in_2017_among_early_neonatal',\n",
       " 'vitamin_a_deficiency_cat2_exposed_in_2017_among_early_neonatal',\n",
       " 'vitamin_a_deficiency_cat1_exposed_in_2018_among_early_neonatal',\n",
       " 'vitamin_a_deficiency_cat2_exposed_in_2018_among_early_neonatal',\n",
       " 'vitamin_a_deficiency_cat1_exposed_in_2019_among_early_neonatal',\n",
       " 'vitamin_a_deficiency_cat2_exposed_in_2019_among_early_neonatal',\n",
       " 'vitamin_a_deficiency_cat1_exposed_in_2020_among_early_neonatal',\n",
       " 'vitamin_a_deficiency_cat2_exposed_in_2020_among_early_neonatal',\n",
       " 'vitamin_a_deficiency_cat1_exposed_in_2021_among_early_neonatal',\n",
       " 'vitamin_a_deficiency_cat2_exposed_in_2021_among_early_neonatal',\n",
       " 'vitamin_a_deficiency_cat1_exposed_in_2022_among_early_neonatal',\n",
       " 'vitamin_a_deficiency_cat2_exposed_in_2022_among_early_neonatal',\n",
       " 'vitamin_a_deficiency_cat1_exposed_in_2023_among_early_neonatal',\n",
       " 'vitamin_a_deficiency_cat2_exposed_in_2023_among_early_neonatal',\n",
       " 'vitamin_a_deficiency_cat1_exposed_in_2017_among_late_neonatal',\n",
       " 'vitamin_a_deficiency_cat2_exposed_in_2017_among_late_neonatal',\n",
       " 'vitamin_a_deficiency_cat1_exposed_in_2018_among_late_neonatal',\n",
       " 'vitamin_a_deficiency_cat2_exposed_in_2018_among_late_neonatal',\n",
       " 'vitamin_a_deficiency_cat1_exposed_in_2019_among_late_neonatal',\n",
       " 'vitamin_a_deficiency_cat2_exposed_in_2019_among_late_neonatal',\n",
       " 'vitamin_a_deficiency_cat1_exposed_in_2020_among_late_neonatal',\n",
       " 'vitamin_a_deficiency_cat2_exposed_in_2020_among_late_neonatal',\n",
       " 'vitamin_a_deficiency_cat1_exposed_in_2021_among_late_neonatal',\n",
       " 'vitamin_a_deficiency_cat2_exposed_in_2021_among_late_neonatal',\n",
       " 'vitamin_a_deficiency_cat1_exposed_in_2022_among_late_neonatal',\n",
       " 'vitamin_a_deficiency_cat2_exposed_in_2022_among_late_neonatal',\n",
       " 'vitamin_a_deficiency_cat1_exposed_in_2023_among_late_neonatal',\n",
       " 'vitamin_a_deficiency_cat2_exposed_in_2023_among_late_neonatal',\n",
       " 'vitamin_a_deficiency_cat1_exposed_in_2017_among_post_neonatal',\n",
       " 'vitamin_a_deficiency_cat2_exposed_in_2017_among_post_neonatal',\n",
       " 'vitamin_a_deficiency_cat1_exposed_in_2018_among_post_neonatal',\n",
       " 'vitamin_a_deficiency_cat2_exposed_in_2018_among_post_neonatal',\n",
       " 'vitamin_a_deficiency_cat1_exposed_in_2019_among_post_neonatal',\n",
       " 'vitamin_a_deficiency_cat2_exposed_in_2019_among_post_neonatal',\n",
       " 'vitamin_a_deficiency_cat1_exposed_in_2020_among_post_neonatal',\n",
       " 'vitamin_a_deficiency_cat2_exposed_in_2020_among_post_neonatal',\n",
       " 'vitamin_a_deficiency_cat1_exposed_in_2021_among_post_neonatal',\n",
       " 'vitamin_a_deficiency_cat2_exposed_in_2021_among_post_neonatal',\n",
       " 'vitamin_a_deficiency_cat1_exposed_in_2022_among_post_neonatal',\n",
       " 'vitamin_a_deficiency_cat2_exposed_in_2022_among_post_neonatal',\n",
       " 'vitamin_a_deficiency_cat1_exposed_in_2023_among_post_neonatal',\n",
       " 'vitamin_a_deficiency_cat2_exposed_in_2023_among_post_neonatal',\n",
       " 'vitamin_a_deficiency_cat1_exposed_in_2017_among_1_to_4',\n",
       " 'vitamin_a_deficiency_cat2_exposed_in_2017_among_1_to_4',\n",
       " 'vitamin_a_deficiency_cat1_exposed_in_2018_among_1_to_4',\n",
       " 'vitamin_a_deficiency_cat2_exposed_in_2018_among_1_to_4',\n",
       " 'vitamin_a_deficiency_cat1_exposed_in_2019_among_1_to_4',\n",
       " 'vitamin_a_deficiency_cat2_exposed_in_2019_among_1_to_4',\n",
       " 'vitamin_a_deficiency_cat1_exposed_in_2020_among_1_to_4',\n",
       " 'vitamin_a_deficiency_cat2_exposed_in_2020_among_1_to_4',\n",
       " 'vitamin_a_deficiency_cat1_exposed_in_2021_among_1_to_4',\n",
       " 'vitamin_a_deficiency_cat2_exposed_in_2021_among_1_to_4',\n",
       " 'vitamin_a_deficiency_cat1_exposed_in_2022_among_1_to_4',\n",
       " 'vitamin_a_deficiency_cat2_exposed_in_2022_among_1_to_4',\n",
       " 'vitamin_a_deficiency_cat1_exposed_in_2023_among_1_to_4',\n",
       " 'vitamin_a_deficiency_cat2_exposed_in_2023_among_1_to_4',\n",
       " 'supplemented_days_in_2017',\n",
       " 'supplemented_days_in_2018',\n",
       " 'supplemented_days_in_2019',\n",
       " 'supplemented_days_in_2020',\n",
       " 'supplemented_days_in_2021',\n",
       " 'supplemented_days_in_2022',\n",
       " 'supplemented_days_in_2023',\n",
       " 'measles_prevalent_cases_at_sim_end',\n",
       " 'diarrheal_diseases_prevalent_cases_at_sim_end',\n",
       " 'lower_respiratory_infections_prevalent_cases_at_sim_end',\n",
       " 'susceptible_to_measles_event_count',\n",
       " 'measles_event_count',\n",
       " 'recovered_from_measles_event_count',\n",
       " 'susceptible_to_diarrheal_diseases_event_count',\n",
       " 'diarrheal_diseases_event_count',\n",
       " 'susceptible_to_lower_respiratory_infections_event_count',\n",
       " 'lower_respiratory_infections_event_count',\n",
       " 'input_draw',\n",
       " 'random_seed',\n",
       " 'person_time_in_2017',\n",
       " 'person_time_in_2018',\n",
       " 'person_time_in_2019',\n",
       " 'person_time_in_2020',\n",
       " 'person_time_in_2021',\n",
       " 'person_time_in_2022',\n",
       " 'person_time_in_2023',\n",
       " 'ylls_due_to_measles_in_2017',\n",
       " 'ylls_due_to_diarrheal_diseases_in_2017',\n",
       " 'ylls_due_to_lower_respiratory_infections_in_2017',\n",
       " 'ylls_due_to_other_causes_in_2017',\n",
       " 'ylls_due_to_measles_in_2018',\n",
       " 'ylls_due_to_diarrheal_diseases_in_2018',\n",
       " 'ylls_due_to_lower_respiratory_infections_in_2018',\n",
       " 'ylls_due_to_other_causes_in_2018',\n",
       " 'ylls_due_to_diarrheal_diseases_in_2019',\n",
       " 'ylls_due_to_lower_respiratory_infections_in_2019',\n",
       " 'ylls_due_to_other_causes_in_2019',\n",
       " 'ylls_due_to_diarrheal_diseases_in_2020',\n",
       " 'ylls_due_to_lower_respiratory_infections_in_2020',\n",
       " 'ylls_due_to_other_causes_in_2020',\n",
       " 'ylls_due_to_diarrheal_diseases_in_2021',\n",
       " 'ylls_due_to_lower_respiratory_infections_in_2021',\n",
       " 'ylls_due_to_other_causes_in_2021',\n",
       " 'ylls_due_to_measles_in_2022',\n",
       " 'ylls_due_to_diarrheal_diseases_in_2022',\n",
       " 'ylls_due_to_lower_respiratory_infections_in_2022',\n",
       " 'ylls_due_to_other_causes_in_2022',\n",
       " 'ylls_due_to_measles_in_2023',\n",
       " 'ylls_due_to_diarrheal_diseases_in_2023',\n",
       " 'ylls_due_to_lower_respiratory_infections_in_2023',\n",
       " 'ylls_due_to_other_causes_in_2023',\n",
       " 'years_of_life_lost',\n",
       " 'years_lived_with_disability',\n",
       " 'ylds_due_to_measles',\n",
       " 'ylds_due_to_diarrheal_diseases',\n",
       " 'ylds_due_to_lower_respiratory_infections',\n",
       " 'simulation_run_time',\n",
       " 'target_coverage',\n",
       " 'vitamin_a_supplementation']"
      ]
     },
     "execution_count": 6,
     "metadata": {},
     "output_type": "execute_result"
    }
   ],
   "source": [
    "df = df.iloc[:, :]\n",
    "list(df.columns)"
   ]
  },
  {
   "cell_type": "code",
   "execution_count": 7,
   "metadata": {
    "scrolled": true
   },
   "outputs": [
    {
     "name": "stdout",
     "output_type": "stream",
     "text": [
      "Exposure in 2017 is 0.28727412012891634\n",
      "Exposure in 2018 is 0.28658032193815136\n",
      "Exposure in 2019 is 0.28567768200130544\n",
      "Exposure in 2020 is 0.28483701573746834\n",
      "Exposure in 2021 is 0.2837992638195432\n",
      "Exposure in 2022 is 0.28388426586931065\n",
      "Exposure in 2023 is 0.2840217468522582\n"
     ]
    }
   ],
   "source": [
    "df['exposure_2017'] = df.vitamin_a_deficiency_cat1_exposed_in_2017_among_1_to_4/(df.vitamin_a_deficiency_cat1_exposed_in_2017_among_1_to_4 + df.vitamin_a_deficiency_cat2_exposed_in_2017_among_1_to_4)\n",
    "print(\"Exposure in 2017 is \" + str(df.exposure_2017.mean()))\n",
    "df['exposure_2018'] = df.vitamin_a_deficiency_cat1_exposed_in_2018_among_1_to_4/(df.vitamin_a_deficiency_cat1_exposed_in_2018_among_1_to_4 + df.vitamin_a_deficiency_cat2_exposed_in_2018_among_1_to_4)\n",
    "print(\"Exposure in 2018 is \" + str(df.exposure_2018.mean()))\n",
    "df['exposure_2019'] = df.vitamin_a_deficiency_cat1_exposed_in_2019_among_1_to_4/(df.vitamin_a_deficiency_cat1_exposed_in_2019_among_1_to_4 + df.vitamin_a_deficiency_cat2_exposed_in_2019_among_1_to_4)\n",
    "print(\"Exposure in 2019 is \" + str(df.exposure_2019.mean()))\n",
    "df['exposure_2020'] = df.vitamin_a_deficiency_cat1_exposed_in_2020_among_1_to_4/(df.vitamin_a_deficiency_cat1_exposed_in_2020_among_1_to_4 + df.vitamin_a_deficiency_cat2_exposed_in_2020_among_1_to_4)\n",
    "print(\"Exposure in 2020 is \" + str(df.exposure_2020.mean()))\n",
    "df['exposure_2021'] = df.vitamin_a_deficiency_cat1_exposed_in_2021_among_1_to_4/(df.vitamin_a_deficiency_cat1_exposed_in_2021_among_1_to_4 + df.vitamin_a_deficiency_cat2_exposed_in_2021_among_1_to_4)\n",
    "print(\"Exposure in 2021 is \" + str(df.exposure_2021.mean()))\n",
    "df['exposure_2022'] = df.vitamin_a_deficiency_cat1_exposed_in_2022_among_1_to_4/(df.vitamin_a_deficiency_cat1_exposed_in_2022_among_1_to_4 + df.vitamin_a_deficiency_cat2_exposed_in_2022_among_1_to_4)\n",
    "print(\"Exposure in 2022 is \" + str(df.exposure_2022.mean()))\n",
    "df['exposure_2023'] = df.vitamin_a_deficiency_cat1_exposed_in_2023_among_1_to_4/(df.vitamin_a_deficiency_cat1_exposed_in_2023_among_1_to_4 + df.vitamin_a_deficiency_cat2_exposed_in_2023_among_1_to_4)\n",
    "print(\"Exposure in 2023 is \" + str(df.exposure_2023.mean()))\n",
    "exposure_Burkina_Faso = [df.exposure_2017.mean(), df.exposure_2018.mean(), df.exposure_2019.mean(), df.exposure_2020.mean(), \n",
    "                  df.exposure_2021.mean(), df.exposure_2022.mean(), df.exposure_2023.mean()]"
   ]
  },
  {
   "cell_type": "code",
   "execution_count": 8,
   "metadata": {},
   "outputs": [],
   "source": [
    "py_17 = df.person_time_in_2017.mean()\n",
    "py_18 = df.person_time_in_2018.mean()\n",
    "py_19 = df.person_time_in_2019.mean()\n",
    "py_20 = df.person_time_in_2020.mean()\n",
    "py_21 = df.person_time_in_2021.mean()\n",
    "py_22 = df.person_time_in_2022.mean()\n",
    "py_23 = df.person_time_in_2023.mean()"
   ]
  },
  {
   "cell_type": "code",
   "execution_count": 9,
   "metadata": {},
   "outputs": [],
   "source": [
    "df['yll_measles_per_py_17'] = df.ylls_due_to_measles_in_2017 / py_17\n",
    "df['yll_diarrhea_per_py_17'] = df.ylls_due_to_diarrheal_diseases_in_2017 / py_17\n",
    "df['yll_lri_per_py_17'] = df.ylls_due_to_lower_respiratory_infections_in_2017 / py_17\n",
    "df['yll_per_py_17'] = df.yll_measles_per_py_17 + df.yll_diarrhea_per_py_17 + df.yll_lri_per_py_17\n",
    "\n",
    "df['yld_measles_per_py_17'] = df.ylds_due_to_measles / py_17\n",
    "df['yld_diarrhea_per_py_17'] = df.ylds_due_to_diarrheal_diseases / py_17\n",
    "df['yld_lri_per_py_17'] = df.ylds_due_to_lower_respiratory_infections / py_17\n",
    "df['yld_per_py_17'] = df.yld_measles_per_py_17 + df.yld_diarrhea_per_py_17 + df.yld_lri_per_py_17\n",
    "\n",
    "df['daly_measles_per_py_17'] = df.yll_measles_per_py_17 + df.yld_measles_per_py_17\n",
    "df['daly_diarrhea_per_py_17'] = df.yll_diarrhea_per_py_17 + df.yld_diarrhea_per_py_17\n",
    "df['daly_lri_per_py_17'] = df.yll_lri_per_py_17 + df.yld_lri_per_py_17\n",
    "df['daly_per_py_17'] = df.daly_measles_per_py_17 + df.daly_diarrhea_per_py_17 + df.daly_lri_per_py_17"
   ]
  },
  {
   "cell_type": "code",
   "execution_count": 10,
   "metadata": {},
   "outputs": [],
   "source": [
    "df['yll_measles_per_py_18'] = df.ylls_due_to_measles_in_2018 / py_18\n",
    "df['yll_diarrhea_per_py_18'] = df.ylls_due_to_diarrheal_diseases_in_2018 / py_18\n",
    "df['yll_lri_per_py_18'] = df.ylls_due_to_lower_respiratory_infections_in_2018 / py_18\n",
    "df['yll_per_py_18'] = df.yll_measles_per_py_18 + df.yll_diarrhea_per_py_18 + df.yll_lri_per_py_18\n",
    "\n",
    "df['yld_measles_per_py_18'] = df.ylds_due_to_measles / py_18\n",
    "df['yld_diarrhea_per_py_18'] = df.ylds_due_to_diarrheal_diseases / py_18\n",
    "df['yld_lri_per_py_18'] = df.ylds_due_to_lower_respiratory_infections / py_18\n",
    "df['yld_per_py_18'] = df.yld_measles_per_py_18 + df.yld_diarrhea_per_py_18 + df.yld_lri_per_py_18\n",
    "\n",
    "df['daly_measles_per_py_18'] = df.yll_measles_per_py_18 + df.yld_measles_per_py_18\n",
    "df['daly_diarrhea_per_py_18'] = df.yll_diarrhea_per_py_18 + df.yld_diarrhea_per_py_18\n",
    "df['daly_lri_per_py_18'] = df.yll_lri_per_py_18 + df.yld_lri_per_py_18\n",
    "df['daly_per_py_18'] = df.daly_measles_per_py_18 + df.daly_diarrhea_per_py_18 + df.daly_lri_per_py_18"
   ]
  },
  {
   "cell_type": "code",
   "execution_count": 11,
   "metadata": {},
   "outputs": [],
   "source": [
    "df['yll_measles_per_py_19'] = df.ylls_due_to_measles_in_2019 / py_19\n",
    "df['yll_diarrhea_per_py_19'] = df.ylls_due_to_diarrheal_diseases_in_2019 / py_19\n",
    "df['yll_lri_per_py_19'] = df.ylls_due_to_lower_respiratory_infections_in_2019 / py_19\n",
    "df['yll_per_py_19'] = df.yll_measles_per_py_19 + df.yll_diarrhea_per_py_19 + df.yll_lri_per_py_19\n",
    "\n",
    "df['yld_measles_per_py_19'] = df.ylds_due_to_measles / py_19\n",
    "df['yld_diarrhea_per_py_19'] = df.ylds_due_to_diarrheal_diseases / py_19\n",
    "df['yld_lri_per_py_19'] = df.ylds_due_to_lower_respiratory_infections / py_19\n",
    "df['yld_per_py_19'] = df.yld_measles_per_py_19 + df.yld_diarrhea_per_py_19 + df.yld_lri_per_py_19\n",
    "\n",
    "df['daly_measles_per_py_19'] = df.yll_measles_per_py_19 + df.yld_measles_per_py_19\n",
    "df['daly_diarrhea_per_py_19'] = df.yll_diarrhea_per_py_19 + df.yld_diarrhea_per_py_19\n",
    "df['daly_lri_per_py_19'] = df.yll_lri_per_py_19 + df.yld_lri_per_py_19\n",
    "df['daly_per_py_19'] = df.daly_measles_per_py_19 + df.daly_diarrhea_per_py_19 + df.daly_lri_per_py_19"
   ]
  },
  {
   "cell_type": "code",
   "execution_count": 12,
   "metadata": {},
   "outputs": [],
   "source": [
    "df['yll_measles_per_py_20'] = df.ylls_due_to_measles_in_2020 / py_20\n",
    "df['yll_diarrhea_per_py_20'] = df.ylls_due_to_diarrheal_diseases_in_2020 / py_20\n",
    "df['yll_lri_per_py_20'] = df.ylls_due_to_lower_respiratory_infections_in_2020 / py_20\n",
    "df['yll_per_py_20'] = df.yll_measles_per_py_20 + df.yll_diarrhea_per_py_20 + df.yll_lri_per_py_20\n",
    "\n",
    "df['yld_measles_per_py_20'] = df.ylds_due_to_measles / py_20\n",
    "df['yld_diarrhea_per_py_20'] = df.ylds_due_to_diarrheal_diseases / py_20\n",
    "df['yld_lri_per_py_20'] = df.ylds_due_to_lower_respiratory_infections / py_20\n",
    "df['yld_per_py_20'] = df.yld_measles_per_py_20 + df.yld_diarrhea_per_py_20 + df.yld_lri_per_py_20\n",
    "\n",
    "df['daly_measles_per_py_20'] = df.yll_measles_per_py_20 + df.yld_measles_per_py_20\n",
    "df['daly_diarrhea_per_py_20'] = df.yll_diarrhea_per_py_20 + df.yld_diarrhea_per_py_20\n",
    "df['daly_lri_per_py_20'] = df.yll_lri_per_py_20 + df.yld_lri_per_py_20\n",
    "df['daly_per_py_20'] = df.daly_measles_per_py_20 + df.daly_diarrhea_per_py_20 + df.daly_lri_per_py_20"
   ]
  },
  {
   "cell_type": "code",
   "execution_count": 13,
   "metadata": {},
   "outputs": [],
   "source": [
    "df['yll_measles_per_py_21'] = df.ylls_due_to_measles_in_2021 / py_21\n",
    "df['yll_diarrhea_per_py_21'] = df.ylls_due_to_diarrheal_diseases_in_2021 / py_21\n",
    "df['yll_lri_per_py_21'] = df.ylls_due_to_lower_respiratory_infections_in_2021 / py_21\n",
    "df['yll_per_py_21'] = df.yll_measles_per_py_21 + df.yll_diarrhea_per_py_21 + df.yll_lri_per_py_21\n",
    "\n",
    "df['yld_measles_per_py_21'] = df.ylds_due_to_measles / py_21\n",
    "df['yld_diarrhea_per_py_21'] = df.ylds_due_to_diarrheal_diseases / py_21\n",
    "df['yld_lri_per_py_21'] = df.ylds_due_to_lower_respiratory_infections / py_21\n",
    "df['yld_per_py_21'] = df.yld_measles_per_py_21 + df.yld_diarrhea_per_py_21 + df.yld_lri_per_py_21\n",
    "\n",
    "df['daly_measles_per_py_21'] = df.yll_measles_per_py_21 + df.yld_measles_per_py_21\n",
    "df['daly_diarrhea_per_py_21'] = df.yll_diarrhea_per_py_21 + df.yld_diarrhea_per_py_21\n",
    "df['daly_lri_per_py_21'] = df.yll_lri_per_py_21 + df.yld_lri_per_py_21\n",
    "df['daly_per_py_21'] = df.daly_measles_per_py_21 + df.daly_diarrhea_per_py_21 + df.daly_lri_per_py_21"
   ]
  },
  {
   "cell_type": "code",
   "execution_count": 14,
   "metadata": {},
   "outputs": [],
   "source": [
    "df['yll_measles_per_py_22'] = df.ylls_due_to_measles_in_2022 / py_22\n",
    "df['yll_diarrhea_per_py_22'] = df.ylls_due_to_diarrheal_diseases_in_2022 / py_22\n",
    "df['yll_lri_per_py_22'] = df.ylls_due_to_lower_respiratory_infections_in_2022 / py_22\n",
    "df['yll_per_py_22'] = df.yll_measles_per_py_22 + df.yll_diarrhea_per_py_22 + df.yll_lri_per_py_22\n",
    "\n",
    "df['yld_measles_per_py_22'] = df.ylds_due_to_measles / py_22\n",
    "df['yld_diarrhea_per_py_22'] = df.ylds_due_to_diarrheal_diseases / py_22\n",
    "df['yld_lri_per_py_22'] = df.ylds_due_to_lower_respiratory_infections / py_22\n",
    "df['yld_per_py_22'] = df.yld_measles_per_py_22 + df.yld_diarrhea_per_py_22 + df.yld_lri_per_py_22\n",
    "\n",
    "df['daly_measles_per_py_22'] = df.yll_measles_per_py_22 + df.yld_measles_per_py_22\n",
    "df['daly_diarrhea_per_py_22'] = df.yll_diarrhea_per_py_22 + df.yld_diarrhea_per_py_22\n",
    "df['daly_lri_per_py_22'] = df.yll_lri_per_py_22 + df.yld_lri_per_py_22\n",
    "df['daly_per_py_22'] = df.daly_measles_per_py_22 + df.daly_diarrhea_per_py_22 + df.daly_lri_per_py_22"
   ]
  },
  {
   "cell_type": "code",
   "execution_count": 15,
   "metadata": {},
   "outputs": [],
   "source": [
    "df['yll_measles_per_py_23'] = df.ylls_due_to_measles_in_2023 / py_23\n",
    "df['yll_diarrhea_per_py_23'] = df.ylls_due_to_diarrheal_diseases_in_2023 / py_23\n",
    "df['yll_lri_per_py_23'] = df.ylls_due_to_lower_respiratory_infections_in_2023 / py_23\n",
    "df['yll_per_py_23'] = df.yll_measles_per_py_23 + df.yll_diarrhea_per_py_23 + df.yll_lri_per_py_23\n",
    "\n",
    "df['yld_measles_per_py_23'] = df.ylds_due_to_measles / py_23\n",
    "df['yld_diarrhea_per_py_23'] = df.ylds_due_to_diarrheal_diseases / py_23\n",
    "df['yld_lri_per_py_23'] = df.ylds_due_to_lower_respiratory_infections / py_23\n",
    "df['yld_per_py_23'] = df.yld_measles_per_py_23 + df.yld_diarrhea_per_py_23 + df.yld_lri_per_py_23\n",
    "\n",
    "df['daly_measles_per_py_23'] = df.yll_measles_per_py_23 + df.yld_measles_per_py_23\n",
    "df['daly_diarrhea_per_py_23'] = df.yll_diarrhea_per_py_23 + df.yld_diarrhea_per_py_23\n",
    "df['daly_lri_per_py_23'] = df.yll_lri_per_py_23 + df.yld_lri_per_py_23\n",
    "df['daly_per_py_23'] = df.daly_measles_per_py_23 + df.daly_diarrhea_per_py_23 + df.daly_lri_per_py_23"
   ]
  },
  {
   "cell_type": "code",
   "execution_count": 16,
   "metadata": {},
   "outputs": [
    {
     "name": "stdout",
     "output_type": "stream",
     "text": [
      "Overall DALY rate in 2017: 0.4652332426606483\n",
      "Rate of DALYs from measles in 2017: 0.019698241845358715\n",
      "Rate of DALYs from diarrheal diseases in 2017: 0.21750423401386368\n",
      "Rate of DALYs from lower respiratory infections in 2017: 0.22803076680142592\n"
     ]
    }
   ],
   "source": [
    "print(\"Overall DALY rate in 2017: \" + str(df.daly_per_py_17.mean()))\n",
    "print(\"Rate of DALYs from measles in 2017: \" + str(df.daly_measles_per_py_17.mean()))\n",
    "print(\"Rate of DALYs from diarrheal diseases in 2017: \" + str(df.daly_diarrhea_per_py_17.mean()))\n",
    "print(\"Rate of DALYs from lower respiratory infections in 2017: \" + str(df.daly_lri_per_py_17.mean()))"
   ]
  },
  {
   "cell_type": "code",
   "execution_count": 17,
   "metadata": {},
   "outputs": [
    {
     "name": "stdout",
     "output_type": "stream",
     "text": [
      "Overall DALY rate in 2018: 0.46679630237778186\n",
      "Rate of DALYs from measles in 2018: 0.01697659849673546\n",
      "Rate of DALYs from diarrheal diseases in 2018: 0.21993036481605013\n",
      "Rate of DALYs from lower respiratory infections in 2018: 0.22988933906499628\n"
     ]
    }
   ],
   "source": [
    "print(\"Overall DALY rate in 2018: \" + str(df.daly_per_py_18.mean()))\n",
    "print(\"Rate of DALYs from measles in 2018: \" + str(df.daly_measles_per_py_18.mean()))\n",
    "print(\"Rate of DALYs from diarrheal diseases in 2018: \" + str(df.daly_diarrhea_per_py_18.mean()))\n",
    "print(\"Rate of DALYs from lower respiratory infections in 2018: \" + str(df.daly_lri_per_py_18.mean()))"
   ]
  },
  {
   "cell_type": "code",
   "execution_count": 18,
   "metadata": {},
   "outputs": [
    {
     "name": "stdout",
     "output_type": "stream",
     "text": [
      "Overall DALY rate in 2019: 0.4647553210811566\n",
      "Rate of DALYs from measles in 2019: 0.018971519443120907\n",
      "Rate of DALYs from diarrheal diseases in 2019: 0.21169509204362633\n",
      "Rate of DALYs from lower respiratory infections in 2019: 0.23408870959440936\n"
     ]
    }
   ],
   "source": [
    "print(\"Overall DALY rate in 2019: \" + str(df.daly_per_py_19.mean()))\n",
    "print(\"Rate of DALYs from measles in 2019: \" + str(df.daly_measles_per_py_19.mean()))\n",
    "print(\"Rate of DALYs from diarrheal diseases in 2019: \" + str(df.daly_diarrhea_per_py_19.mean()))\n",
    "print(\"Rate of DALYs from lower respiratory infections in 2019: \" + str(df.daly_lri_per_py_19.mean()))"
   ]
  },
  {
   "cell_type": "code",
   "execution_count": 19,
   "metadata": {},
   "outputs": [
    {
     "name": "stdout",
     "output_type": "stream",
     "text": [
      "Overall DALY rate in 2020: 0.4711639829740708\n",
      "Rate of DALYs from measles in 2020: 0.01976153501393512\n",
      "Rate of DALYs from diarrheal diseases in 2020: 0.21683051997354652\n",
      "Rate of DALYs from lower respiratory infections in 2020: 0.23457192798658924\n"
     ]
    }
   ],
   "source": [
    "print(\"Overall DALY rate in 2020: \" + str(df.daly_per_py_20.mean()))\n",
    "print(\"Rate of DALYs from measles in 2020: \" + str(df.daly_measles_per_py_20.mean()))\n",
    "print(\"Rate of DALYs from diarrheal diseases in 2020: \" + str(df.daly_diarrhea_per_py_20.mean()))\n",
    "print(\"Rate of DALYs from lower respiratory infections in 2020: \" + str(df.daly_lri_per_py_20.mean()))"
   ]
  },
  {
   "cell_type": "code",
   "execution_count": 20,
   "metadata": {},
   "outputs": [
    {
     "name": "stdout",
     "output_type": "stream",
     "text": [
      "Overall DALY rate in 2021: 0.46600120642234494\n",
      "Rate of DALYs from measles in 2021: 0.01786189490352819\n",
      "Rate of DALYs from diarrheal diseases in 2021: 0.2158235242318085\n",
      "Rate of DALYs from lower respiratory infections in 2021: 0.23231578728700827\n"
     ]
    }
   ],
   "source": [
    "print(\"Overall DALY rate in 2021: \" + str(df.daly_per_py_21.mean()))\n",
    "print(\"Rate of DALYs from measles in 2021: \" + str(df.daly_measles_per_py_21.mean()))\n",
    "print(\"Rate of DALYs from diarrheal diseases in 2021: \" + str(df.daly_diarrhea_per_py_21.mean()))\n",
    "print(\"Rate of DALYs from lower respiratory infections in 2021: \" + str(df.daly_lri_per_py_21.mean()))"
   ]
  },
  {
   "cell_type": "code",
   "execution_count": 21,
   "metadata": {},
   "outputs": [
    {
     "name": "stdout",
     "output_type": "stream",
     "text": [
      "Overall DALY rate in 2022: 0.46313568703761765\n",
      "Rate of DALYs from measles in 2022: 0.01775980906083303\n",
      "Rate of DALYs from diarrheal diseases in 2022: 0.21220594168573956\n",
      "Rate of DALYs from lower respiratory infections in 2022: 0.23316993629104496\n"
     ]
    }
   ],
   "source": [
    "print(\"Overall DALY rate in 2022: \" + str(df.daly_per_py_22.mean()))\n",
    "print(\"Rate of DALYs from measles in 2022: \" + str(df.daly_measles_per_py_22.mean()))\n",
    "print(\"Rate of DALYs from diarrheal diseases in 2022: \" + str(df.daly_diarrhea_per_py_22.mean()))\n",
    "print(\"Rate of DALYs from lower respiratory infections in 2022: \" + str(df.daly_lri_per_py_22.mean()))"
   ]
  },
  {
   "cell_type": "code",
   "execution_count": 22,
   "metadata": {},
   "outputs": [
    {
     "name": "stdout",
     "output_type": "stream",
     "text": [
      "Overall DALY rate in 2023: 0.4548186986446301\n",
      "Rate of DALYs from measles in 2023: 0.015462386706099444\n",
      "Rate of DALYs from diarrheal diseases in 2023: 0.21256355965795654\n",
      "Rate of DALYs from lower respiratory infections in 2023: 0.22679275228057402\n"
     ]
    }
   ],
   "source": [
    "print(\"Overall DALY rate in 2023: \" + str(df.daly_per_py_23.mean()))\n",
    "print(\"Rate of DALYs from measles in 2023: \" + str(df.daly_measles_per_py_23.mean()))\n",
    "print(\"Rate of DALYs from diarrheal diseases in 2023: \" + str(df.daly_diarrhea_per_py_23.mean()))\n",
    "print(\"Rate of DALYs from lower respiratory infections in 2023: \" + str(df.daly_lri_per_py_23.mean()))"
   ]
  },
  {
   "cell_type": "code",
   "execution_count": 23,
   "metadata": {},
   "outputs": [
    {
     "name": "stdout",
     "output_type": "stream",
     "text": [
      "[0.88  0.88  0.892 0.904 0.916 0.928 0.94 ]\n",
      "[3530140.75 4195756.5  4849854.14 5520028.86 6159415.24 6814790.14\n",
      " 7468563.48]\n"
     ]
    }
   ],
   "source": [
    "coverages = np.append(np.array([cov_base]), np.linspace(cov_base, cov_tar, 6))\n",
    "print(coverages)\n",
    "\n",
    "supplemented = np.array([df.supplemented_days_in_2017.mean(), df.supplemented_days_in_2018.mean(), df.supplemented_days_in_2019.mean(),\n",
    "                         df.supplemented_days_in_2020.mean(), df.supplemented_days_in_2021.mean(), df.supplemented_days_in_2022.mean(),\n",
    "                         df.supplemented_days_in_2023.mean()])\n",
    "\n",
    "print(supplemented)"
   ]
  },
  {
   "cell_type": "code",
   "execution_count": 24,
   "metadata": {},
   "outputs": [
    {
     "data": {
      "text/plain": [
       "42121877.811936"
      ]
     },
     "execution_count": 24,
     "metadata": {},
     "output_type": "execute_result"
    }
   ],
   "source": [
    "unit_cost = 0.60 # UC Davis Paper\n",
    "\n",
    "doses = coverages * supplemented * 2\n",
    "total_intervention_cost = unit_cost * doses.sum()\n",
    "\n",
    "total_intervention_cost"
   ]
  },
  {
   "cell_type": "code",
   "execution_count": 25,
   "metadata": {
    "scrolled": true
   },
   "outputs": [
    {
     "name": "stdout",
     "output_type": "stream",
     "text": [
      "25917.98 12196.16\n",
      "1486.94262091413\n",
      "4.073815399764739\n"
     ]
    }
   ],
   "source": [
    "average_supplemented_days_per_individual = supplemented.sum() / df.total_population.mean()\n",
    "years_supplemented = average_supplemented_days_per_individual / 365\n",
    "\n",
    "\n",
    "print(df.total_population.mean(), df.total_population_tracked.mean())\n",
    "print(average_supplemented_days_per_individual)\n",
    "print(years_supplemented)"
   ]
  },
  {
   "cell_type": "code",
   "execution_count": null,
   "metadata": {},
   "outputs": [],
   "source": []
  },
  {
   "cell_type": "code",
   "execution_count": null,
   "metadata": {},
   "outputs": [],
   "source": []
  },
  {
   "cell_type": "code",
   "execution_count": null,
   "metadata": {},
   "outputs": [],
   "source": []
  },
  {
   "cell_type": "code",
   "execution_count": null,
   "metadata": {},
   "outputs": [],
   "source": []
  },
  {
   "cell_type": "code",
   "execution_count": null,
   "metadata": {},
   "outputs": [],
   "source": []
  },
  {
   "cell_type": "code",
   "execution_count": null,
   "metadata": {},
   "outputs": [],
   "source": []
  },
  {
   "cell_type": "markdown",
   "metadata": {},
   "source": [
    "## Baseline Burkina Faso"
   ]
  },
  {
   "cell_type": "code",
   "execution_count": 26,
   "metadata": {
    "scrolled": false
   },
   "outputs": [
    {
     "data": {
      "text/plain": [
       "(100, 151)"
      ]
     },
     "execution_count": 26,
     "metadata": {},
     "output_type": "execute_result"
    }
   ],
   "source": [
    "dfb = pd.read_hdf(fname)\n",
    "dfb = dfb.query(f'target_coverage == {cov_base}')\n",
    "dfb.shape"
   ]
  },
  {
   "cell_type": "code",
   "execution_count": 27,
   "metadata": {
    "scrolled": true
   },
   "outputs": [
    {
     "data": {
      "text/plain": [
       "['total_population_untracked',\n",
       " 'total_population_tracked',\n",
       " 'total_population',\n",
       " 'death_due_to_measles_in_2017',\n",
       " 'death_due_to_diarrheal_diseases_in_2017',\n",
       " 'death_due_to_lower_respiratory_infections_in_2017',\n",
       " 'death_due_to_other_causes_in_2017',\n",
       " 'death_due_to_measles_in_2018',\n",
       " 'death_due_to_diarrheal_diseases_in_2018',\n",
       " 'death_due_to_lower_respiratory_infections_in_2018',\n",
       " 'death_due_to_other_causes_in_2018',\n",
       " 'death_due_to_measles_in_2019',\n",
       " 'death_due_to_diarrheal_diseases_in_2019',\n",
       " 'death_due_to_lower_respiratory_infections_in_2019',\n",
       " 'death_due_to_other_causes_in_2019',\n",
       " 'death_due_to_measles_in_2020',\n",
       " 'death_due_to_diarrheal_diseases_in_2020',\n",
       " 'death_due_to_lower_respiratory_infections_in_2020',\n",
       " 'death_due_to_other_causes_in_2020',\n",
       " 'death_due_to_measles_in_2021',\n",
       " 'death_due_to_diarrheal_diseases_in_2021',\n",
       " 'death_due_to_lower_respiratory_infections_in_2021',\n",
       " 'death_due_to_other_causes_in_2021',\n",
       " 'death_due_to_measles_in_2022',\n",
       " 'death_due_to_diarrheal_diseases_in_2022',\n",
       " 'death_due_to_lower_respiratory_infections_in_2022',\n",
       " 'death_due_to_other_causes_in_2022',\n",
       " 'death_due_to_measles_in_2023',\n",
       " 'death_due_to_diarrheal_diseases_in_2023',\n",
       " 'death_due_to_lower_respiratory_infections_in_2023',\n",
       " 'death_due_to_other_causes_in_2023',\n",
       " 'ylls_due_to_measles_in_2019',\n",
       " 'ylls_due_to_measles_in_2020',\n",
       " 'ylls_due_to_measles_in_2021',\n",
       " 'total_population_living',\n",
       " 'total_population_dead',\n",
       " 'vitamin_a_deficiency_cat1_exposed_in_2017_among_early_neonatal',\n",
       " 'vitamin_a_deficiency_cat2_exposed_in_2017_among_early_neonatal',\n",
       " 'vitamin_a_deficiency_cat1_exposed_in_2018_among_early_neonatal',\n",
       " 'vitamin_a_deficiency_cat2_exposed_in_2018_among_early_neonatal',\n",
       " 'vitamin_a_deficiency_cat1_exposed_in_2019_among_early_neonatal',\n",
       " 'vitamin_a_deficiency_cat2_exposed_in_2019_among_early_neonatal',\n",
       " 'vitamin_a_deficiency_cat1_exposed_in_2020_among_early_neonatal',\n",
       " 'vitamin_a_deficiency_cat2_exposed_in_2020_among_early_neonatal',\n",
       " 'vitamin_a_deficiency_cat1_exposed_in_2021_among_early_neonatal',\n",
       " 'vitamin_a_deficiency_cat2_exposed_in_2021_among_early_neonatal',\n",
       " 'vitamin_a_deficiency_cat1_exposed_in_2022_among_early_neonatal',\n",
       " 'vitamin_a_deficiency_cat2_exposed_in_2022_among_early_neonatal',\n",
       " 'vitamin_a_deficiency_cat1_exposed_in_2023_among_early_neonatal',\n",
       " 'vitamin_a_deficiency_cat2_exposed_in_2023_among_early_neonatal',\n",
       " 'vitamin_a_deficiency_cat1_exposed_in_2017_among_late_neonatal',\n",
       " 'vitamin_a_deficiency_cat2_exposed_in_2017_among_late_neonatal',\n",
       " 'vitamin_a_deficiency_cat1_exposed_in_2018_among_late_neonatal',\n",
       " 'vitamin_a_deficiency_cat2_exposed_in_2018_among_late_neonatal',\n",
       " 'vitamin_a_deficiency_cat1_exposed_in_2019_among_late_neonatal',\n",
       " 'vitamin_a_deficiency_cat2_exposed_in_2019_among_late_neonatal',\n",
       " 'vitamin_a_deficiency_cat1_exposed_in_2020_among_late_neonatal',\n",
       " 'vitamin_a_deficiency_cat2_exposed_in_2020_among_late_neonatal',\n",
       " 'vitamin_a_deficiency_cat1_exposed_in_2021_among_late_neonatal',\n",
       " 'vitamin_a_deficiency_cat2_exposed_in_2021_among_late_neonatal',\n",
       " 'vitamin_a_deficiency_cat1_exposed_in_2022_among_late_neonatal',\n",
       " 'vitamin_a_deficiency_cat2_exposed_in_2022_among_late_neonatal',\n",
       " 'vitamin_a_deficiency_cat1_exposed_in_2023_among_late_neonatal',\n",
       " 'vitamin_a_deficiency_cat2_exposed_in_2023_among_late_neonatal',\n",
       " 'vitamin_a_deficiency_cat1_exposed_in_2017_among_post_neonatal',\n",
       " 'vitamin_a_deficiency_cat2_exposed_in_2017_among_post_neonatal',\n",
       " 'vitamin_a_deficiency_cat1_exposed_in_2018_among_post_neonatal',\n",
       " 'vitamin_a_deficiency_cat2_exposed_in_2018_among_post_neonatal',\n",
       " 'vitamin_a_deficiency_cat1_exposed_in_2019_among_post_neonatal',\n",
       " 'vitamin_a_deficiency_cat2_exposed_in_2019_among_post_neonatal',\n",
       " 'vitamin_a_deficiency_cat1_exposed_in_2020_among_post_neonatal',\n",
       " 'vitamin_a_deficiency_cat2_exposed_in_2020_among_post_neonatal',\n",
       " 'vitamin_a_deficiency_cat1_exposed_in_2021_among_post_neonatal',\n",
       " 'vitamin_a_deficiency_cat2_exposed_in_2021_among_post_neonatal',\n",
       " 'vitamin_a_deficiency_cat1_exposed_in_2022_among_post_neonatal',\n",
       " 'vitamin_a_deficiency_cat2_exposed_in_2022_among_post_neonatal',\n",
       " 'vitamin_a_deficiency_cat1_exposed_in_2023_among_post_neonatal',\n",
       " 'vitamin_a_deficiency_cat2_exposed_in_2023_among_post_neonatal',\n",
       " 'vitamin_a_deficiency_cat1_exposed_in_2017_among_1_to_4',\n",
       " 'vitamin_a_deficiency_cat2_exposed_in_2017_among_1_to_4',\n",
       " 'vitamin_a_deficiency_cat1_exposed_in_2018_among_1_to_4',\n",
       " 'vitamin_a_deficiency_cat2_exposed_in_2018_among_1_to_4',\n",
       " 'vitamin_a_deficiency_cat1_exposed_in_2019_among_1_to_4',\n",
       " 'vitamin_a_deficiency_cat2_exposed_in_2019_among_1_to_4',\n",
       " 'vitamin_a_deficiency_cat1_exposed_in_2020_among_1_to_4',\n",
       " 'vitamin_a_deficiency_cat2_exposed_in_2020_among_1_to_4',\n",
       " 'vitamin_a_deficiency_cat1_exposed_in_2021_among_1_to_4',\n",
       " 'vitamin_a_deficiency_cat2_exposed_in_2021_among_1_to_4',\n",
       " 'vitamin_a_deficiency_cat1_exposed_in_2022_among_1_to_4',\n",
       " 'vitamin_a_deficiency_cat2_exposed_in_2022_among_1_to_4',\n",
       " 'vitamin_a_deficiency_cat1_exposed_in_2023_among_1_to_4',\n",
       " 'vitamin_a_deficiency_cat2_exposed_in_2023_among_1_to_4',\n",
       " 'supplemented_days_in_2017',\n",
       " 'supplemented_days_in_2018',\n",
       " 'supplemented_days_in_2019',\n",
       " 'supplemented_days_in_2020',\n",
       " 'supplemented_days_in_2021',\n",
       " 'supplemented_days_in_2022',\n",
       " 'supplemented_days_in_2023',\n",
       " 'measles_prevalent_cases_at_sim_end',\n",
       " 'diarrheal_diseases_prevalent_cases_at_sim_end',\n",
       " 'lower_respiratory_infections_prevalent_cases_at_sim_end',\n",
       " 'susceptible_to_measles_event_count',\n",
       " 'measles_event_count',\n",
       " 'recovered_from_measles_event_count',\n",
       " 'susceptible_to_diarrheal_diseases_event_count',\n",
       " 'diarrheal_diseases_event_count',\n",
       " 'susceptible_to_lower_respiratory_infections_event_count',\n",
       " 'lower_respiratory_infections_event_count',\n",
       " 'input_draw',\n",
       " 'random_seed',\n",
       " 'person_time_in_2017',\n",
       " 'person_time_in_2018',\n",
       " 'person_time_in_2019',\n",
       " 'person_time_in_2020',\n",
       " 'person_time_in_2021',\n",
       " 'person_time_in_2022',\n",
       " 'person_time_in_2023',\n",
       " 'ylls_due_to_measles_in_2017',\n",
       " 'ylls_due_to_diarrheal_diseases_in_2017',\n",
       " 'ylls_due_to_lower_respiratory_infections_in_2017',\n",
       " 'ylls_due_to_other_causes_in_2017',\n",
       " 'ylls_due_to_measles_in_2018',\n",
       " 'ylls_due_to_diarrheal_diseases_in_2018',\n",
       " 'ylls_due_to_lower_respiratory_infections_in_2018',\n",
       " 'ylls_due_to_other_causes_in_2018',\n",
       " 'ylls_due_to_diarrheal_diseases_in_2019',\n",
       " 'ylls_due_to_lower_respiratory_infections_in_2019',\n",
       " 'ylls_due_to_other_causes_in_2019',\n",
       " 'ylls_due_to_diarrheal_diseases_in_2020',\n",
       " 'ylls_due_to_lower_respiratory_infections_in_2020',\n",
       " 'ylls_due_to_other_causes_in_2020',\n",
       " 'ylls_due_to_diarrheal_diseases_in_2021',\n",
       " 'ylls_due_to_lower_respiratory_infections_in_2021',\n",
       " 'ylls_due_to_other_causes_in_2021',\n",
       " 'ylls_due_to_measles_in_2022',\n",
       " 'ylls_due_to_diarrheal_diseases_in_2022',\n",
       " 'ylls_due_to_lower_respiratory_infections_in_2022',\n",
       " 'ylls_due_to_other_causes_in_2022',\n",
       " 'ylls_due_to_measles_in_2023',\n",
       " 'ylls_due_to_diarrheal_diseases_in_2023',\n",
       " 'ylls_due_to_lower_respiratory_infections_in_2023',\n",
       " 'ylls_due_to_other_causes_in_2023',\n",
       " 'years_of_life_lost',\n",
       " 'years_lived_with_disability',\n",
       " 'ylds_due_to_measles',\n",
       " 'ylds_due_to_diarrheal_diseases',\n",
       " 'ylds_due_to_lower_respiratory_infections',\n",
       " 'simulation_run_time',\n",
       " 'target_coverage',\n",
       " 'vitamin_a_supplementation']"
      ]
     },
     "execution_count": 27,
     "metadata": {},
     "output_type": "execute_result"
    }
   ],
   "source": [
    "dfb = dfb.iloc[:, :]\n",
    "list(dfb.columns)"
   ]
  },
  {
   "cell_type": "code",
   "execution_count": 28,
   "metadata": {},
   "outputs": [
    {
     "name": "stdout",
     "output_type": "stream",
     "text": [
      "Exposure in 2017 is 0.28727412012891634\n",
      "Exposure in 2018 is 0.28658032193815136\n",
      "Exposure in 2019 is 0.2856776820013055\n",
      "Exposure in 2020 is 0.28483701573746834\n",
      "Exposure in 2021 is 0.2837992638195431\n",
      "Exposure in 2022 is 0.2838842658693106\n",
      "Exposure in 2023 is 0.2840217468522582\n"
     ]
    }
   ],
   "source": [
    "dfb['exposure_2017'] = dfb.vitamin_a_deficiency_cat1_exposed_in_2017_among_1_to_4/(dfb.vitamin_a_deficiency_cat1_exposed_in_2017_among_1_to_4 + dfb.vitamin_a_deficiency_cat2_exposed_in_2017_among_1_to_4)\n",
    "print(\"Exposure in 2017 is \" + str(dfb.exposure_2017.mean()))\n",
    "dfb['exposure_2018'] = dfb.vitamin_a_deficiency_cat1_exposed_in_2018_among_1_to_4/(dfb.vitamin_a_deficiency_cat1_exposed_in_2018_among_1_to_4 + dfb.vitamin_a_deficiency_cat2_exposed_in_2018_among_1_to_4)\n",
    "print(\"Exposure in 2018 is \" + str(dfb.exposure_2018.mean()))\n",
    "dfb['exposure_2019'] = dfb.vitamin_a_deficiency_cat1_exposed_in_2019_among_1_to_4/(dfb.vitamin_a_deficiency_cat1_exposed_in_2019_among_1_to_4 + dfb.vitamin_a_deficiency_cat2_exposed_in_2019_among_1_to_4)\n",
    "print(\"Exposure in 2019 is \" + str(dfb.exposure_2019.mean()))\n",
    "dfb['exposure_2020'] = dfb.vitamin_a_deficiency_cat1_exposed_in_2020_among_1_to_4/(dfb.vitamin_a_deficiency_cat1_exposed_in_2020_among_1_to_4 + dfb.vitamin_a_deficiency_cat2_exposed_in_2020_among_1_to_4)\n",
    "print(\"Exposure in 2020 is \" + str(dfb.exposure_2020.mean()))\n",
    "dfb['exposure_2021'] = dfb.vitamin_a_deficiency_cat1_exposed_in_2021_among_1_to_4/(dfb.vitamin_a_deficiency_cat1_exposed_in_2021_among_1_to_4 + dfb.vitamin_a_deficiency_cat2_exposed_in_2021_among_1_to_4)\n",
    "print(\"Exposure in 2021 is \" + str(dfb.exposure_2021.mean()))\n",
    "dfb['exposure_2022'] = dfb.vitamin_a_deficiency_cat1_exposed_in_2022_among_1_to_4/(dfb.vitamin_a_deficiency_cat1_exposed_in_2022_among_1_to_4 + dfb.vitamin_a_deficiency_cat2_exposed_in_2022_among_1_to_4)\n",
    "print(\"Exposure in 2022 is \" + str(dfb.exposure_2022.mean()))\n",
    "dfb['exposure_2023'] = dfb.vitamin_a_deficiency_cat1_exposed_in_2023_among_1_to_4/(dfb.vitamin_a_deficiency_cat1_exposed_in_2023_among_1_to_4 + dfb.vitamin_a_deficiency_cat2_exposed_in_2023_among_1_to_4)\n",
    "print(\"Exposure in 2023 is \" + str(dfb.exposure_2023.mean()))\n",
    "exposure_Burkina_Faso = [dfb.exposure_2017.mean(), dfb.exposure_2018.mean(), dfb.exposure_2019.mean(), dfb.exposure_2020.mean(), \n",
    "                  dfb.exposure_2021.mean(), dfb.exposure_2022.mean(), dfb.exposure_2023.mean()]"
   ]
  },
  {
   "cell_type": "code",
   "execution_count": 29,
   "metadata": {},
   "outputs": [],
   "source": [
    "py_17 = dfb.person_time_in_2017.mean()\n",
    "py_18 = dfb.person_time_in_2018.mean()\n",
    "py_19 = dfb.person_time_in_2019.mean()\n",
    "py_20 = dfb.person_time_in_2020.mean()\n",
    "py_21 = dfb.person_time_in_2021.mean()\n",
    "py_22 = dfb.person_time_in_2022.mean()\n",
    "py_23 = dfb.person_time_in_2023.mean()"
   ]
  },
  {
   "cell_type": "code",
   "execution_count": 30,
   "metadata": {},
   "outputs": [],
   "source": [
    "dfb['yll_measles_per_py_17'] = dfb.ylls_due_to_measles_in_2017 / py_17\n",
    "dfb['yll_diarrhea_per_py_17'] = dfb.ylls_due_to_diarrheal_diseases_in_2017 / py_17\n",
    "dfb['yll_lri_per_py_17'] = dfb.ylls_due_to_lower_respiratory_infections_in_2017 / py_17\n",
    "dfb['yll_per_py_17'] = dfb.yll_measles_per_py_17 + dfb.yll_diarrhea_per_py_17 + dfb.yll_lri_per_py_17\n",
    "\n",
    "dfb['yld_measles_per_py_17'] = dfb.ylds_due_to_measles / py_17\n",
    "dfb['yld_diarrhea_per_py_17'] = dfb.ylds_due_to_diarrheal_diseases / py_17\n",
    "dfb['yld_lri_per_py_17'] = dfb.ylds_due_to_lower_respiratory_infections / py_17\n",
    "dfb['yld_per_py_17'] = dfb.yld_measles_per_py_17 + dfb.yld_diarrhea_per_py_17 + dfb.yld_lri_per_py_17\n",
    "\n",
    "dfb['daly_measles_per_py_17'] = dfb.yll_measles_per_py_17 + dfb.yld_measles_per_py_17\n",
    "dfb['daly_diarrhea_per_py_17'] = dfb.yll_diarrhea_per_py_17 + dfb.yld_diarrhea_per_py_17\n",
    "dfb['daly_lri_per_py_17'] = dfb.yll_lri_per_py_17 + dfb.yld_lri_per_py_17\n",
    "dfb['daly_per_py_17'] = dfb.daly_measles_per_py_17 + dfb.daly_diarrhea_per_py_17 + dfb.daly_lri_per_py_17"
   ]
  },
  {
   "cell_type": "code",
   "execution_count": 31,
   "metadata": {},
   "outputs": [],
   "source": [
    "dfb['yll_measles_per_py_18'] = dfb.ylls_due_to_measles_in_2018 / py_18\n",
    "dfb['yll_diarrhea_per_py_18'] = dfb.ylls_due_to_diarrheal_diseases_in_2018 / py_18\n",
    "dfb['yll_lri_per_py_18'] = dfb.ylls_due_to_lower_respiratory_infections_in_2018 / py_18\n",
    "dfb['yll_per_py_18'] = dfb.yll_measles_per_py_18 + dfb.yll_diarrhea_per_py_18 + dfb.yll_lri_per_py_18\n",
    "\n",
    "dfb['yld_measles_per_py_18'] = dfb.ylds_due_to_measles / py_18\n",
    "dfb['yld_diarrhea_per_py_18'] = dfb.ylds_due_to_diarrheal_diseases / py_18\n",
    "dfb['yld_lri_per_py_18'] = dfb.ylds_due_to_lower_respiratory_infections / py_18\n",
    "dfb['yld_per_py_18'] = dfb.yld_measles_per_py_18 + dfb.yld_diarrhea_per_py_18 + dfb.yld_lri_per_py_18\n",
    "\n",
    "dfb['daly_measles_per_py_18'] = dfb.yll_measles_per_py_18 + dfb.yld_measles_per_py_18\n",
    "dfb['daly_diarrhea_per_py_18'] = dfb.yll_diarrhea_per_py_18 + dfb.yld_diarrhea_per_py_18\n",
    "dfb['daly_lri_per_py_18'] = dfb.yll_lri_per_py_18 + dfb.yld_lri_per_py_18\n",
    "dfb['daly_per_py_18'] = dfb.daly_measles_per_py_18 + dfb.daly_diarrhea_per_py_18 + dfb.daly_lri_per_py_18"
   ]
  },
  {
   "cell_type": "code",
   "execution_count": 32,
   "metadata": {},
   "outputs": [],
   "source": [
    "dfb['yll_measles_per_py_19'] = dfb.ylls_due_to_measles_in_2019 / py_19\n",
    "dfb['yll_diarrhea_per_py_19'] = dfb.ylls_due_to_diarrheal_diseases_in_2019 / py_19\n",
    "dfb['yll_lri_per_py_19'] = dfb.ylls_due_to_lower_respiratory_infections_in_2019 / py_19\n",
    "dfb['yll_per_py_19'] = dfb.yll_measles_per_py_19 + dfb.yll_diarrhea_per_py_19 + dfb.yll_lri_per_py_19\n",
    "\n",
    "dfb['yld_measles_per_py_19'] = dfb.ylds_due_to_measles / py_19\n",
    "dfb['yld_diarrhea_per_py_19'] = dfb.ylds_due_to_diarrheal_diseases / py_19\n",
    "dfb['yld_lri_per_py_19'] = dfb.ylds_due_to_lower_respiratory_infections / py_19\n",
    "dfb['yld_per_py_19'] = dfb.yld_measles_per_py_19 + dfb.yld_diarrhea_per_py_19 + dfb.yld_lri_per_py_19\n",
    "\n",
    "dfb['daly_measles_per_py_19'] = dfb.yll_measles_per_py_19 + dfb.yld_measles_per_py_19\n",
    "dfb['daly_diarrhea_per_py_19'] = dfb.yll_diarrhea_per_py_19 + dfb.yld_diarrhea_per_py_19\n",
    "dfb['daly_lri_per_py_19'] = dfb.yll_lri_per_py_19 + dfb.yld_lri_per_py_19\n",
    "dfb['daly_per_py_19'] = dfb.daly_measles_per_py_19 + dfb.daly_diarrhea_per_py_19 + dfb.daly_lri_per_py_19"
   ]
  },
  {
   "cell_type": "code",
   "execution_count": 33,
   "metadata": {},
   "outputs": [],
   "source": [
    "dfb['yll_measles_per_py_20'] = dfb.ylls_due_to_measles_in_2020 / py_20\n",
    "dfb['yll_diarrhea_per_py_20'] = dfb.ylls_due_to_diarrheal_diseases_in_2020 / py_20\n",
    "dfb['yll_lri_per_py_20'] = dfb.ylls_due_to_lower_respiratory_infections_in_2020 / py_20\n",
    "dfb['yll_per_py_20'] = dfb.yll_measles_per_py_20 + dfb.yll_diarrhea_per_py_20 + dfb.yll_lri_per_py_20\n",
    "\n",
    "dfb['yld_measles_per_py_20'] = dfb.ylds_due_to_measles / py_20\n",
    "dfb['yld_diarrhea_per_py_20'] = dfb.ylds_due_to_diarrheal_diseases / py_20\n",
    "dfb['yld_lri_per_py_20'] = dfb.ylds_due_to_lower_respiratory_infections / py_20\n",
    "dfb['yld_per_py_20'] = dfb.yld_measles_per_py_20 + dfb.yld_diarrhea_per_py_20 + dfb.yld_lri_per_py_20\n",
    "\n",
    "dfb['daly_measles_per_py_20'] = dfb.yll_measles_per_py_20 + dfb.yld_measles_per_py_20\n",
    "dfb['daly_diarrhea_per_py_20'] = dfb.yll_diarrhea_per_py_20 + dfb.yld_diarrhea_per_py_20\n",
    "dfb['daly_lri_per_py_20'] = dfb.yll_lri_per_py_20 + dfb.yld_lri_per_py_20\n",
    "dfb['daly_per_py_20'] = dfb.daly_measles_per_py_20 + dfb.daly_diarrhea_per_py_20 + dfb.daly_lri_per_py_20"
   ]
  },
  {
   "cell_type": "code",
   "execution_count": 34,
   "metadata": {},
   "outputs": [],
   "source": [
    "dfb['yll_measles_per_py_21'] = dfb.ylls_due_to_measles_in_2021 / py_21\n",
    "dfb['yll_diarrhea_per_py_21'] = dfb.ylls_due_to_diarrheal_diseases_in_2021 / py_21\n",
    "dfb['yll_lri_per_py_21'] = dfb.ylls_due_to_lower_respiratory_infections_in_2021 / py_21\n",
    "dfb['yll_per_py_21'] = dfb.yll_measles_per_py_21 + dfb.yll_diarrhea_per_py_21 + dfb.yll_lri_per_py_21\n",
    "\n",
    "dfb['yld_measles_per_py_21'] = dfb.ylds_due_to_measles / py_21\n",
    "dfb['yld_diarrhea_per_py_21'] = dfb.ylds_due_to_diarrheal_diseases / py_21\n",
    "dfb['yld_lri_per_py_21'] = dfb.ylds_due_to_lower_respiratory_infections / py_21\n",
    "dfb['yld_per_py_21'] = dfb.yld_measles_per_py_21 + dfb.yld_diarrhea_per_py_21 + dfb.yld_lri_per_py_21\n",
    "\n",
    "dfb['daly_measles_per_py_21'] = dfb.yll_measles_per_py_21 + dfb.yld_measles_per_py_21\n",
    "dfb['daly_diarrhea_per_py_21'] = dfb.yll_diarrhea_per_py_21 + dfb.yld_diarrhea_per_py_21\n",
    "dfb['daly_lri_per_py_21'] = dfb.yll_lri_per_py_21 + dfb.yld_lri_per_py_21\n",
    "dfb['daly_per_py_21'] = dfb.daly_measles_per_py_21 + dfb.daly_diarrhea_per_py_21 + dfb.daly_lri_per_py_21"
   ]
  },
  {
   "cell_type": "code",
   "execution_count": 35,
   "metadata": {},
   "outputs": [],
   "source": [
    "dfb['yll_measles_per_py_22'] = dfb.ylls_due_to_measles_in_2022 / py_22\n",
    "dfb['yll_diarrhea_per_py_22'] = dfb.ylls_due_to_diarrheal_diseases_in_2022 / py_22\n",
    "dfb['yll_lri_per_py_22'] = dfb.ylls_due_to_lower_respiratory_infections_in_2022 / py_22\n",
    "dfb['yll_per_py_22'] = dfb.yll_measles_per_py_22 + dfb.yll_diarrhea_per_py_22 + dfb.yll_lri_per_py_22\n",
    "\n",
    "dfb['yld_measles_per_py_22'] = dfb.ylds_due_to_measles / py_22\n",
    "dfb['yld_diarrhea_per_py_22'] = dfb.ylds_due_to_diarrheal_diseases / py_22\n",
    "dfb['yld_lri_per_py_22'] = dfb.ylds_due_to_lower_respiratory_infections / py_22\n",
    "dfb['yld_per_py_22'] = dfb.yld_measles_per_py_22 + dfb.yld_diarrhea_per_py_22 + dfb.yld_lri_per_py_22\n",
    "\n",
    "dfb['daly_measles_per_py_22'] = dfb.yll_measles_per_py_22 + dfb.yld_measles_per_py_22\n",
    "dfb['daly_diarrhea_per_py_22'] = dfb.yll_diarrhea_per_py_22 + dfb.yld_diarrhea_per_py_22\n",
    "dfb['daly_lri_per_py_22'] = dfb.yll_lri_per_py_22 + dfb.yld_lri_per_py_22\n",
    "dfb['daly_per_py_22'] = dfb.daly_measles_per_py_22 + dfb.daly_diarrhea_per_py_22 + dfb.daly_lri_per_py_22"
   ]
  },
  {
   "cell_type": "code",
   "execution_count": 36,
   "metadata": {},
   "outputs": [],
   "source": [
    "dfb['yll_measles_per_py_23'] = dfb.ylls_due_to_measles_in_2023 / py_23\n",
    "dfb['yll_diarrhea_per_py_23'] = dfb.ylls_due_to_diarrheal_diseases_in_2023 / py_23\n",
    "dfb['yll_lri_per_py_23'] = dfb.ylls_due_to_lower_respiratory_infections_in_2023 / py_23\n",
    "dfb['yll_per_py_23'] = dfb.yll_measles_per_py_23 + dfb.yll_diarrhea_per_py_23 + dfb.yll_lri_per_py_23\n",
    "\n",
    "dfb['yld_measles_per_py_23'] = dfb.ylds_due_to_measles / py_23\n",
    "dfb['yld_diarrhea_per_py_23'] = dfb.ylds_due_to_diarrheal_diseases / py_23\n",
    "dfb['yld_lri_per_py_23'] = dfb.ylds_due_to_lower_respiratory_infections / py_23\n",
    "dfb['yld_per_py_23'] = dfb.yld_measles_per_py_23 + dfb.yld_diarrhea_per_py_23 + dfb.yld_lri_per_py_23\n",
    "\n",
    "dfb['daly_measles_per_py_23'] = dfb.yll_measles_per_py_23 + dfb.yld_measles_per_py_23\n",
    "dfb['daly_diarrhea_per_py_23'] = dfb.yll_diarrhea_per_py_23 + dfb.yld_diarrhea_per_py_23\n",
    "dfb['daly_lri_per_py_23'] = dfb.yll_lri_per_py_23 + dfb.yld_lri_per_py_23\n",
    "dfb['daly_per_py_23'] = dfb.daly_measles_per_py_23 + dfb.daly_diarrhea_per_py_23 + dfb.daly_lri_per_py_23"
   ]
  },
  {
   "cell_type": "code",
   "execution_count": 37,
   "metadata": {},
   "outputs": [
    {
     "name": "stdout",
     "output_type": "stream",
     "text": [
      "Overall DALY rate in 2017: 0.4652332426606484\n",
      "Rate of DALYs from measles in 2017: 0.01969824184535872\n",
      "Rate of DALYs from diarrheal diseases in 2017: 0.2175042340138637\n",
      "Rate of DALYs from lower respiratory infections in 2017: 0.22803076680142598\n"
     ]
    }
   ],
   "source": [
    "print(\"Overall DALY rate in 2017: \" + str(dfb.daly_per_py_17.mean()))\n",
    "print(\"Rate of DALYs from measles in 2017: \" + str(dfb.daly_measles_per_py_17.mean()))\n",
    "print(\"Rate of DALYs from diarrheal diseases in 2017: \" + str(dfb.daly_diarrhea_per_py_17.mean()))\n",
    "print(\"Rate of DALYs from lower respiratory infections in 2017: \" + str(dfb.daly_lri_per_py_17.mean()))"
   ]
  },
  {
   "cell_type": "code",
   "execution_count": 38,
   "metadata": {},
   "outputs": [
    {
     "name": "stdout",
     "output_type": "stream",
     "text": [
      "Overall DALY rate in 2018: 0.46679630237778197\n",
      "Rate of DALYs from measles in 2018: 0.016976598496735464\n",
      "Rate of DALYs from diarrheal diseases in 2018: 0.21993036481605013\n",
      "Rate of DALYs from lower respiratory infections in 2018: 0.22988933906499626\n"
     ]
    }
   ],
   "source": [
    "print(\"Overall DALY rate in 2018: \" + str(dfb.daly_per_py_18.mean()))\n",
    "print(\"Rate of DALYs from measles in 2018: \" + str(dfb.daly_measles_per_py_18.mean()))\n",
    "print(\"Rate of DALYs from diarrheal diseases in 2018: \" + str(dfb.daly_diarrhea_per_py_18.mean()))\n",
    "print(\"Rate of DALYs from lower respiratory infections in 2018: \" + str(dfb.daly_lri_per_py_18.mean()))"
   ]
  },
  {
   "cell_type": "code",
   "execution_count": 39,
   "metadata": {},
   "outputs": [
    {
     "name": "stdout",
     "output_type": "stream",
     "text": [
      "Overall DALY rate in 2019: 0.4647553210811566\n",
      "Rate of DALYs from measles in 2019: 0.01897151944312091\n",
      "Rate of DALYs from diarrheal diseases in 2019: 0.21169509204362633\n",
      "Rate of DALYs from lower respiratory infections in 2019: 0.23408870959440936\n"
     ]
    }
   ],
   "source": [
    "print(\"Overall DALY rate in 2019: \" + str(dfb.daly_per_py_19.mean()))\n",
    "print(\"Rate of DALYs from measles in 2019: \" + str(dfb.daly_measles_per_py_19.mean()))\n",
    "print(\"Rate of DALYs from diarrheal diseases in 2019: \" + str(dfb.daly_diarrhea_per_py_19.mean()))\n",
    "print(\"Rate of DALYs from lower respiratory infections in 2019: \" + str(dfb.daly_lri_per_py_19.mean()))"
   ]
  },
  {
   "cell_type": "code",
   "execution_count": 40,
   "metadata": {},
   "outputs": [
    {
     "name": "stdout",
     "output_type": "stream",
     "text": [
      "Overall DALY rate in 2020: 0.4711639829740708\n",
      "Rate of DALYs from measles in 2020: 0.01976153501393512\n",
      "Rate of DALYs from diarrheal diseases in 2020: 0.21683051997354658\n",
      "Rate of DALYs from lower respiratory infections in 2020: 0.23457192798658924\n"
     ]
    }
   ],
   "source": [
    "print(\"Overall DALY rate in 2020: \" + str(dfb.daly_per_py_20.mean()))\n",
    "print(\"Rate of DALYs from measles in 2020: \" + str(dfb.daly_measles_per_py_20.mean()))\n",
    "print(\"Rate of DALYs from diarrheal diseases in 2020: \" + str(dfb.daly_diarrhea_per_py_20.mean()))\n",
    "print(\"Rate of DALYs from lower respiratory infections in 2020: \" + str(dfb.daly_lri_per_py_20.mean()))"
   ]
  },
  {
   "cell_type": "code",
   "execution_count": 41,
   "metadata": {},
   "outputs": [
    {
     "name": "stdout",
     "output_type": "stream",
     "text": [
      "Overall DALY rate in 2021: 0.4660012064223449\n",
      "Rate of DALYs from measles in 2021: 0.01786189490352819\n",
      "Rate of DALYs from diarrheal diseases in 2021: 0.21582352423180853\n",
      "Rate of DALYs from lower respiratory infections in 2021: 0.23231578728700827\n"
     ]
    }
   ],
   "source": [
    "print(\"Overall DALY rate in 2021: \" + str(dfb.daly_per_py_21.mean()))\n",
    "print(\"Rate of DALYs from measles in 2021: \" + str(dfb.daly_measles_per_py_21.mean()))\n",
    "print(\"Rate of DALYs from diarrheal diseases in 2021: \" + str(dfb.daly_diarrhea_per_py_21.mean()))\n",
    "print(\"Rate of DALYs from lower respiratory infections in 2021: \" + str(dfb.daly_lri_per_py_21.mean()))"
   ]
  },
  {
   "cell_type": "code",
   "execution_count": 42,
   "metadata": {},
   "outputs": [
    {
     "name": "stdout",
     "output_type": "stream",
     "text": [
      "Overall DALY rate in 2022: 0.4631356870376176\n",
      "Rate of DALYs from measles in 2022: 0.01775980906083303\n",
      "Rate of DALYs from diarrheal diseases in 2022: 0.2122059416857396\n",
      "Rate of DALYs from lower respiratory infections in 2022: 0.23316993629104496\n"
     ]
    }
   ],
   "source": [
    "print(\"Overall DALY rate in 2022: \" + str(dfb.daly_per_py_22.mean()))\n",
    "print(\"Rate of DALYs from measles in 2022: \" + str(dfb.daly_measles_per_py_22.mean()))\n",
    "print(\"Rate of DALYs from diarrheal diseases in 2022: \" + str(dfb.daly_diarrhea_per_py_22.mean()))\n",
    "print(\"Rate of DALYs from lower respiratory infections in 2022: \" + str(dfb.daly_lri_per_py_22.mean()))"
   ]
  },
  {
   "cell_type": "code",
   "execution_count": 43,
   "metadata": {},
   "outputs": [
    {
     "name": "stdout",
     "output_type": "stream",
     "text": [
      "Overall DALY rate in 2023: 0.4548186986446301\n",
      "Rate of DALYs from measles in 2023: 0.015462386706099444\n",
      "Rate of DALYs from diarrheal diseases in 2023: 0.21256355965795656\n",
      "Rate of DALYs from lower respiratory infections in 2023: 0.22679275228057402\n"
     ]
    }
   ],
   "source": [
    "print(\"Overall DALY rate in 2023: \" + str(dfb.daly_per_py_23.mean()))\n",
    "print(\"Rate of DALYs from measles in 2023: \" + str(dfb.daly_measles_per_py_23.mean()))\n",
    "print(\"Rate of DALYs from diarrheal diseases in 2023: \" + str(dfb.daly_diarrhea_per_py_23.mean()))\n",
    "print(\"Rate of DALYs from lower respiratory infections in 2023: \" + str(dfb.daly_lri_per_py_23.mean()))"
   ]
  },
  {
   "cell_type": "code",
   "execution_count": 44,
   "metadata": {
    "scrolled": true
   },
   "outputs": [
    {
     "name": "stdout",
     "output_type": "stream",
     "text": [
      "DALYs averted per 100,000 person-years in 2019: 0.0\n",
      "DALYs averted per 100,000 person-years in 2020: 0.0\n",
      "DALYs averted per 100,000 person-years in 2021: -5.551115123125783e-12\n",
      "DALYs averted per 100,000 person-years in 2022: -5.551115123125783e-12\n",
      "DALYs averted per 100,000 person-years in 2023: 0.0\n"
     ]
    }
   ],
   "source": [
    "df['daly_averted_per_py_19'] = (dfb.daly_per_py_19.mean() - df.daly_per_py_19.mean())\n",
    "df['daly_averted_per_py_20'] = (dfb.daly_per_py_20.mean() - df.daly_per_py_20.mean())\n",
    "df['daly_averted_per_py_21'] = (dfb.daly_per_py_21.mean() - df.daly_per_py_21.mean())\n",
    "df['daly_averted_per_py_22'] = (dfb.daly_per_py_22.mean() - df.daly_per_py_22.mean())\n",
    "df['daly_averted_per_py_23'] = (dfb.daly_per_py_23.mean() - df.daly_per_py_23.mean())\n",
    "\n",
    "print(\"DALYs averted per 100,000 person-years in 2019: \" + str(df.daly_averted_per_py_19.mean() * 100000))\n",
    "print(\"DALYs averted per 100,000 person-years in 2020: \" + str(df.daly_averted_per_py_20.mean() * 100000))\n",
    "print(\"DALYs averted per 100,000 person-years in 2021: \" + str(df.daly_averted_per_py_21.mean() * 100000))\n",
    "print(\"DALYs averted per 100,000 person-years in 2022: \" + str(df.daly_averted_per_py_22.mean() * 100000))\n",
    "print(\"DALYs averted per 100,000 person-years in 2023: \" + str(df.daly_averted_per_py_23.mean() * 100000))\n",
    "averted_Burkina_Faso = np.array([df.daly_averted_per_py_19.mean() * 100000, df.daly_averted_per_py_20.mean() * 100000, \n",
    "                  df.daly_averted_per_py_21.mean() * 100000, df.daly_averted_per_py_22.mean() * 100000, \n",
    "                  df.daly_averted_per_py_23.mean() * 100000])"
   ]
  },
  {
   "cell_type": "code",
   "execution_count": 45,
   "metadata": {},
   "outputs": [
    {
     "name": "stdout",
     "output_type": "stream",
     "text": [
      "[0.88 0.88 0.88 0.88 0.88 0.88 0.88]\n",
      "[3530140.75 4195756.5  4849854.14 5520028.86 6159415.24 6814790.14\n",
      " 7468563.48]\n"
     ]
    }
   ],
   "source": [
    "coverages = np.append(np.array([cov_base]), np.linspace(cov_base, cov_base, 6))\n",
    "print(coverages)\n",
    "\n",
    "supplemented = np.array([df.supplemented_days_in_2017.mean(), df.supplemented_days_in_2018.mean(), df.supplemented_days_in_2019.mean(),\n",
    "                         df.supplemented_days_in_2020.mean(), df.supplemented_days_in_2021.mean(), df.supplemented_days_in_2022.mean(),\n",
    "                         df.supplemented_days_in_2023.mean()])\n",
    "\n",
    "print(supplemented)"
   ]
  },
  {
   "cell_type": "code",
   "execution_count": 46,
   "metadata": {},
   "outputs": [
    {
     "data": {
      "text/plain": [
       "40696707.86015999"
      ]
     },
     "execution_count": 46,
     "metadata": {},
     "output_type": "execute_result"
    }
   ],
   "source": [
    "unit_cost = 0.60 # UC Davis Paper\n",
    "\n",
    "doses = coverages * supplemented * 2\n",
    "total_baseline_cost = unit_cost * doses.sum()\n",
    "\n",
    "total_baseline_cost"
   ]
  },
  {
   "cell_type": "code",
   "execution_count": 47,
   "metadata": {},
   "outputs": [
    {
     "data": {
      "text/plain": [
       "-1.2836789727516091e+17"
      ]
     },
     "execution_count": 47,
     "metadata": {},
     "output_type": "execute_result"
    }
   ],
   "source": [
    "icer = (total_intervention_cost - total_baseline_cost) / averted_Burkina_Faso.sum()\n",
    "\n",
    "icer"
   ]
  },
  {
   "cell_type": "code",
   "execution_count": null,
   "metadata": {},
   "outputs": [],
   "source": []
  },
  {
   "cell_type": "code",
   "execution_count": null,
   "metadata": {},
   "outputs": [],
   "source": []
  },
  {
   "cell_type": "code",
   "execution_count": null,
   "metadata": {},
   "outputs": [],
   "source": []
  },
  {
   "cell_type": "code",
   "execution_count": 48,
   "metadata": {
    "scrolled": false
   },
   "outputs": [
    {
     "name": "stdout",
     "output_type": "stream",
     "text": [
      "DALYs per 100,000 person-years in 2017: 46523.32426606483\n",
      "DALYs per 100,000 person-years in 2018: 46679.63023777818\n",
      "DALYs per 100,000 person-years in 2019: 46475.53210811566\n",
      "DALYs per 100,000 person-years in 2020: 47116.39829740708\n",
      "DALYs per 100,000 person-years in 2021: 46600.12064223449\n",
      "DALYs per 100,000 person-years in 2022: 46313.56870376177\n",
      "DALYs per 100,000 person-years in 2023: 45481.869864463006\n"
     ]
    }
   ],
   "source": [
    "print(\"DALYs per 100,000 person-years in 2017: \" + str((df.daly_per_py_17.mean() * 100000)))\n",
    "print(\"DALYs per 100,000 person-years in 2018: \" + str((df.daly_per_py_18.mean() * 100000)))\n",
    "print(\"DALYs per 100,000 person-years in 2019: \" + str((df.daly_per_py_19.mean() * 100000)))\n",
    "print(\"DALYs per 100,000 person-years in 2020: \" + str((df.daly_per_py_20.mean() * 100000)))\n",
    "print(\"DALYs per 100,000 person-years in 2021: \" + str((df.daly_per_py_21.mean() * 100000)))\n",
    "print(\"DALYs per 100,000 person-years in 2022: \" + str((df.daly_per_py_22.mean() * 100000)))\n",
    "print(\"DALYs per 100,000 person-years in 2023: \" + str((df.daly_per_py_23.mean() * 100000)))\n",
    "dalys_Burkina_Faso = [df.daly_per_py_17.mean() * 100000, df.daly_per_py_18.mean() * 100000, df.daly_per_py_19.mean() * 100000, \n",
    "               df.daly_per_py_20.mean() * 100000, df.daly_per_py_21.mean() * 100000, df.daly_per_py_22.mean() * 100000, \n",
    "               df.daly_per_py_23.mean() * 100000]"
   ]
  },
  {
   "cell_type": "code",
   "execution_count": null,
   "metadata": {},
   "outputs": [],
   "source": []
  },
  {
   "cell_type": "code",
   "execution_count": null,
   "metadata": {},
   "outputs": [],
   "source": []
  }
 ],
 "metadata": {
  "kernelspec": {
   "display_name": "Python 3",
   "language": "python",
   "name": "python3"
  },
  "language_info": {
   "codemirror_mode": {
    "name": "ipython",
    "version": 3
   },
   "file_extension": ".py",
   "mimetype": "text/x-python",
   "name": "python",
   "nbconvert_exporter": "python",
   "pygments_lexer": "ipython3",
   "version": "3.6.8"
  }
 },
 "nbformat": 4,
 "nbformat_minor": 2
}
