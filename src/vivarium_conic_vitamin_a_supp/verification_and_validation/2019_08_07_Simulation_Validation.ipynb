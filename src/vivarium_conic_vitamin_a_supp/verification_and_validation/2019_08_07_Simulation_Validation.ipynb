{
 "cells": [
  {
   "cell_type": "code",
   "execution_count": 1,
   "metadata": {
    "scrolled": true
   },
   "outputs": [
    {
     "name": "stdout",
     "output_type": "stream",
     "text": [
      "Thu Aug  8 14:21:47 PDT 2019\n",
      "The autoreload extension is already loaded. To reload it, use:\n",
      "  %reload_ext autoreload\n"
     ]
    }
   ],
   "source": [
    "import numpy as np, pandas as pd, matplotlib.pyplot as plt\n",
    "pd.set_option('display.max_rows', 12)\n",
    "!date\n",
    "\n",
    "%reload_ext autoreload\n",
    "%load_ext autoreload\n",
    "%autoreload 2"
   ]
  },
  {
   "cell_type": "markdown",
   "metadata": {},
   "source": [
    "### Link to GBD data: http://internal2017.rancher-dev.ihme.washington.edu/gbd-search?params=gbd-api-2017-permalink/3fd46ef5adc2a80f4b82092b7a371607\n",
    "\n",
    "### More stratified: http://internal2017.rancher-dev.ihme.washington.edu/gbd-search?params=gbd-api-2017-permalink/66f261275a34a584b1cf53234c0f044b"
   ]
  },
  {
   "cell_type": "markdown",
   "metadata": {},
   "source": [
    "# Validate results of Vitamin A distributed run\n",
    "### Nigeria: Baseline Coverage = 0.32, Intrevention Coverage = 0.32"
   ]
  },
  {
   "cell_type": "code",
   "execution_count": 2,
   "metadata": {},
   "outputs": [
    {
     "name": "stdout",
     "output_type": "stream",
     "text": [
      "/share/costeffectiveness/results/nigeria/2019_08_08_13_11_40/output.hdf\n"
     ]
    }
   ],
   "source": [
    "# input_draw_count = 100 and population_size = 10_000\n",
    "proj = 'nigeria'\n",
    "time = '2019_08_08_13_11_40'\n",
    "\n",
    "fname = f'/share/costeffectiveness/results/{proj}/{time}/output.hdf'\n",
    "print(fname)"
   ]
  },
  {
   "cell_type": "code",
   "execution_count": 3,
   "metadata": {},
   "outputs": [],
   "source": [
    "cov_base = 0.32\n",
    "cov_tar = 0.32"
   ]
  },
  {
   "cell_type": "code",
   "execution_count": 4,
   "metadata": {},
   "outputs": [
    {
     "data": {
      "text/plain": [
       "(100, 69)"
      ]
     },
     "execution_count": 4,
     "metadata": {},
     "output_type": "execute_result"
    }
   ],
   "source": [
    "df = pd.read_hdf(fname)\n",
    "df = df.loc[df['vitamin_a_supplementation.target_coverage'] == cov_tar]\n",
    "df.shape"
   ]
  },
  {
   "cell_type": "code",
   "execution_count": 5,
   "metadata": {},
   "outputs": [
    {
     "data": {
      "text/plain": [
       "array([0.32])"
      ]
     },
     "execution_count": 5,
     "metadata": {},
     "output_type": "execute_result"
    }
   ],
   "source": [
    "df['vitamin_a_supplementation.target_coverage'].unique()"
   ]
  },
  {
   "cell_type": "code",
   "execution_count": 6,
   "metadata": {
    "scrolled": true
   },
   "outputs": [
    {
     "data": {
      "text/plain": [
       "['total_population_untracked',\n",
       " 'total_population_tracked',\n",
       " 'total_population',\n",
       " 'death_due_to_measles_in_2017_in_age_group_early_neonatal',\n",
       " 'death_due_to_measles_in_2017_in_age_group_late_neonatal',\n",
       " 'death_due_to_measles_in_2017_in_age_group_post_neonatal',\n",
       " 'death_due_to_measles_in_2017_in_age_group_1_to_4',\n",
       " 'death_due_to_diarrheal_diseases_in_2017_in_age_group_early_neonatal',\n",
       " 'death_due_to_diarrheal_diseases_in_2017_in_age_group_late_neonatal',\n",
       " 'death_due_to_diarrheal_diseases_in_2017_in_age_group_post_neonatal',\n",
       " 'death_due_to_diarrheal_diseases_in_2017_in_age_group_1_to_4',\n",
       " 'death_due_to_lower_respiratory_infections_in_2017_in_age_group_early_neonatal',\n",
       " 'death_due_to_lower_respiratory_infections_in_2017_in_age_group_late_neonatal',\n",
       " 'death_due_to_lower_respiratory_infections_in_2017_in_age_group_post_neonatal',\n",
       " 'death_due_to_lower_respiratory_infections_in_2017_in_age_group_1_to_4',\n",
       " 'death_due_to_other_causes_in_2017_in_age_group_early_neonatal',\n",
       " 'death_due_to_other_causes_in_2017_in_age_group_late_neonatal',\n",
       " 'death_due_to_other_causes_in_2017_in_age_group_post_neonatal',\n",
       " 'death_due_to_other_causes_in_2017_in_age_group_1_to_4',\n",
       " 'ylls_due_to_measles_in_2017_in_age_group_early_neonatal',\n",
       " 'ylls_due_to_measles_in_2017_in_age_group_late_neonatal',\n",
       " 'ylls_due_to_diarrheal_diseases_in_2017_in_age_group_early_neonatal',\n",
       " 'ylls_due_to_lower_respiratory_infections_in_2017_in_age_group_early_neonatal',\n",
       " 'total_population_living',\n",
       " 'total_population_dead',\n",
       " 'vitamin_a_deficiency_cat1_exposed_in_2017_among_early_neonatal',\n",
       " 'vitamin_a_deficiency_cat2_exposed_in_2017_among_early_neonatal',\n",
       " 'vitamin_a_deficiency_cat1_exposed_in_2017_among_late_neonatal',\n",
       " 'vitamin_a_deficiency_cat2_exposed_in_2017_among_late_neonatal',\n",
       " 'vitamin_a_deficiency_cat1_exposed_in_2017_among_post_neonatal',\n",
       " 'vitamin_a_deficiency_cat2_exposed_in_2017_among_post_neonatal',\n",
       " 'vitamin_a_deficiency_cat1_exposed_in_2017_among_1_to_4',\n",
       " 'vitamin_a_deficiency_cat2_exposed_in_2017_among_1_to_4',\n",
       " 'supplemented_days_in_2017',\n",
       " 'measles_prevalent_cases_at_sim_end',\n",
       " 'diarrheal_diseases_prevalent_cases_at_sim_end',\n",
       " 'lower_respiratory_infections_prevalent_cases_at_sim_end',\n",
       " 'susceptible_to_measles_event_count',\n",
       " 'measles_event_count',\n",
       " 'recovered_from_measles_event_count',\n",
       " 'susceptible_to_diarrheal_diseases_event_count',\n",
       " 'diarrheal_diseases_event_count',\n",
       " 'susceptible_to_lower_respiratory_infections_event_count',\n",
       " 'lower_respiratory_infections_event_count',\n",
       " 'input_draw',\n",
       " 'random_seed',\n",
       " 'person_time_in_2017_in_age_group_early_neonatal',\n",
       " 'person_time_in_2017_in_age_group_late_neonatal',\n",
       " 'person_time_in_2017_in_age_group_post_neonatal',\n",
       " 'person_time_in_2017_in_age_group_1_to_4',\n",
       " 'ylls_due_to_measles_in_2017_in_age_group_post_neonatal',\n",
       " 'ylls_due_to_measles_in_2017_in_age_group_1_to_4',\n",
       " 'ylls_due_to_diarrheal_diseases_in_2017_in_age_group_late_neonatal',\n",
       " 'ylls_due_to_diarrheal_diseases_in_2017_in_age_group_post_neonatal',\n",
       " 'ylls_due_to_diarrheal_diseases_in_2017_in_age_group_1_to_4',\n",
       " 'ylls_due_to_lower_respiratory_infections_in_2017_in_age_group_late_neonatal',\n",
       " 'ylls_due_to_lower_respiratory_infections_in_2017_in_age_group_post_neonatal',\n",
       " 'ylls_due_to_lower_respiratory_infections_in_2017_in_age_group_1_to_4',\n",
       " 'ylls_due_to_other_causes_in_2017_in_age_group_early_neonatal',\n",
       " 'ylls_due_to_other_causes_in_2017_in_age_group_late_neonatal',\n",
       " 'ylls_due_to_other_causes_in_2017_in_age_group_post_neonatal',\n",
       " 'ylls_due_to_other_causes_in_2017_in_age_group_1_to_4',\n",
       " 'years_of_life_lost',\n",
       " 'years_lived_with_disability',\n",
       " 'ylds_due_to_measles',\n",
       " 'ylds_due_to_diarrheal_diseases',\n",
       " 'ylds_due_to_lower_respiratory_infections',\n",
       " 'simulation_run_time',\n",
       " 'vitamin_a_supplementation.target_coverage']"
      ]
     },
     "execution_count": 6,
     "metadata": {},
     "output_type": "execute_result"
    }
   ],
   "source": [
    "df = df.iloc[:, :]\n",
    "list(df.columns)"
   ]
  },
  {
   "cell_type": "code",
   "execution_count": 7,
   "metadata": {},
   "outputs": [],
   "source": [
    "df['yll_measles_per_py_17_in_age_group_1_to_4'] = df.ylls_due_to_measles_in_2017_in_age_group_1_to_4 / df.person_time_in_2017_in_age_group_1_to_4\n",
    "df['yll_diarrhea_per_py_17_in_age_group_1_to_4'] = df.ylls_due_to_diarrheal_diseases_in_2017_in_age_group_1_to_4 / df.person_time_in_2017_in_age_group_1_to_4\n",
    "df['yll_lri_per_py_17_in_age_group_1_to_4'] = df.ylls_due_to_lower_respiratory_infections_in_2017_in_age_group_1_to_4 / df.person_time_in_2017_in_age_group_1_to_4\n",
    "df['yll_per_py_17_in_age_group_1_to_4'] = df.yll_measles_per_py_17_in_age_group_1_to_4 + df.yll_diarrhea_per_py_17_in_age_group_1_to_4 + df.yll_lri_per_py_17_in_age_group_1_to_4\n",
    "\n",
    "df['yld_measles_per_py_17_in_age_group_1_to_4'] = df.ylds_due_to_measles / df.person_time_in_2017_in_age_group_1_to_4\n",
    "df['yld_diarrhea_per_py_17_in_age_group_1_to_4'] = df.ylds_due_to_diarrheal_diseases / df.person_time_in_2017_in_age_group_1_to_4\n",
    "df['yld_lri_per_py_17_in_age_group_1_to_4'] = df.ylds_due_to_lower_respiratory_infections / df.person_time_in_2017_in_age_group_1_to_4\n",
    "df['yld_per_py_17_in_age_group_1_to_4'] = df.yld_measles_per_py_17_in_age_group_1_to_4 + df.yld_diarrhea_per_py_17_in_age_group_1_to_4 + df.yld_lri_per_py_17_in_age_group_1_to_4\n",
    "\n",
    "df['daly_measles_per_py_17_in_age_group_1_to_4'] = df.yll_measles_per_py_17_in_age_group_1_to_4 + df.yld_measles_per_py_17_in_age_group_1_to_4\n",
    "df['daly_diarrhea_per_py_17_in_age_group_1_to_4'] = df.yll_diarrhea_per_py_17_in_age_group_1_to_4 + df.yld_diarrhea_per_py_17_in_age_group_1_to_4\n",
    "df['daly_lri_per_py_17_in_age_group_1_to_4'] = df.yll_lri_per_py_17_in_age_group_1_to_4 + df.yld_lri_per_py_17_in_age_group_1_to_4\n",
    "df['daly_per_py_17_in_age_group_1_to_4'] = df.daly_measles_per_py_17_in_age_group_1_to_4 + df.daly_diarrhea_per_py_17_in_age_group_1_to_4 + df.daly_lri_per_py_17_in_age_group_1_to_4"
   ]
  },
  {
   "cell_type": "code",
   "execution_count": 8,
   "metadata": {},
   "outputs": [],
   "source": [
    "df['yll_measles_per_py_17_in_age_group_post_neonatal'] = df.ylls_due_to_measles_in_2017_in_age_group_post_neonatal / df.person_time_in_2017_in_age_group_post_neonatal\n",
    "df['yll_diarrhea_per_py_17_in_age_group_post_neonatal'] = df.ylls_due_to_diarrheal_diseases_in_2017_in_age_group_post_neonatal / df.person_time_in_2017_in_age_group_post_neonatal\n",
    "df['yll_lri_per_py_17_in_age_group_post_neonatal'] = df.ylls_due_to_lower_respiratory_infections_in_2017_in_age_group_post_neonatal / df.person_time_in_2017_in_age_group_post_neonatal\n",
    "df['yll_per_py_17_in_age_group_post_neonatal'] = df.yll_measles_per_py_17_in_age_group_post_neonatal + df.yll_diarrhea_per_py_17_in_age_group_post_neonatal + df.yll_lri_per_py_17_in_age_group_post_neonatal\n",
    "\n",
    "df['yld_measles_per_py_17_in_age_group_post_neonatal'] = df.ylds_due_to_measles / df.person_time_in_2017_in_age_group_post_neonatal\n",
    "df['yld_diarrhea_per_py_17_in_age_group_post_neonatal'] = df.ylds_due_to_diarrheal_diseases / df.person_time_in_2017_in_age_group_post_neonatal\n",
    "df['yld_lri_per_py_17_in_age_group_post_neonatal'] = df.ylds_due_to_lower_respiratory_infections / df.person_time_in_2017_in_age_group_post_neonatal\n",
    "df['yld_per_py_17_in_age_group_post_neonatal'] = df.yld_measles_per_py_17_in_age_group_post_neonatal + df.yld_diarrhea_per_py_17_in_age_group_post_neonatal + df.yld_lri_per_py_17_in_age_group_post_neonatal\n",
    "\n",
    "df['daly_measles_per_py_17_in_age_group_post_neonatal'] = df.yll_measles_per_py_17_in_age_group_post_neonatal + df.yld_measles_per_py_17_in_age_group_post_neonatal\n",
    "df['daly_diarrhea_per_py_17_in_age_group_post_neonatal'] = df.yll_diarrhea_per_py_17_in_age_group_post_neonatal + df.yld_diarrhea_per_py_17_in_age_group_post_neonatal\n",
    "df['daly_lri_per_py_17_in_age_group_post_neonatal'] = df.yll_lri_per_py_17_in_age_group_post_neonatal + df.yld_lri_per_py_17_in_age_group_post_neonatal\n",
    "df['daly_per_py_17_in_age_group_post_neonatal'] = df.daly_measles_per_py_17_in_age_group_post_neonatal + df.daly_diarrhea_per_py_17_in_age_group_post_neonatal + df.daly_lri_per_py_17_in_age_group_post_neonatal"
   ]
  },
  {
   "cell_type": "code",
   "execution_count": 9,
   "metadata": {},
   "outputs": [
    {
     "name": "stdout",
     "output_type": "stream",
     "text": [
      "Overall DALY rate in 2017 (1 to 4): 0.3722163805783428\n",
      "Rate of DALYs from measles in 2017 (1 to 4): 0.04406549071406235\n",
      "Rate of DALYs from diarrheal diseases in 2017 (1 to 4): 0.16124663706790784\n",
      "Rate of DALYs from lower respiratory infections in 2017 (1 to 4): 0.16690425279637242\n"
     ]
    }
   ],
   "source": [
    "print(\"Overall DALY rate in 2017 (1 to 4): \" + str(df.daly_per_py_17_in_age_group_1_to_4.mean()))\n",
    "print(\"Rate of DALYs from measles in 2017 (1 to 4): \" + str(df.daly_measles_per_py_17_in_age_group_1_to_4.mean()))\n",
    "print(\"Rate of DALYs from diarrheal diseases in 2017 (1 to 4): \" + str(df.daly_diarrhea_per_py_17_in_age_group_1_to_4.mean()))\n",
    "print(\"Rate of DALYs from lower respiratory infections in 2017 (1 to 4): \" + str(df.daly_lri_per_py_17_in_age_group_1_to_4.mean()))"
   ]
  },
  {
   "cell_type": "code",
   "execution_count": 10,
   "metadata": {},
   "outputs": [
    {
     "name": "stdout",
     "output_type": "stream",
     "text": [
      "Overall YLL rate in 2017 (1 to 4): 0.36759851151870465\n",
      "Rate of YLLs from measles in 2017 (1 to 4): 0.0439317583015093\n",
      "Rate of YLLs from diarrheal diseases in 2017 (1 to 4): 0.1569023639667638\n",
      "Rate of YLLs from lower respiratory infections in 2017 (1 to 4): 0.16676438925043155\n"
     ]
    }
   ],
   "source": [
    "print(\"Overall YLL rate in 2017 (1 to 4): \" + str(df.yll_per_py_17_in_age_group_1_to_4.mean()))\n",
    "print(\"Rate of YLLs from measles in 2017 (1 to 4): \" + str(df.yll_measles_per_py_17_in_age_group_1_to_4.mean()))\n",
    "print(\"Rate of YLLs from diarrheal diseases in 2017 (1 to 4): \" + str(df.yll_diarrhea_per_py_17_in_age_group_1_to_4.mean()))\n",
    "print(\"Rate of YLLs from lower respiratory infections in 2017 (1 to 4): \" + str(df.yll_lri_per_py_17_in_age_group_1_to_4.mean()))"
   ]
  },
  {
   "cell_type": "code",
   "execution_count": 11,
   "metadata": {
    "scrolled": true
   },
   "outputs": [
    {
     "name": "stdout",
     "output_type": "stream",
     "text": [
      "Overall YLD rate in 2017 (1 to 4): 0.004617869059638034\n",
      "Rate of YLDs from measles in 2017 (1 to 4): 0.00013373241255305293\n",
      "Rate of YLDs from diarrheal diseases in 2017 (1 to 4): 0.0043442731011440515\n",
      "Rate of YLDs from lower respiratory infections in 2017 (1 to 4): 0.00013986354594092907\n"
     ]
    }
   ],
   "source": [
    "print(\"Overall YLD rate in 2017 (1 to 4): \" + str(df.yld_per_py_17_in_age_group_1_to_4.mean()))\n",
    "print(\"Rate of YLDs from measles in 2017 (1 to 4): \" + str(df.yld_measles_per_py_17_in_age_group_1_to_4.mean()))\n",
    "print(\"Rate of YLDs from diarrheal diseases in 2017 (1 to 4): \" + str(df.yld_diarrhea_per_py_17_in_age_group_1_to_4.mean()))\n",
    "print(\"Rate of YLDs from lower respiratory infections in 2017 (1 to 4): \" + str(df.yld_lri_per_py_17_in_age_group_1_to_4.mean()))"
   ]
  },
  {
   "cell_type": "code",
   "execution_count": 12,
   "metadata": {},
   "outputs": [
    {
     "name": "stdout",
     "output_type": "stream",
     "text": [
      "Overall DALY rate in 2017 (post neonatal): 1.3980949139583623\n",
      "Rate of DALYs from measles in 2017 (post neonatal): 0.07650126257630321\n",
      "Rate of DALYs from diarrheal diseases in 2017 (post neonatal): 0.7309779302821007\n",
      "Rate of DALYs from lower respiratory infections in 2017 (post neonatal): 0.5906157210999585\n"
     ]
    }
   ],
   "source": [
    "print(\"Overall DALY rate in 2017 (post neonatal): \" + str(df.daly_per_py_17_in_age_group_post_neonatal.mean()))\n",
    "print(\"Rate of DALYs from measles in 2017 (post neonatal): \" + str(df.daly_measles_per_py_17_in_age_group_post_neonatal.mean()))\n",
    "print(\"Rate of DALYs from diarrheal diseases in 2017 (post neonatal): \" + str(df.daly_diarrhea_per_py_17_in_age_group_post_neonatal.mean()))\n",
    "print(\"Rate of DALYs from lower respiratory infections in 2017 (post neonatal): \" + str(df.daly_lri_per_py_17_in_age_group_post_neonatal.mean()))"
   ]
  },
  {
   "cell_type": "code",
   "execution_count": 13,
   "metadata": {},
   "outputs": [
    {
     "name": "stdout",
     "output_type": "stream",
     "text": [
      "Overall YLL rate in 2017 (post neonatal): 1.3796497164818158\n",
      "Rate of YLLs from measles in 2017 (post neonatal): 0.07596710130185497\n",
      "Rate of YLLs from diarrheal diseases in 2017 (post neonatal): 0.7136258101540263\n",
      "Rate of YLLs from lower respiratory infections in 2017 (post neonatal): 0.5900568050259343\n"
     ]
    }
   ],
   "source": [
    "print(\"Overall YLL rate in 2017 (post neonatal): \" + str(df.yll_per_py_17_in_age_group_post_neonatal.mean()))\n",
    "print(\"Rate of YLLs from measles in 2017 (post neonatal): \" + str(df.yll_measles_per_py_17_in_age_group_post_neonatal.mean()))\n",
    "print(\"Rate of YLLs from diarrheal diseases in 2017 (post neonatal): \" + str(df.yll_diarrhea_per_py_17_in_age_group_post_neonatal.mean()))\n",
    "print(\"Rate of YLLs from lower respiratory infections in 2017 (post neonatal): \" + str(df.yll_lri_per_py_17_in_age_group_post_neonatal.mean()))"
   ]
  },
  {
   "cell_type": "code",
   "execution_count": 14,
   "metadata": {},
   "outputs": [
    {
     "name": "stdout",
     "output_type": "stream",
     "text": [
      "Overall YLD rate in 2017 (post neonatal): 0.018445197476546722\n",
      "Rate of YLDs from measles in 2017 (post neonatal): 0.0005341612744482622\n",
      "Rate of YLDs from diarrheal diseases in 2017 (post neonatal): 0.017352120128074106\n",
      "Rate of YLDs from lower respiratory infections in 2017 (post neonatal): 0.000558916074024355\n"
     ]
    }
   ],
   "source": [
    "print(\"Overall YLD rate in 2017 (post neonatal): \" + str(df.yld_per_py_17_in_age_group_post_neonatal.mean()))\n",
    "print(\"Rate of YLDs from measles in 2017 (post neonatal): \" + str(df.yld_measles_per_py_17_in_age_group_post_neonatal.mean()))\n",
    "print(\"Rate of YLDs from diarrheal diseases in 2017 (post neonatal): \" + str(df.yld_diarrhea_per_py_17_in_age_group_post_neonatal.mean()))\n",
    "print(\"Rate of YLDs from lower respiratory infections in 2017 (post neonatal): \" + str(df.yld_lri_per_py_17_in_age_group_post_neonatal.mean()))"
   ]
  },
  {
   "cell_type": "markdown",
   "metadata": {},
   "source": [
    "### Kenya: Baseline Coverage = 0.55, Intrevention Coverage = 0.55"
   ]
  },
  {
   "cell_type": "code",
   "execution_count": 15,
   "metadata": {},
   "outputs": [
    {
     "name": "stdout",
     "output_type": "stream",
     "text": [
      "/share/costeffectiveness/results/kenya/2019_08_08_13_30_26/output.hdf\n"
     ]
    }
   ],
   "source": [
    "# input_draw_count = 100 and population_size = 10_000\n",
    "proj = 'kenya'\n",
    "time = '2019_08_08_13_30_26'\n",
    "\n",
    "fname = f'/share/costeffectiveness/results/{proj}/{time}/output.hdf'\n",
    "print(fname)"
   ]
  },
  {
   "cell_type": "code",
   "execution_count": 16,
   "metadata": {},
   "outputs": [],
   "source": [
    "cov_base = 0.55\n",
    "cov_tar = 0.55"
   ]
  },
  {
   "cell_type": "code",
   "execution_count": 17,
   "metadata": {},
   "outputs": [
    {
     "data": {
      "text/plain": [
       "(100, 69)"
      ]
     },
     "execution_count": 17,
     "metadata": {},
     "output_type": "execute_result"
    }
   ],
   "source": [
    "df = pd.read_hdf(fname)\n",
    "df = df.loc[df['vitamin_a_supplementation.target_coverage'] == cov_tar]\n",
    "df.shape"
   ]
  },
  {
   "cell_type": "code",
   "execution_count": 18,
   "metadata": {},
   "outputs": [
    {
     "data": {
      "text/plain": [
       "array([0.55])"
      ]
     },
     "execution_count": 18,
     "metadata": {},
     "output_type": "execute_result"
    }
   ],
   "source": [
    "df['vitamin_a_supplementation.target_coverage'].unique()"
   ]
  },
  {
   "cell_type": "code",
   "execution_count": 19,
   "metadata": {
    "scrolled": true
   },
   "outputs": [
    {
     "data": {
      "text/plain": [
       "['total_population_untracked',\n",
       " 'total_population_tracked',\n",
       " 'total_population',\n",
       " 'death_due_to_measles_in_2017_in_age_group_early_neonatal',\n",
       " 'death_due_to_measles_in_2017_in_age_group_late_neonatal',\n",
       " 'death_due_to_measles_in_2017_in_age_group_post_neonatal',\n",
       " 'death_due_to_measles_in_2017_in_age_group_1_to_4',\n",
       " 'death_due_to_diarrheal_diseases_in_2017_in_age_group_early_neonatal',\n",
       " 'death_due_to_diarrheal_diseases_in_2017_in_age_group_late_neonatal',\n",
       " 'death_due_to_diarrheal_diseases_in_2017_in_age_group_post_neonatal',\n",
       " 'death_due_to_diarrheal_diseases_in_2017_in_age_group_1_to_4',\n",
       " 'death_due_to_lower_respiratory_infections_in_2017_in_age_group_early_neonatal',\n",
       " 'death_due_to_lower_respiratory_infections_in_2017_in_age_group_late_neonatal',\n",
       " 'death_due_to_lower_respiratory_infections_in_2017_in_age_group_post_neonatal',\n",
       " 'death_due_to_lower_respiratory_infections_in_2017_in_age_group_1_to_4',\n",
       " 'death_due_to_other_causes_in_2017_in_age_group_early_neonatal',\n",
       " 'death_due_to_other_causes_in_2017_in_age_group_late_neonatal',\n",
       " 'death_due_to_other_causes_in_2017_in_age_group_post_neonatal',\n",
       " 'death_due_to_other_causes_in_2017_in_age_group_1_to_4',\n",
       " 'ylls_due_to_measles_in_2017_in_age_group_early_neonatal',\n",
       " 'ylls_due_to_measles_in_2017_in_age_group_late_neonatal',\n",
       " 'ylls_due_to_measles_in_2017_in_age_group_post_neonatal',\n",
       " 'ylls_due_to_measles_in_2017_in_age_group_1_to_4',\n",
       " 'ylls_due_to_lower_respiratory_infections_in_2017_in_age_group_early_neonatal',\n",
       " 'ylls_due_to_lower_respiratory_infections_in_2017_in_age_group_late_neonatal',\n",
       " 'total_population_living',\n",
       " 'total_population_dead',\n",
       " 'vitamin_a_deficiency_cat1_exposed_in_2017_among_early_neonatal',\n",
       " 'vitamin_a_deficiency_cat2_exposed_in_2017_among_early_neonatal',\n",
       " 'vitamin_a_deficiency_cat1_exposed_in_2017_among_late_neonatal',\n",
       " 'vitamin_a_deficiency_cat2_exposed_in_2017_among_late_neonatal',\n",
       " 'vitamin_a_deficiency_cat1_exposed_in_2017_among_post_neonatal',\n",
       " 'vitamin_a_deficiency_cat2_exposed_in_2017_among_post_neonatal',\n",
       " 'vitamin_a_deficiency_cat1_exposed_in_2017_among_1_to_4',\n",
       " 'vitamin_a_deficiency_cat2_exposed_in_2017_among_1_to_4',\n",
       " 'supplemented_days_in_2017',\n",
       " 'measles_prevalent_cases_at_sim_end',\n",
       " 'diarrheal_diseases_prevalent_cases_at_sim_end',\n",
       " 'lower_respiratory_infections_prevalent_cases_at_sim_end',\n",
       " 'susceptible_to_measles_event_count',\n",
       " 'measles_event_count',\n",
       " 'recovered_from_measles_event_count',\n",
       " 'susceptible_to_diarrheal_diseases_event_count',\n",
       " 'diarrheal_diseases_event_count',\n",
       " 'susceptible_to_lower_respiratory_infections_event_count',\n",
       " 'lower_respiratory_infections_event_count',\n",
       " 'input_draw',\n",
       " 'random_seed',\n",
       " 'person_time_in_2017_in_age_group_early_neonatal',\n",
       " 'person_time_in_2017_in_age_group_late_neonatal',\n",
       " 'person_time_in_2017_in_age_group_post_neonatal',\n",
       " 'person_time_in_2017_in_age_group_1_to_4',\n",
       " 'ylls_due_to_diarrheal_diseases_in_2017_in_age_group_early_neonatal',\n",
       " 'ylls_due_to_diarrheal_diseases_in_2017_in_age_group_late_neonatal',\n",
       " 'ylls_due_to_diarrheal_diseases_in_2017_in_age_group_post_neonatal',\n",
       " 'ylls_due_to_diarrheal_diseases_in_2017_in_age_group_1_to_4',\n",
       " 'ylls_due_to_lower_respiratory_infections_in_2017_in_age_group_post_neonatal',\n",
       " 'ylls_due_to_lower_respiratory_infections_in_2017_in_age_group_1_to_4',\n",
       " 'ylls_due_to_other_causes_in_2017_in_age_group_early_neonatal',\n",
       " 'ylls_due_to_other_causes_in_2017_in_age_group_late_neonatal',\n",
       " 'ylls_due_to_other_causes_in_2017_in_age_group_post_neonatal',\n",
       " 'ylls_due_to_other_causes_in_2017_in_age_group_1_to_4',\n",
       " 'years_of_life_lost',\n",
       " 'years_lived_with_disability',\n",
       " 'ylds_due_to_measles',\n",
       " 'ylds_due_to_diarrheal_diseases',\n",
       " 'ylds_due_to_lower_respiratory_infections',\n",
       " 'simulation_run_time',\n",
       " 'vitamin_a_supplementation.target_coverage']"
      ]
     },
     "execution_count": 19,
     "metadata": {},
     "output_type": "execute_result"
    }
   ],
   "source": [
    "df = df.iloc[:, :]\n",
    "list(df.columns)"
   ]
  },
  {
   "cell_type": "code",
   "execution_count": 20,
   "metadata": {},
   "outputs": [],
   "source": [
    "df['yll_measles_per_py_17_in_age_group_1_to_4'] = df.ylls_due_to_measles_in_2017_in_age_group_1_to_4 / df.person_time_in_2017_in_age_group_1_to_4\n",
    "df['yll_diarrhea_per_py_17_in_age_group_1_to_4'] = df.ylls_due_to_diarrheal_diseases_in_2017_in_age_group_1_to_4 / df.person_time_in_2017_in_age_group_1_to_4\n",
    "df['yll_lri_per_py_17_in_age_group_1_to_4'] = df.ylls_due_to_lower_respiratory_infections_in_2017_in_age_group_1_to_4 / df.person_time_in_2017_in_age_group_1_to_4\n",
    "df['yll_per_py_17_in_age_group_1_to_4'] = df.yll_measles_per_py_17_in_age_group_1_to_4 + df.yll_diarrhea_per_py_17_in_age_group_1_to_4 + df.yll_lri_per_py_17_in_age_group_1_to_4\n",
    "\n",
    "df['yld_measles_per_py_17_in_age_group_1_to_4'] = df.ylds_due_to_measles / df.person_time_in_2017_in_age_group_1_to_4\n",
    "df['yld_diarrhea_per_py_17_in_age_group_1_to_4'] = df.ylds_due_to_diarrheal_diseases / df.person_time_in_2017_in_age_group_1_to_4\n",
    "df['yld_lri_per_py_17_in_age_group_1_to_4'] = df.ylds_due_to_lower_respiratory_infections / df.person_time_in_2017_in_age_group_1_to_4\n",
    "df['yld_per_py_17_in_age_group_1_to_4'] = df.yld_measles_per_py_17_in_age_group_1_to_4 + df.yld_diarrhea_per_py_17_in_age_group_1_to_4 + df.yld_lri_per_py_17_in_age_group_1_to_4\n",
    "\n",
    "df['daly_measles_per_py_17_in_age_group_1_to_4'] = df.yll_measles_per_py_17_in_age_group_1_to_4 + df.yld_measles_per_py_17_in_age_group_1_to_4\n",
    "df['daly_diarrhea_per_py_17_in_age_group_1_to_4'] = df.yll_diarrhea_per_py_17_in_age_group_1_to_4 + df.yld_diarrhea_per_py_17_in_age_group_1_to_4\n",
    "df['daly_lri_per_py_17_in_age_group_1_to_4'] = df.yll_lri_per_py_17_in_age_group_1_to_4 + df.yld_lri_per_py_17_in_age_group_1_to_4\n",
    "df['daly_per_py_17_in_age_group_1_to_4'] = df.daly_measles_per_py_17_in_age_group_1_to_4 + df.daly_diarrhea_per_py_17_in_age_group_1_to_4 + df.daly_lri_per_py_17_in_age_group_1_to_4"
   ]
  },
  {
   "cell_type": "code",
   "execution_count": 21,
   "metadata": {},
   "outputs": [],
   "source": [
    "df['yll_measles_per_py_17_in_age_group_post_neonatal'] = df.ylls_due_to_measles_in_2017_in_age_group_post_neonatal / df.person_time_in_2017_in_age_group_post_neonatal\n",
    "df['yll_diarrhea_per_py_17_in_age_group_post_neonatal'] = df.ylls_due_to_diarrheal_diseases_in_2017_in_age_group_post_neonatal / df.person_time_in_2017_in_age_group_post_neonatal\n",
    "df['yll_lri_per_py_17_in_age_group_post_neonatal'] = df.ylls_due_to_lower_respiratory_infections_in_2017_in_age_group_post_neonatal / df.person_time_in_2017_in_age_group_post_neonatal\n",
    "df['yll_per_py_17_in_age_group_post_neonatal'] = df.yll_measles_per_py_17_in_age_group_post_neonatal + df.yll_diarrhea_per_py_17_in_age_group_post_neonatal + df.yll_lri_per_py_17_in_age_group_post_neonatal\n",
    "\n",
    "df['yld_measles_per_py_17_in_age_group_post_neonatal'] = df.ylds_due_to_measles / df.person_time_in_2017_in_age_group_post_neonatal\n",
    "df['yld_diarrhea_per_py_17_in_age_group_post_neonatal'] = df.ylds_due_to_diarrheal_diseases / df.person_time_in_2017_in_age_group_post_neonatal\n",
    "df['yld_lri_per_py_17_in_age_group_post_neonatal'] = df.ylds_due_to_lower_respiratory_infections / df.person_time_in_2017_in_age_group_post_neonatal\n",
    "df['yld_per_py_17_in_age_group_post_neonatal'] = df.yld_measles_per_py_17_in_age_group_post_neonatal + df.yld_diarrhea_per_py_17_in_age_group_post_neonatal + df.yld_lri_per_py_17_in_age_group_post_neonatal\n",
    "\n",
    "df['daly_measles_per_py_17_in_age_group_post_neonatal'] = df.yll_measles_per_py_17_in_age_group_post_neonatal + df.yld_measles_per_py_17_in_age_group_post_neonatal\n",
    "df['daly_diarrhea_per_py_17_in_age_group_post_neonatal'] = df.yll_diarrhea_per_py_17_in_age_group_post_neonatal + df.yld_diarrhea_per_py_17_in_age_group_post_neonatal\n",
    "df['daly_lri_per_py_17_in_age_group_post_neonatal'] = df.yll_lri_per_py_17_in_age_group_post_neonatal + df.yld_lri_per_py_17_in_age_group_post_neonatal\n",
    "df['daly_per_py_17_in_age_group_post_neonatal'] = df.daly_measles_per_py_17_in_age_group_post_neonatal + df.daly_diarrhea_per_py_17_in_age_group_post_neonatal + df.daly_lri_per_py_17_in_age_group_post_neonatal"
   ]
  },
  {
   "cell_type": "code",
   "execution_count": 22,
   "metadata": {},
   "outputs": [
    {
     "name": "stdout",
     "output_type": "stream",
     "text": [
      "Overall DALY rate in 2017 (1 to 4): 0.09766600912211963\n",
      "Rate of DALYs from measles in 2017 (1 to 4): 0.008165595452249454\n",
      "Rate of DALYs from diarrheal diseases in 2017 (1 to 4): 0.0547451475467746\n",
      "Rate of DALYs from lower respiratory infections in 2017 (1 to 4): 0.03475526612309556\n"
     ]
    }
   ],
   "source": [
    "print(\"Overall DALY rate in 2017 (1 to 4): \" + str(df.daly_per_py_17_in_age_group_1_to_4.mean()))\n",
    "print(\"Rate of DALYs from measles in 2017 (1 to 4): \" + str(df.daly_measles_per_py_17_in_age_group_1_to_4.mean()))\n",
    "print(\"Rate of DALYs from diarrheal diseases in 2017 (1 to 4): \" + str(df.daly_diarrhea_per_py_17_in_age_group_1_to_4.mean()))\n",
    "print(\"Rate of DALYs from lower respiratory infections in 2017 (1 to 4): \" + str(df.daly_lri_per_py_17_in_age_group_1_to_4.mean()))"
   ]
  },
  {
   "cell_type": "code",
   "execution_count": 23,
   "metadata": {},
   "outputs": [
    {
     "name": "stdout",
     "output_type": "stream",
     "text": [
      "Overall YLL rate in 2017 (1 to 4): 0.09240888246487865\n",
      "Rate of YLLs from measles in 2017 (1 to 4): 0.008123894700568728\n",
      "Rate of YLLs from diarrheal diseases in 2017 (1 to 4): 0.04981867146816258\n",
      "Rate of YLLs from lower respiratory infections in 2017 (1 to 4): 0.034466316296147326\n"
     ]
    }
   ],
   "source": [
    "print(\"Overall YLL rate in 2017 (1 to 4): \" + str(df.yll_per_py_17_in_age_group_1_to_4.mean()))\n",
    "print(\"Rate of YLLs from measles in 2017 (1 to 4): \" + str(df.yll_measles_per_py_17_in_age_group_1_to_4.mean()))\n",
    "print(\"Rate of YLLs from diarrheal diseases in 2017 (1 to 4): \" + str(df.yll_diarrhea_per_py_17_in_age_group_1_to_4.mean()))\n",
    "print(\"Rate of YLLs from lower respiratory infections in 2017 (1 to 4): \" + str(df.yll_lri_per_py_17_in_age_group_1_to_4.mean()))"
   ]
  },
  {
   "cell_type": "code",
   "execution_count": 24,
   "metadata": {
    "scrolled": true
   },
   "outputs": [
    {
     "name": "stdout",
     "output_type": "stream",
     "text": [
      "Overall YLD rate in 2017 (1 to 4): 0.005257126657240987\n",
      "Rate of YLDs from measles in 2017 (1 to 4): 4.170075168072596e-05\n",
      "Rate of YLDs from diarrheal diseases in 2017 (1 to 4): 0.004926476078612028\n",
      "Rate of YLDs from lower respiratory infections in 2017 (1 to 4): 0.00028894982694823297\n"
     ]
    }
   ],
   "source": [
    "print(\"Overall YLD rate in 2017 (1 to 4): \" + str(df.yld_per_py_17_in_age_group_1_to_4.mean()))\n",
    "print(\"Rate of YLDs from measles in 2017 (1 to 4): \" + str(df.yld_measles_per_py_17_in_age_group_1_to_4.mean()))\n",
    "print(\"Rate of YLDs from diarrheal diseases in 2017 (1 to 4): \" + str(df.yld_diarrhea_per_py_17_in_age_group_1_to_4.mean()))\n",
    "print(\"Rate of YLDs from lower respiratory infections in 2017 (1 to 4): \" + str(df.yld_lri_per_py_17_in_age_group_1_to_4.mean()))"
   ]
  },
  {
   "cell_type": "code",
   "execution_count": 25,
   "metadata": {},
   "outputs": [
    {
     "name": "stdout",
     "output_type": "stream",
     "text": [
      "Overall DALY rate in 2017 (post neonatal): 0.6251937507979034\n",
      "Rate of DALYs from measles in 2017 (post neonatal): 0.013773800972759771\n",
      "Rate of DALYs from diarrheal diseases in 2017 (post neonatal): 0.3483127118428049\n",
      "Rate of DALYs from lower respiratory infections in 2017 (post neonatal): 0.2631072379823387\n"
     ]
    }
   ],
   "source": [
    "print(\"Overall DALY rate in 2017 (post neonatal): \" + str(df.daly_per_py_17_in_age_group_post_neonatal.mean()))\n",
    "print(\"Rate of DALYs from measles in 2017 (post neonatal): \" + str(df.daly_measles_per_py_17_in_age_group_post_neonatal.mean()))\n",
    "print(\"Rate of DALYs from diarrheal diseases in 2017 (post neonatal): \" + str(df.daly_diarrhea_per_py_17_in_age_group_post_neonatal.mean()))\n",
    "print(\"Rate of DALYs from lower respiratory infections in 2017 (post neonatal): \" + str(df.daly_lri_per_py_17_in_age_group_post_neonatal.mean()))"
   ]
  },
  {
   "cell_type": "code",
   "execution_count": 26,
   "metadata": {},
   "outputs": [
    {
     "name": "stdout",
     "output_type": "stream",
     "text": [
      "Overall YLL rate in 2017 (post neonatal): 0.6028014531475985\n",
      "Rate of YLLs from measles in 2017 (post neonatal): 0.013596072710123523\n",
      "Rate of YLLs from diarrheal diseases in 2017 (post neonatal): 0.3273299919064157\n",
      "Rate of YLLs from lower respiratory infections in 2017 (post neonatal): 0.2618753885310592\n"
     ]
    }
   ],
   "source": [
    "print(\"Overall YLL rate in 2017 (post neonatal): \" + str(df.yll_per_py_17_in_age_group_post_neonatal.mean()))\n",
    "print(\"Rate of YLLs from measles in 2017 (post neonatal): \" + str(df.yll_measles_per_py_17_in_age_group_post_neonatal.mean()))\n",
    "print(\"Rate of YLLs from diarrheal diseases in 2017 (post neonatal): \" + str(df.yll_diarrhea_per_py_17_in_age_group_post_neonatal.mean()))\n",
    "print(\"Rate of YLLs from lower respiratory infections in 2017 (post neonatal): \" + str(df.yll_lri_per_py_17_in_age_group_post_neonatal.mean()))"
   ]
  },
  {
   "cell_type": "code",
   "execution_count": 27,
   "metadata": {},
   "outputs": [
    {
     "name": "stdout",
     "output_type": "stream",
     "text": [
      "Overall YLD rate in 2017 (post neonatal): 0.022392297650305003\n",
      "Rate of YLDs from measles in 2017 (post neonatal): 0.0001777282626362478\n",
      "Rate of YLDs from diarrheal diseases in 2017 (post neonatal): 0.020982719936389158\n",
      "Rate of YLDs from lower respiratory infections in 2017 (post neonatal): 0.0012318494512795967\n"
     ]
    }
   ],
   "source": [
    "print(\"Overall YLD rate in 2017 (post neonatal): \" + str(df.yld_per_py_17_in_age_group_post_neonatal.mean()))\n",
    "print(\"Rate of YLDs from measles in 2017 (post neonatal): \" + str(df.yld_measles_per_py_17_in_age_group_post_neonatal.mean()))\n",
    "print(\"Rate of YLDs from diarrheal diseases in 2017 (post neonatal): \" + str(df.yld_diarrhea_per_py_17_in_age_group_post_neonatal.mean()))\n",
    "print(\"Rate of YLDs from lower respiratory infections in 2017 (post neonatal): \" + str(df.yld_lri_per_py_17_in_age_group_post_neonatal.mean()))"
   ]
  },
  {
   "cell_type": "markdown",
   "metadata": {},
   "source": [
    "### Burkina Faso: Baseline Coverage = 0.88, Intrevention Coverage = 0.88"
   ]
  },
  {
   "cell_type": "code",
   "execution_count": 28,
   "metadata": {},
   "outputs": [
    {
     "name": "stdout",
     "output_type": "stream",
     "text": [
      "/share/costeffectiveness/results/burkina_faso/2019_08_08_13_18_50/output.hdf\n"
     ]
    }
   ],
   "source": [
    "# input_draw_count = 100 and population_size = 10_000\n",
    "proj = 'burkina_faso'\n",
    "time = '2019_08_08_13_18_50'\n",
    "\n",
    "fname = f'/share/costeffectiveness/results/{proj}/{time}/output.hdf'\n",
    "print(fname)"
   ]
  },
  {
   "cell_type": "code",
   "execution_count": 29,
   "metadata": {},
   "outputs": [],
   "source": [
    "cov_base = 0.88\n",
    "cov_tar = 0.88"
   ]
  },
  {
   "cell_type": "code",
   "execution_count": 30,
   "metadata": {},
   "outputs": [
    {
     "data": {
      "text/plain": [
       "(100, 69)"
      ]
     },
     "execution_count": 30,
     "metadata": {},
     "output_type": "execute_result"
    }
   ],
   "source": [
    "df = pd.read_hdf(fname)\n",
    "df = df.loc[df['vitamin_a_supplementation.target_coverage'] == cov_tar]\n",
    "df.shape"
   ]
  },
  {
   "cell_type": "code",
   "execution_count": 31,
   "metadata": {},
   "outputs": [
    {
     "data": {
      "text/plain": [
       "array([0.88])"
      ]
     },
     "execution_count": 31,
     "metadata": {},
     "output_type": "execute_result"
    }
   ],
   "source": [
    "df['vitamin_a_supplementation.target_coverage'].unique()"
   ]
  },
  {
   "cell_type": "code",
   "execution_count": 32,
   "metadata": {
    "scrolled": true
   },
   "outputs": [
    {
     "data": {
      "text/plain": [
       "['total_population_untracked',\n",
       " 'total_population_tracked',\n",
       " 'total_population',\n",
       " 'death_due_to_measles_in_2017_in_age_group_early_neonatal',\n",
       " 'death_due_to_measles_in_2017_in_age_group_late_neonatal',\n",
       " 'death_due_to_measles_in_2017_in_age_group_post_neonatal',\n",
       " 'death_due_to_measles_in_2017_in_age_group_1_to_4',\n",
       " 'death_due_to_diarrheal_diseases_in_2017_in_age_group_early_neonatal',\n",
       " 'death_due_to_diarrheal_diseases_in_2017_in_age_group_late_neonatal',\n",
       " 'death_due_to_diarrheal_diseases_in_2017_in_age_group_post_neonatal',\n",
       " 'death_due_to_diarrheal_diseases_in_2017_in_age_group_1_to_4',\n",
       " 'death_due_to_lower_respiratory_infections_in_2017_in_age_group_early_neonatal',\n",
       " 'death_due_to_lower_respiratory_infections_in_2017_in_age_group_late_neonatal',\n",
       " 'death_due_to_lower_respiratory_infections_in_2017_in_age_group_post_neonatal',\n",
       " 'death_due_to_lower_respiratory_infections_in_2017_in_age_group_1_to_4',\n",
       " 'death_due_to_other_causes_in_2017_in_age_group_early_neonatal',\n",
       " 'death_due_to_other_causes_in_2017_in_age_group_late_neonatal',\n",
       " 'death_due_to_other_causes_in_2017_in_age_group_post_neonatal',\n",
       " 'death_due_to_other_causes_in_2017_in_age_group_1_to_4',\n",
       " 'ylls_due_to_measles_in_2017_in_age_group_early_neonatal',\n",
       " 'ylls_due_to_measles_in_2017_in_age_group_late_neonatal',\n",
       " 'ylls_due_to_lower_respiratory_infections_in_2017_in_age_group_early_neonatal',\n",
       " 'total_population_living',\n",
       " 'total_population_dead',\n",
       " 'vitamin_a_deficiency_cat1_exposed_in_2017_among_early_neonatal',\n",
       " 'vitamin_a_deficiency_cat2_exposed_in_2017_among_early_neonatal',\n",
       " 'vitamin_a_deficiency_cat1_exposed_in_2017_among_late_neonatal',\n",
       " 'vitamin_a_deficiency_cat2_exposed_in_2017_among_late_neonatal',\n",
       " 'vitamin_a_deficiency_cat1_exposed_in_2017_among_post_neonatal',\n",
       " 'vitamin_a_deficiency_cat2_exposed_in_2017_among_post_neonatal',\n",
       " 'vitamin_a_deficiency_cat1_exposed_in_2017_among_1_to_4',\n",
       " 'vitamin_a_deficiency_cat2_exposed_in_2017_among_1_to_4',\n",
       " 'supplemented_days_in_2017',\n",
       " 'measles_prevalent_cases_at_sim_end',\n",
       " 'diarrheal_diseases_prevalent_cases_at_sim_end',\n",
       " 'lower_respiratory_infections_prevalent_cases_at_sim_end',\n",
       " 'susceptible_to_measles_event_count',\n",
       " 'measles_event_count',\n",
       " 'recovered_from_measles_event_count',\n",
       " 'susceptible_to_diarrheal_diseases_event_count',\n",
       " 'diarrheal_diseases_event_count',\n",
       " 'susceptible_to_lower_respiratory_infections_event_count',\n",
       " 'lower_respiratory_infections_event_count',\n",
       " 'input_draw',\n",
       " 'random_seed',\n",
       " 'person_time_in_2017_in_age_group_early_neonatal',\n",
       " 'person_time_in_2017_in_age_group_late_neonatal',\n",
       " 'person_time_in_2017_in_age_group_post_neonatal',\n",
       " 'person_time_in_2017_in_age_group_1_to_4',\n",
       " 'ylls_due_to_measles_in_2017_in_age_group_post_neonatal',\n",
       " 'ylls_due_to_measles_in_2017_in_age_group_1_to_4',\n",
       " 'ylls_due_to_diarrheal_diseases_in_2017_in_age_group_early_neonatal',\n",
       " 'ylls_due_to_diarrheal_diseases_in_2017_in_age_group_late_neonatal',\n",
       " 'ylls_due_to_diarrheal_diseases_in_2017_in_age_group_post_neonatal',\n",
       " 'ylls_due_to_diarrheal_diseases_in_2017_in_age_group_1_to_4',\n",
       " 'ylls_due_to_lower_respiratory_infections_in_2017_in_age_group_late_neonatal',\n",
       " 'ylls_due_to_lower_respiratory_infections_in_2017_in_age_group_post_neonatal',\n",
       " 'ylls_due_to_lower_respiratory_infections_in_2017_in_age_group_1_to_4',\n",
       " 'ylls_due_to_other_causes_in_2017_in_age_group_early_neonatal',\n",
       " 'ylls_due_to_other_causes_in_2017_in_age_group_late_neonatal',\n",
       " 'ylls_due_to_other_causes_in_2017_in_age_group_post_neonatal',\n",
       " 'ylls_due_to_other_causes_in_2017_in_age_group_1_to_4',\n",
       " 'years_of_life_lost',\n",
       " 'years_lived_with_disability',\n",
       " 'ylds_due_to_measles',\n",
       " 'ylds_due_to_diarrheal_diseases',\n",
       " 'ylds_due_to_lower_respiratory_infections',\n",
       " 'simulation_run_time',\n",
       " 'vitamin_a_supplementation.target_coverage']"
      ]
     },
     "execution_count": 32,
     "metadata": {},
     "output_type": "execute_result"
    }
   ],
   "source": [
    "df = df.iloc[:, :]\n",
    "list(df.columns)"
   ]
  },
  {
   "cell_type": "code",
   "execution_count": 33,
   "metadata": {},
   "outputs": [],
   "source": [
    "df['yll_measles_per_py_17_in_age_group_1_to_4'] = df.ylls_due_to_measles_in_2017_in_age_group_1_to_4 / df.person_time_in_2017_in_age_group_1_to_4\n",
    "df['yll_diarrhea_per_py_17_in_age_group_1_to_4'] = df.ylls_due_to_diarrheal_diseases_in_2017_in_age_group_1_to_4 / df.person_time_in_2017_in_age_group_1_to_4\n",
    "df['yll_lri_per_py_17_in_age_group_1_to_4'] = df.ylls_due_to_lower_respiratory_infections_in_2017_in_age_group_1_to_4 / df.person_time_in_2017_in_age_group_1_to_4\n",
    "df['yll_per_py_17_in_age_group_1_to_4'] = df.yll_measles_per_py_17_in_age_group_1_to_4 + df.yll_diarrhea_per_py_17_in_age_group_1_to_4 + df.yll_lri_per_py_17_in_age_group_1_to_4\n",
    "\n",
    "df['yld_measles_per_py_17_in_age_group_1_to_4'] = df.ylds_due_to_measles / df.person_time_in_2017_in_age_group_1_to_4\n",
    "df['yld_diarrhea_per_py_17_in_age_group_1_to_4'] = df.ylds_due_to_diarrheal_diseases / df.person_time_in_2017_in_age_group_1_to_4\n",
    "df['yld_lri_per_py_17_in_age_group_1_to_4'] = df.ylds_due_to_lower_respiratory_infections / df.person_time_in_2017_in_age_group_1_to_4\n",
    "df['yld_per_py_17_in_age_group_1_to_4'] = df.yld_measles_per_py_17_in_age_group_1_to_4 + df.yld_diarrhea_per_py_17_in_age_group_1_to_4 + df.yld_lri_per_py_17_in_age_group_1_to_4\n",
    "\n",
    "df['daly_measles_per_py_17_in_age_group_1_to_4'] = df.yll_measles_per_py_17_in_age_group_1_to_4 + df.yld_measles_per_py_17_in_age_group_1_to_4\n",
    "df['daly_diarrhea_per_py_17_in_age_group_1_to_4'] = df.yll_diarrhea_per_py_17_in_age_group_1_to_4 + df.yld_diarrhea_per_py_17_in_age_group_1_to_4\n",
    "df['daly_lri_per_py_17_in_age_group_1_to_4'] = df.yll_lri_per_py_17_in_age_group_1_to_4 + df.yld_lri_per_py_17_in_age_group_1_to_4\n",
    "df['daly_per_py_17_in_age_group_1_to_4'] = df.daly_measles_per_py_17_in_age_group_1_to_4 + df.daly_diarrhea_per_py_17_in_age_group_1_to_4 + df.daly_lri_per_py_17_in_age_group_1_to_4"
   ]
  },
  {
   "cell_type": "code",
   "execution_count": 34,
   "metadata": {},
   "outputs": [],
   "source": [
    "df['yll_measles_per_py_17_in_age_group_post_neonatal'] = df.ylls_due_to_measles_in_2017_in_age_group_post_neonatal / df.person_time_in_2017_in_age_group_post_neonatal\n",
    "df['yll_diarrhea_per_py_17_in_age_group_post_neonatal'] = df.ylls_due_to_diarrheal_diseases_in_2017_in_age_group_post_neonatal / df.person_time_in_2017_in_age_group_post_neonatal\n",
    "df['yll_lri_per_py_17_in_age_group_post_neonatal'] = df.ylls_due_to_lower_respiratory_infections_in_2017_in_age_group_post_neonatal / df.person_time_in_2017_in_age_group_post_neonatal\n",
    "df['yll_per_py_17_in_age_group_post_neonatal'] = df.yll_measles_per_py_17_in_age_group_post_neonatal + df.yll_diarrhea_per_py_17_in_age_group_post_neonatal + df.yll_lri_per_py_17_in_age_group_post_neonatal\n",
    "\n",
    "df['yld_measles_per_py_17_in_age_group_post_neonatal'] = df.ylds_due_to_measles / df.person_time_in_2017_in_age_group_post_neonatal\n",
    "df['yld_diarrhea_per_py_17_in_age_group_post_neonatal'] = df.ylds_due_to_diarrheal_diseases / df.person_time_in_2017_in_age_group_post_neonatal\n",
    "df['yld_lri_per_py_17_in_age_group_post_neonatal'] = df.ylds_due_to_lower_respiratory_infections / df.person_time_in_2017_in_age_group_post_neonatal\n",
    "df['yld_per_py_17_in_age_group_post_neonatal'] = df.yld_measles_per_py_17_in_age_group_post_neonatal + df.yld_diarrhea_per_py_17_in_age_group_post_neonatal + df.yld_lri_per_py_17_in_age_group_post_neonatal\n",
    "\n",
    "df['daly_measles_per_py_17_in_age_group_post_neonatal'] = df.yll_measles_per_py_17_in_age_group_post_neonatal + df.yld_measles_per_py_17_in_age_group_post_neonatal\n",
    "df['daly_diarrhea_per_py_17_in_age_group_post_neonatal'] = df.yll_diarrhea_per_py_17_in_age_group_post_neonatal + df.yld_diarrhea_per_py_17_in_age_group_post_neonatal\n",
    "df['daly_lri_per_py_17_in_age_group_post_neonatal'] = df.yll_lri_per_py_17_in_age_group_post_neonatal + df.yld_lri_per_py_17_in_age_group_post_neonatal\n",
    "df['daly_per_py_17_in_age_group_post_neonatal'] = df.daly_measles_per_py_17_in_age_group_post_neonatal + df.daly_diarrhea_per_py_17_in_age_group_post_neonatal + df.daly_lri_per_py_17_in_age_group_post_neonatal"
   ]
  },
  {
   "cell_type": "code",
   "execution_count": 35,
   "metadata": {},
   "outputs": [
    {
     "name": "stdout",
     "output_type": "stream",
     "text": [
      "Overall DALY rate in 2017 (1 to 4): 0.24506056874854848\n",
      "Rate of DALYs from measles in 2017 (1 to 4): 0.016965440410768064\n",
      "Rate of DALYs from diarrheal diseases in 2017 (1 to 4): 0.10499534567508485\n",
      "Rate of DALYs from lower respiratory infections in 2017 (1 to 4): 0.12309978266269558\n"
     ]
    }
   ],
   "source": [
    "print(\"Overall DALY rate in 2017 (1 to 4): \" + str(df.daly_per_py_17_in_age_group_1_to_4.mean()))\n",
    "print(\"Rate of DALYs from measles in 2017 (1 to 4): \" + str(df.daly_measles_per_py_17_in_age_group_1_to_4.mean()))\n",
    "print(\"Rate of DALYs from diarrheal diseases in 2017 (1 to 4): \" + str(df.daly_diarrhea_per_py_17_in_age_group_1_to_4.mean()))\n",
    "print(\"Rate of DALYs from lower respiratory infections in 2017 (1 to 4): \" + str(df.daly_lri_per_py_17_in_age_group_1_to_4.mean()))"
   ]
  },
  {
   "cell_type": "code",
   "execution_count": 36,
   "metadata": {},
   "outputs": [
    {
     "name": "stdout",
     "output_type": "stream",
     "text": [
      "Overall YLL rate in 2017 (1 to 4): 0.23921495569715145\n",
      "Rate of YLLs from measles in 2017 (1 to 4): 0.016927007044794454\n",
      "Rate of YLLs from diarrheal diseases in 2017 (1 to 4): 0.09935190807680973\n",
      "Rate of YLLs from lower respiratory infections in 2017 (1 to 4): 0.12293604057554729\n"
     ]
    }
   ],
   "source": [
    "print(\"Overall YLL rate in 2017 (1 to 4): \" + str(df.yll_per_py_17_in_age_group_1_to_4.mean()))\n",
    "print(\"Rate of YLLs from measles in 2017 (1 to 4): \" + str(df.yll_measles_per_py_17_in_age_group_1_to_4.mean()))\n",
    "print(\"Rate of YLLs from diarrheal diseases in 2017 (1 to 4): \" + str(df.yll_diarrhea_per_py_17_in_age_group_1_to_4.mean()))\n",
    "print(\"Rate of YLLs from lower respiratory infections in 2017 (1 to 4): \" + str(df.yll_lri_per_py_17_in_age_group_1_to_4.mean()))"
   ]
  },
  {
   "cell_type": "code",
   "execution_count": 37,
   "metadata": {
    "scrolled": true
   },
   "outputs": [
    {
     "name": "stdout",
     "output_type": "stream",
     "text": [
      "Overall YLD rate in 2017 (1 to 4): 0.00584561305139704\n",
      "Rate of YLDs from measles in 2017 (1 to 4): 3.8433365973610855e-05\n",
      "Rate of YLDs from diarrheal diseases in 2017 (1 to 4): 0.005643437598275136\n",
      "Rate of YLDs from lower respiratory infections in 2017 (1 to 4): 0.00016374208714829217\n"
     ]
    }
   ],
   "source": [
    "print(\"Overall YLD rate in 2017 (1 to 4): \" + str(df.yld_per_py_17_in_age_group_1_to_4.mean()))\n",
    "print(\"Rate of YLDs from measles in 2017 (1 to 4): \" + str(df.yld_measles_per_py_17_in_age_group_1_to_4.mean()))\n",
    "print(\"Rate of YLDs from diarrheal diseases in 2017 (1 to 4): \" + str(df.yld_diarrhea_per_py_17_in_age_group_1_to_4.mean()))\n",
    "print(\"Rate of YLDs from lower respiratory infections in 2017 (1 to 4): \" + str(df.yld_lri_per_py_17_in_age_group_1_to_4.mean()))"
   ]
  },
  {
   "cell_type": "code",
   "execution_count": 38,
   "metadata": {},
   "outputs": [
    {
     "name": "stdout",
     "output_type": "stream",
     "text": [
      "Overall DALY rate in 2017 (post neonatal): 1.1166000617761156\n",
      "Rate of DALYs from measles in 2017 (post neonatal): 0.03176055908056777\n",
      "Rate of DALYs from diarrheal diseases in 2017 (post neonatal): 0.48642622804489927\n",
      "Rate of DALYs from lower respiratory infections in 2017 (post neonatal): 0.5984132746506483\n"
     ]
    }
   ],
   "source": [
    "print(\"Overall DALY rate in 2017 (post neonatal): \" + str(df.daly_per_py_17_in_age_group_post_neonatal.mean()))\n",
    "print(\"Rate of DALYs from measles in 2017 (post neonatal): \" + str(df.daly_measles_per_py_17_in_age_group_post_neonatal.mean()))\n",
    "print(\"Rate of DALYs from diarrheal diseases in 2017 (post neonatal): \" + str(df.daly_diarrhea_per_py_17_in_age_group_post_neonatal.mean()))\n",
    "print(\"Rate of DALYs from lower respiratory infections in 2017 (post neonatal): \" + str(df.daly_lri_per_py_17_in_age_group_post_neonatal.mean()))"
   ]
  },
  {
   "cell_type": "code",
   "execution_count": 39,
   "metadata": {},
   "outputs": [
    {
     "name": "stdout",
     "output_type": "stream",
     "text": [
      "Overall YLL rate in 2017 (post neonatal): 1.0934430573359164\n",
      "Rate of YLLs from measles in 2017 (post neonatal): 0.03160833238635908\n",
      "Rate of YLLs from diarrheal diseases in 2017 (post neonatal): 0.4640704412241082\n",
      "Rate of YLLs from lower respiratory infections in 2017 (post neonatal): 0.5977642837254493\n"
     ]
    }
   ],
   "source": [
    "print(\"Overall YLL rate in 2017 (post neonatal): \" + str(df.yll_per_py_17_in_age_group_post_neonatal.mean()))\n",
    "print(\"Rate of YLLs from measles in 2017 (post neonatal): \" + str(df.yll_measles_per_py_17_in_age_group_post_neonatal.mean()))\n",
    "print(\"Rate of YLLs from diarrheal diseases in 2017 (post neonatal): \" + str(df.yll_diarrhea_per_py_17_in_age_group_post_neonatal.mean()))\n",
    "print(\"Rate of YLLs from lower respiratory infections in 2017 (post neonatal): \" + str(df.yll_lri_per_py_17_in_age_group_post_neonatal.mean()))"
   ]
  },
  {
   "cell_type": "code",
   "execution_count": 40,
   "metadata": {},
   "outputs": [
    {
     "name": "stdout",
     "output_type": "stream",
     "text": [
      "Overall YLD rate in 2017 (post neonatal): 0.02315700444019883\n",
      "Rate of YLDs from measles in 2017 (post neonatal): 0.00015222669420869217\n",
      "Rate of YLDs from diarrheal diseases in 2017 (post neonatal): 0.02235578682079109\n",
      "Rate of YLDs from lower respiratory infections in 2017 (post neonatal): 0.0006489909251990439\n"
     ]
    }
   ],
   "source": [
    "print(\"Overall YLD rate in 2017 (post neonatal): \" + str(df.yld_per_py_17_in_age_group_post_neonatal.mean()))\n",
    "print(\"Rate of YLDs from measles in 2017 (post neonatal): \" + str(df.yld_measles_per_py_17_in_age_group_post_neonatal.mean()))\n",
    "print(\"Rate of YLDs from diarrheal diseases in 2017 (post neonatal): \" + str(df.yld_diarrhea_per_py_17_in_age_group_post_neonatal.mean()))\n",
    "print(\"Rate of YLDs from lower respiratory infections in 2017 (post neonatal): \" + str(df.yld_lri_per_py_17_in_age_group_post_neonatal.mean()))"
   ]
  }
 ],
 "metadata": {
  "kernelspec": {
   "display_name": "Python 3",
   "language": "python",
   "name": "python3"
  },
  "language_info": {
   "codemirror_mode": {
    "name": "ipython",
    "version": 3
   },
   "file_extension": ".py",
   "mimetype": "text/x-python",
   "name": "python",
   "nbconvert_exporter": "python",
   "pygments_lexer": "ipython3",
   "version": "3.6.8"
  }
 },
 "nbformat": 4,
 "nbformat_minor": 2
}
